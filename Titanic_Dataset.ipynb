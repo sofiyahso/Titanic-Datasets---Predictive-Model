{
  "nbformat": 4,
  "nbformat_minor": 0,
  "metadata": {
    "colab": {
      "provenance": [],
      "collapsed_sections": []
    },
    "kernelspec": {
      "name": "python3",
      "display_name": "Python 3"
    },
    "language_info": {
      "name": "python"
    }
  },
  "cells": [
    {
      "cell_type": "markdown",
      "source": [
        "#**S1 : Business Understanding**\n",
        "\n",
        "Building a predictive model that answers the question: “What sorts of people were more likely to survive?” using passenger data (ie name, age, gender, socio-economic class, etc)."
      ],
      "metadata": {
        "id": "sGy8QEq0M0IE"
      }
    },
    {
      "cell_type": "markdown",
      "source": [
        "#**S2 : Analytic Approach**\n",
        "\n",
        "####KNN \n",
        "####Decision tree\n",
        "####SVM\n",
        "####Logistic Regg"
      ],
      "metadata": {
        "id": "0BfW7yMsM6Ee"
      }
    },
    {
      "cell_type": "markdown",
      "source": [
        "#**S3 : Data  Requirement & S4 : Data Collection**\n",
        "\n",
        "Data from kaggle"
      ],
      "metadata": {
        "id": "vL2uso20Npbb"
      }
    },
    {
      "cell_type": "markdown",
      "source": [
        "#**S5 : Data Understanding**\n",
        "\n",
        "Data understanding encompasses all activities related to constructing the data set. Read and understand the dataset given using Pandas libraries."
      ],
      "metadata": {
        "id": "wcurL5RON4Iw"
      }
    },
    {
      "cell_type": "markdown",
      "source": [
        "#**S6 : Data Preparation**\n",
        "\n",
        "####Data Wrangling/Data cleaning\n",
        "####EDA"
      ],
      "metadata": {
        "id": "gi2TNO3dOGVg"
      }
    },
    {
      "cell_type": "code",
      "source": [
        "import pandas as pd\n",
        "import numpy as np\n",
        "import matplotlib.pyplot as plt\n",
        "%matplotlib inline\n",
        "import pylab as pl\n",
        "\n",
        "print('all done')"
      ],
      "metadata": {
        "colab": {
          "base_uri": "https://localhost:8080/"
        },
        "id": "WdNwjciJOl4g",
        "outputId": "294a8a07-aade-47f1-9a12-e2eb2d4077b8"
      },
      "execution_count": null,
      "outputs": [
        {
          "output_type": "stream",
          "name": "stdout",
          "text": [
            "all done\n"
          ]
        }
      ]
    },
    {
      "cell_type": "code",
      "source": [
        "df_test = pd.read_csv('test.csv') \n",
        "df_test.head(2)"
      ],
      "metadata": {
        "colab": {
          "base_uri": "https://localhost:8080/",
          "height": 156
        },
        "id": "o2WrwE9wJ4kE",
        "outputId": "07f62df6-2041-40f5-a093-649d8d34ded9"
      },
      "execution_count": null,
      "outputs": [
        {
          "output_type": "execute_result",
          "data": {
            "text/plain": [
              "   PassengerId  Pclass                              Name     Sex   Age  SibSp  \\\n",
              "0          892       3                  Kelly, Mr. James    male  34.5      0   \n",
              "1          893       3  Wilkes, Mrs. James (Ellen Needs)  female  47.0      1   \n",
              "\n",
              "   Parch  Ticket    Fare Cabin Embarked  \n",
              "0      0  330911  7.8292   NaN        Q  \n",
              "1      0  363272  7.0000   NaN        S  "
            ],
            "text/html": [
              "\n",
              "  <div id=\"df-97c4897e-549f-4790-81d8-c752a4e81b7d\">\n",
              "    <div class=\"colab-df-container\">\n",
              "      <div>\n",
              "<style scoped>\n",
              "    .dataframe tbody tr th:only-of-type {\n",
              "        vertical-align: middle;\n",
              "    }\n",
              "\n",
              "    .dataframe tbody tr th {\n",
              "        vertical-align: top;\n",
              "    }\n",
              "\n",
              "    .dataframe thead th {\n",
              "        text-align: right;\n",
              "    }\n",
              "</style>\n",
              "<table border=\"1\" class=\"dataframe\">\n",
              "  <thead>\n",
              "    <tr style=\"text-align: right;\">\n",
              "      <th></th>\n",
              "      <th>PassengerId</th>\n",
              "      <th>Pclass</th>\n",
              "      <th>Name</th>\n",
              "      <th>Sex</th>\n",
              "      <th>Age</th>\n",
              "      <th>SibSp</th>\n",
              "      <th>Parch</th>\n",
              "      <th>Ticket</th>\n",
              "      <th>Fare</th>\n",
              "      <th>Cabin</th>\n",
              "      <th>Embarked</th>\n",
              "    </tr>\n",
              "  </thead>\n",
              "  <tbody>\n",
              "    <tr>\n",
              "      <th>0</th>\n",
              "      <td>892</td>\n",
              "      <td>3</td>\n",
              "      <td>Kelly, Mr. James</td>\n",
              "      <td>male</td>\n",
              "      <td>34.5</td>\n",
              "      <td>0</td>\n",
              "      <td>0</td>\n",
              "      <td>330911</td>\n",
              "      <td>7.8292</td>\n",
              "      <td>NaN</td>\n",
              "      <td>Q</td>\n",
              "    </tr>\n",
              "    <tr>\n",
              "      <th>1</th>\n",
              "      <td>893</td>\n",
              "      <td>3</td>\n",
              "      <td>Wilkes, Mrs. James (Ellen Needs)</td>\n",
              "      <td>female</td>\n",
              "      <td>47.0</td>\n",
              "      <td>1</td>\n",
              "      <td>0</td>\n",
              "      <td>363272</td>\n",
              "      <td>7.0000</td>\n",
              "      <td>NaN</td>\n",
              "      <td>S</td>\n",
              "    </tr>\n",
              "  </tbody>\n",
              "</table>\n",
              "</div>\n",
              "      <button class=\"colab-df-convert\" onclick=\"convertToInteractive('df-97c4897e-549f-4790-81d8-c752a4e81b7d')\"\n",
              "              title=\"Convert this dataframe to an interactive table.\"\n",
              "              style=\"display:none;\">\n",
              "        \n",
              "  <svg xmlns=\"http://www.w3.org/2000/svg\" height=\"24px\"viewBox=\"0 0 24 24\"\n",
              "       width=\"24px\">\n",
              "    <path d=\"M0 0h24v24H0V0z\" fill=\"none\"/>\n",
              "    <path d=\"M18.56 5.44l.94 2.06.94-2.06 2.06-.94-2.06-.94-.94-2.06-.94 2.06-2.06.94zm-11 1L8.5 8.5l.94-2.06 2.06-.94-2.06-.94L8.5 2.5l-.94 2.06-2.06.94zm10 10l.94 2.06.94-2.06 2.06-.94-2.06-.94-.94-2.06-.94 2.06-2.06.94z\"/><path d=\"M17.41 7.96l-1.37-1.37c-.4-.4-.92-.59-1.43-.59-.52 0-1.04.2-1.43.59L10.3 9.45l-7.72 7.72c-.78.78-.78 2.05 0 2.83L4 21.41c.39.39.9.59 1.41.59.51 0 1.02-.2 1.41-.59l7.78-7.78 2.81-2.81c.8-.78.8-2.07 0-2.86zM5.41 20L4 18.59l7.72-7.72 1.47 1.35L5.41 20z\"/>\n",
              "  </svg>\n",
              "      </button>\n",
              "      \n",
              "  <style>\n",
              "    .colab-df-container {\n",
              "      display:flex;\n",
              "      flex-wrap:wrap;\n",
              "      gap: 12px;\n",
              "    }\n",
              "\n",
              "    .colab-df-convert {\n",
              "      background-color: #E8F0FE;\n",
              "      border: none;\n",
              "      border-radius: 50%;\n",
              "      cursor: pointer;\n",
              "      display: none;\n",
              "      fill: #1967D2;\n",
              "      height: 32px;\n",
              "      padding: 0 0 0 0;\n",
              "      width: 32px;\n",
              "    }\n",
              "\n",
              "    .colab-df-convert:hover {\n",
              "      background-color: #E2EBFA;\n",
              "      box-shadow: 0px 1px 2px rgba(60, 64, 67, 0.3), 0px 1px 3px 1px rgba(60, 64, 67, 0.15);\n",
              "      fill: #174EA6;\n",
              "    }\n",
              "\n",
              "    [theme=dark] .colab-df-convert {\n",
              "      background-color: #3B4455;\n",
              "      fill: #D2E3FC;\n",
              "    }\n",
              "\n",
              "    [theme=dark] .colab-df-convert:hover {\n",
              "      background-color: #434B5C;\n",
              "      box-shadow: 0px 1px 3px 1px rgba(0, 0, 0, 0.15);\n",
              "      filter: drop-shadow(0px 1px 2px rgba(0, 0, 0, 0.3));\n",
              "      fill: #FFFFFF;\n",
              "    }\n",
              "  </style>\n",
              "\n",
              "      <script>\n",
              "        const buttonEl =\n",
              "          document.querySelector('#df-97c4897e-549f-4790-81d8-c752a4e81b7d button.colab-df-convert');\n",
              "        buttonEl.style.display =\n",
              "          google.colab.kernel.accessAllowed ? 'block' : 'none';\n",
              "\n",
              "        async function convertToInteractive(key) {\n",
              "          const element = document.querySelector('#df-97c4897e-549f-4790-81d8-c752a4e81b7d');\n",
              "          const dataTable =\n",
              "            await google.colab.kernel.invokeFunction('convertToInteractive',\n",
              "                                                     [key], {});\n",
              "          if (!dataTable) return;\n",
              "\n",
              "          const docLinkHtml = 'Like what you see? Visit the ' +\n",
              "            '<a target=\"_blank\" href=https://colab.research.google.com/notebooks/data_table.ipynb>data table notebook</a>'\n",
              "            + ' to learn more about interactive tables.';\n",
              "          element.innerHTML = '';\n",
              "          dataTable['output_type'] = 'display_data';\n",
              "          await google.colab.output.renderOutput(dataTable, element);\n",
              "          const docLink = document.createElement('div');\n",
              "          docLink.innerHTML = docLinkHtml;\n",
              "          element.appendChild(docLink);\n",
              "        }\n",
              "      </script>\n",
              "    </div>\n",
              "  </div>\n",
              "  "
            ]
          },
          "metadata": {},
          "execution_count": 3
        }
      ]
    },
    {
      "cell_type": "code",
      "source": [
        "df_test.shape"
      ],
      "metadata": {
        "colab": {
          "base_uri": "https://localhost:8080/"
        },
        "id": "1E9JpbbIKQZ9",
        "outputId": "56bb5857-e6ec-408c-d425-40f3732af96a"
      },
      "execution_count": null,
      "outputs": [
        {
          "output_type": "execute_result",
          "data": {
            "text/plain": [
              "(418, 11)"
            ]
          },
          "metadata": {},
          "execution_count": 4
        }
      ]
    },
    {
      "cell_type": "code",
      "source": [
        "df_test.info()"
      ],
      "metadata": {
        "colab": {
          "base_uri": "https://localhost:8080/"
        },
        "id": "5bcUTkI7KMx_",
        "outputId": "819403bb-7ee1-411e-f3c3-de7241d66a01"
      },
      "execution_count": null,
      "outputs": [
        {
          "output_type": "stream",
          "name": "stdout",
          "text": [
            "<class 'pandas.core.frame.DataFrame'>\n",
            "RangeIndex: 418 entries, 0 to 417\n",
            "Data columns (total 11 columns):\n",
            " #   Column       Non-Null Count  Dtype  \n",
            "---  ------       --------------  -----  \n",
            " 0   PassengerId  418 non-null    int64  \n",
            " 1   Pclass       418 non-null    int64  \n",
            " 2   Name         418 non-null    object \n",
            " 3   Sex          418 non-null    object \n",
            " 4   Age          332 non-null    float64\n",
            " 5   SibSp        418 non-null    int64  \n",
            " 6   Parch        418 non-null    int64  \n",
            " 7   Ticket       418 non-null    object \n",
            " 8   Fare         417 non-null    float64\n",
            " 9   Cabin        91 non-null     object \n",
            " 10  Embarked     418 non-null    object \n",
            "dtypes: float64(2), int64(4), object(5)\n",
            "memory usage: 36.0+ KB\n"
          ]
        }
      ]
    },
    {
      "cell_type": "code",
      "source": [
        "df = pd.read_csv('train.csv')\n",
        "df.head(2)"
      ],
      "metadata": {
        "colab": {
          "base_uri": "https://localhost:8080/",
          "height": 208
        },
        "id": "bAeaePv3M9yf",
        "outputId": "46a2948b-4f12-4223-e2d1-98df99f0b0db"
      },
      "execution_count": null,
      "outputs": [
        {
          "output_type": "execute_result",
          "data": {
            "text/plain": [
              "   PassengerId  Survived  Pclass  \\\n",
              "0            1         0       3   \n",
              "1            2         1       1   \n",
              "\n",
              "                                                Name     Sex   Age  SibSp  \\\n",
              "0                            Braund, Mr. Owen Harris    male  22.0      1   \n",
              "1  Cumings, Mrs. John Bradley (Florence Briggs Th...  female  38.0      1   \n",
              "\n",
              "   Parch     Ticket     Fare Cabin Embarked  \n",
              "0      0  A/5 21171   7.2500   NaN        S  \n",
              "1      0   PC 17599  71.2833   C85        C  "
            ],
            "text/html": [
              "\n",
              "  <div id=\"df-9a2e2e36-74a0-43d0-8bc5-cbadc058ba14\">\n",
              "    <div class=\"colab-df-container\">\n",
              "      <div>\n",
              "<style scoped>\n",
              "    .dataframe tbody tr th:only-of-type {\n",
              "        vertical-align: middle;\n",
              "    }\n",
              "\n",
              "    .dataframe tbody tr th {\n",
              "        vertical-align: top;\n",
              "    }\n",
              "\n",
              "    .dataframe thead th {\n",
              "        text-align: right;\n",
              "    }\n",
              "</style>\n",
              "<table border=\"1\" class=\"dataframe\">\n",
              "  <thead>\n",
              "    <tr style=\"text-align: right;\">\n",
              "      <th></th>\n",
              "      <th>PassengerId</th>\n",
              "      <th>Survived</th>\n",
              "      <th>Pclass</th>\n",
              "      <th>Name</th>\n",
              "      <th>Sex</th>\n",
              "      <th>Age</th>\n",
              "      <th>SibSp</th>\n",
              "      <th>Parch</th>\n",
              "      <th>Ticket</th>\n",
              "      <th>Fare</th>\n",
              "      <th>Cabin</th>\n",
              "      <th>Embarked</th>\n",
              "    </tr>\n",
              "  </thead>\n",
              "  <tbody>\n",
              "    <tr>\n",
              "      <th>0</th>\n",
              "      <td>1</td>\n",
              "      <td>0</td>\n",
              "      <td>3</td>\n",
              "      <td>Braund, Mr. Owen Harris</td>\n",
              "      <td>male</td>\n",
              "      <td>22.0</td>\n",
              "      <td>1</td>\n",
              "      <td>0</td>\n",
              "      <td>A/5 21171</td>\n",
              "      <td>7.2500</td>\n",
              "      <td>NaN</td>\n",
              "      <td>S</td>\n",
              "    </tr>\n",
              "    <tr>\n",
              "      <th>1</th>\n",
              "      <td>2</td>\n",
              "      <td>1</td>\n",
              "      <td>1</td>\n",
              "      <td>Cumings, Mrs. John Bradley (Florence Briggs Th...</td>\n",
              "      <td>female</td>\n",
              "      <td>38.0</td>\n",
              "      <td>1</td>\n",
              "      <td>0</td>\n",
              "      <td>PC 17599</td>\n",
              "      <td>71.2833</td>\n",
              "      <td>C85</td>\n",
              "      <td>C</td>\n",
              "    </tr>\n",
              "  </tbody>\n",
              "</table>\n",
              "</div>\n",
              "      <button class=\"colab-df-convert\" onclick=\"convertToInteractive('df-9a2e2e36-74a0-43d0-8bc5-cbadc058ba14')\"\n",
              "              title=\"Convert this dataframe to an interactive table.\"\n",
              "              style=\"display:none;\">\n",
              "        \n",
              "  <svg xmlns=\"http://www.w3.org/2000/svg\" height=\"24px\"viewBox=\"0 0 24 24\"\n",
              "       width=\"24px\">\n",
              "    <path d=\"M0 0h24v24H0V0z\" fill=\"none\"/>\n",
              "    <path d=\"M18.56 5.44l.94 2.06.94-2.06 2.06-.94-2.06-.94-.94-2.06-.94 2.06-2.06.94zm-11 1L8.5 8.5l.94-2.06 2.06-.94-2.06-.94L8.5 2.5l-.94 2.06-2.06.94zm10 10l.94 2.06.94-2.06 2.06-.94-2.06-.94-.94-2.06-.94 2.06-2.06.94z\"/><path d=\"M17.41 7.96l-1.37-1.37c-.4-.4-.92-.59-1.43-.59-.52 0-1.04.2-1.43.59L10.3 9.45l-7.72 7.72c-.78.78-.78 2.05 0 2.83L4 21.41c.39.39.9.59 1.41.59.51 0 1.02-.2 1.41-.59l7.78-7.78 2.81-2.81c.8-.78.8-2.07 0-2.86zM5.41 20L4 18.59l7.72-7.72 1.47 1.35L5.41 20z\"/>\n",
              "  </svg>\n",
              "      </button>\n",
              "      \n",
              "  <style>\n",
              "    .colab-df-container {\n",
              "      display:flex;\n",
              "      flex-wrap:wrap;\n",
              "      gap: 12px;\n",
              "    }\n",
              "\n",
              "    .colab-df-convert {\n",
              "      background-color: #E8F0FE;\n",
              "      border: none;\n",
              "      border-radius: 50%;\n",
              "      cursor: pointer;\n",
              "      display: none;\n",
              "      fill: #1967D2;\n",
              "      height: 32px;\n",
              "      padding: 0 0 0 0;\n",
              "      width: 32px;\n",
              "    }\n",
              "\n",
              "    .colab-df-convert:hover {\n",
              "      background-color: #E2EBFA;\n",
              "      box-shadow: 0px 1px 2px rgba(60, 64, 67, 0.3), 0px 1px 3px 1px rgba(60, 64, 67, 0.15);\n",
              "      fill: #174EA6;\n",
              "    }\n",
              "\n",
              "    [theme=dark] .colab-df-convert {\n",
              "      background-color: #3B4455;\n",
              "      fill: #D2E3FC;\n",
              "    }\n",
              "\n",
              "    [theme=dark] .colab-df-convert:hover {\n",
              "      background-color: #434B5C;\n",
              "      box-shadow: 0px 1px 3px 1px rgba(0, 0, 0, 0.15);\n",
              "      filter: drop-shadow(0px 1px 2px rgba(0, 0, 0, 0.3));\n",
              "      fill: #FFFFFF;\n",
              "    }\n",
              "  </style>\n",
              "\n",
              "      <script>\n",
              "        const buttonEl =\n",
              "          document.querySelector('#df-9a2e2e36-74a0-43d0-8bc5-cbadc058ba14 button.colab-df-convert');\n",
              "        buttonEl.style.display =\n",
              "          google.colab.kernel.accessAllowed ? 'block' : 'none';\n",
              "\n",
              "        async function convertToInteractive(key) {\n",
              "          const element = document.querySelector('#df-9a2e2e36-74a0-43d0-8bc5-cbadc058ba14');\n",
              "          const dataTable =\n",
              "            await google.colab.kernel.invokeFunction('convertToInteractive',\n",
              "                                                     [key], {});\n",
              "          if (!dataTable) return;\n",
              "\n",
              "          const docLinkHtml = 'Like what you see? Visit the ' +\n",
              "            '<a target=\"_blank\" href=https://colab.research.google.com/notebooks/data_table.ipynb>data table notebook</a>'\n",
              "            + ' to learn more about interactive tables.';\n",
              "          element.innerHTML = '';\n",
              "          dataTable['output_type'] = 'display_data';\n",
              "          await google.colab.output.renderOutput(dataTable, element);\n",
              "          const docLink = document.createElement('div');\n",
              "          docLink.innerHTML = docLinkHtml;\n",
              "          element.appendChild(docLink);\n",
              "        }\n",
              "      </script>\n",
              "    </div>\n",
              "  </div>\n",
              "  "
            ]
          },
          "metadata": {},
          "execution_count": 6
        }
      ]
    },
    {
      "cell_type": "code",
      "source": [
        "df.shape"
      ],
      "metadata": {
        "colab": {
          "base_uri": "https://localhost:8080/"
        },
        "id": "jpwrF1LINnp8",
        "outputId": "39da0bf3-a07a-4146-d9d1-463d939e449f"
      },
      "execution_count": null,
      "outputs": [
        {
          "output_type": "execute_result",
          "data": {
            "text/plain": [
              "(891, 12)"
            ]
          },
          "metadata": {},
          "execution_count": 7
        }
      ]
    },
    {
      "cell_type": "code",
      "source": [
        "df.columns"
      ],
      "metadata": {
        "colab": {
          "base_uri": "https://localhost:8080/"
        },
        "id": "t8lieIdGPaG1",
        "outputId": "70adb49a-5413-423a-8ddd-2a8ed92e1c68"
      },
      "execution_count": null,
      "outputs": [
        {
          "output_type": "execute_result",
          "data": {
            "text/plain": [
              "Index(['PassengerId', 'Survived', 'Pclass', 'Name', 'Sex', 'Age', 'SibSp',\n",
              "       'Parch', 'Ticket', 'Fare', 'Cabin', 'Embarked'],\n",
              "      dtype='object')"
            ]
          },
          "metadata": {},
          "execution_count": 8
        }
      ]
    },
    {
      "cell_type": "code",
      "source": [
        "df.describe(include='all')"
      ],
      "metadata": {
        "colab": {
          "base_uri": "https://localhost:8080/",
          "height": 510
        },
        "id": "0gLDCQ1_PePN",
        "outputId": "246c0d16-9add-4305-b2e4-4279f8eb50ed"
      },
      "execution_count": null,
      "outputs": [
        {
          "output_type": "execute_result",
          "data": {
            "text/plain": [
              "        PassengerId    Survived      Pclass                     Name   Sex  \\\n",
              "count    891.000000  891.000000  891.000000                      891   891   \n",
              "unique          NaN         NaN         NaN                      891     2   \n",
              "top             NaN         NaN         NaN  Braund, Mr. Owen Harris  male   \n",
              "freq            NaN         NaN         NaN                        1   577   \n",
              "mean     446.000000    0.383838    2.308642                      NaN   NaN   \n",
              "std      257.353842    0.486592    0.836071                      NaN   NaN   \n",
              "min        1.000000    0.000000    1.000000                      NaN   NaN   \n",
              "25%      223.500000    0.000000    2.000000                      NaN   NaN   \n",
              "50%      446.000000    0.000000    3.000000                      NaN   NaN   \n",
              "75%      668.500000    1.000000    3.000000                      NaN   NaN   \n",
              "max      891.000000    1.000000    3.000000                      NaN   NaN   \n",
              "\n",
              "               Age       SibSp       Parch  Ticket        Fare    Cabin  \\\n",
              "count   714.000000  891.000000  891.000000     891  891.000000      204   \n",
              "unique         NaN         NaN         NaN     681         NaN      147   \n",
              "top            NaN         NaN         NaN  347082         NaN  B96 B98   \n",
              "freq           NaN         NaN         NaN       7         NaN        4   \n",
              "mean     29.699118    0.523008    0.381594     NaN   32.204208      NaN   \n",
              "std      14.526497    1.102743    0.806057     NaN   49.693429      NaN   \n",
              "min       0.420000    0.000000    0.000000     NaN    0.000000      NaN   \n",
              "25%      20.125000    0.000000    0.000000     NaN    7.910400      NaN   \n",
              "50%      28.000000    0.000000    0.000000     NaN   14.454200      NaN   \n",
              "75%      38.000000    1.000000    0.000000     NaN   31.000000      NaN   \n",
              "max      80.000000    8.000000    6.000000     NaN  512.329200      NaN   \n",
              "\n",
              "       Embarked  \n",
              "count       889  \n",
              "unique        3  \n",
              "top           S  \n",
              "freq        644  \n",
              "mean        NaN  \n",
              "std         NaN  \n",
              "min         NaN  \n",
              "25%         NaN  \n",
              "50%         NaN  \n",
              "75%         NaN  \n",
              "max         NaN  "
            ],
            "text/html": [
              "\n",
              "  <div id=\"df-29670c47-d378-4ecb-b957-e71500c26f68\">\n",
              "    <div class=\"colab-df-container\">\n",
              "      <div>\n",
              "<style scoped>\n",
              "    .dataframe tbody tr th:only-of-type {\n",
              "        vertical-align: middle;\n",
              "    }\n",
              "\n",
              "    .dataframe tbody tr th {\n",
              "        vertical-align: top;\n",
              "    }\n",
              "\n",
              "    .dataframe thead th {\n",
              "        text-align: right;\n",
              "    }\n",
              "</style>\n",
              "<table border=\"1\" class=\"dataframe\">\n",
              "  <thead>\n",
              "    <tr style=\"text-align: right;\">\n",
              "      <th></th>\n",
              "      <th>PassengerId</th>\n",
              "      <th>Survived</th>\n",
              "      <th>Pclass</th>\n",
              "      <th>Name</th>\n",
              "      <th>Sex</th>\n",
              "      <th>Age</th>\n",
              "      <th>SibSp</th>\n",
              "      <th>Parch</th>\n",
              "      <th>Ticket</th>\n",
              "      <th>Fare</th>\n",
              "      <th>Cabin</th>\n",
              "      <th>Embarked</th>\n",
              "    </tr>\n",
              "  </thead>\n",
              "  <tbody>\n",
              "    <tr>\n",
              "      <th>count</th>\n",
              "      <td>891.000000</td>\n",
              "      <td>891.000000</td>\n",
              "      <td>891.000000</td>\n",
              "      <td>891</td>\n",
              "      <td>891</td>\n",
              "      <td>714.000000</td>\n",
              "      <td>891.000000</td>\n",
              "      <td>891.000000</td>\n",
              "      <td>891</td>\n",
              "      <td>891.000000</td>\n",
              "      <td>204</td>\n",
              "      <td>889</td>\n",
              "    </tr>\n",
              "    <tr>\n",
              "      <th>unique</th>\n",
              "      <td>NaN</td>\n",
              "      <td>NaN</td>\n",
              "      <td>NaN</td>\n",
              "      <td>891</td>\n",
              "      <td>2</td>\n",
              "      <td>NaN</td>\n",
              "      <td>NaN</td>\n",
              "      <td>NaN</td>\n",
              "      <td>681</td>\n",
              "      <td>NaN</td>\n",
              "      <td>147</td>\n",
              "      <td>3</td>\n",
              "    </tr>\n",
              "    <tr>\n",
              "      <th>top</th>\n",
              "      <td>NaN</td>\n",
              "      <td>NaN</td>\n",
              "      <td>NaN</td>\n",
              "      <td>Braund, Mr. Owen Harris</td>\n",
              "      <td>male</td>\n",
              "      <td>NaN</td>\n",
              "      <td>NaN</td>\n",
              "      <td>NaN</td>\n",
              "      <td>347082</td>\n",
              "      <td>NaN</td>\n",
              "      <td>B96 B98</td>\n",
              "      <td>S</td>\n",
              "    </tr>\n",
              "    <tr>\n",
              "      <th>freq</th>\n",
              "      <td>NaN</td>\n",
              "      <td>NaN</td>\n",
              "      <td>NaN</td>\n",
              "      <td>1</td>\n",
              "      <td>577</td>\n",
              "      <td>NaN</td>\n",
              "      <td>NaN</td>\n",
              "      <td>NaN</td>\n",
              "      <td>7</td>\n",
              "      <td>NaN</td>\n",
              "      <td>4</td>\n",
              "      <td>644</td>\n",
              "    </tr>\n",
              "    <tr>\n",
              "      <th>mean</th>\n",
              "      <td>446.000000</td>\n",
              "      <td>0.383838</td>\n",
              "      <td>2.308642</td>\n",
              "      <td>NaN</td>\n",
              "      <td>NaN</td>\n",
              "      <td>29.699118</td>\n",
              "      <td>0.523008</td>\n",
              "      <td>0.381594</td>\n",
              "      <td>NaN</td>\n",
              "      <td>32.204208</td>\n",
              "      <td>NaN</td>\n",
              "      <td>NaN</td>\n",
              "    </tr>\n",
              "    <tr>\n",
              "      <th>std</th>\n",
              "      <td>257.353842</td>\n",
              "      <td>0.486592</td>\n",
              "      <td>0.836071</td>\n",
              "      <td>NaN</td>\n",
              "      <td>NaN</td>\n",
              "      <td>14.526497</td>\n",
              "      <td>1.102743</td>\n",
              "      <td>0.806057</td>\n",
              "      <td>NaN</td>\n",
              "      <td>49.693429</td>\n",
              "      <td>NaN</td>\n",
              "      <td>NaN</td>\n",
              "    </tr>\n",
              "    <tr>\n",
              "      <th>min</th>\n",
              "      <td>1.000000</td>\n",
              "      <td>0.000000</td>\n",
              "      <td>1.000000</td>\n",
              "      <td>NaN</td>\n",
              "      <td>NaN</td>\n",
              "      <td>0.420000</td>\n",
              "      <td>0.000000</td>\n",
              "      <td>0.000000</td>\n",
              "      <td>NaN</td>\n",
              "      <td>0.000000</td>\n",
              "      <td>NaN</td>\n",
              "      <td>NaN</td>\n",
              "    </tr>\n",
              "    <tr>\n",
              "      <th>25%</th>\n",
              "      <td>223.500000</td>\n",
              "      <td>0.000000</td>\n",
              "      <td>2.000000</td>\n",
              "      <td>NaN</td>\n",
              "      <td>NaN</td>\n",
              "      <td>20.125000</td>\n",
              "      <td>0.000000</td>\n",
              "      <td>0.000000</td>\n",
              "      <td>NaN</td>\n",
              "      <td>7.910400</td>\n",
              "      <td>NaN</td>\n",
              "      <td>NaN</td>\n",
              "    </tr>\n",
              "    <tr>\n",
              "      <th>50%</th>\n",
              "      <td>446.000000</td>\n",
              "      <td>0.000000</td>\n",
              "      <td>3.000000</td>\n",
              "      <td>NaN</td>\n",
              "      <td>NaN</td>\n",
              "      <td>28.000000</td>\n",
              "      <td>0.000000</td>\n",
              "      <td>0.000000</td>\n",
              "      <td>NaN</td>\n",
              "      <td>14.454200</td>\n",
              "      <td>NaN</td>\n",
              "      <td>NaN</td>\n",
              "    </tr>\n",
              "    <tr>\n",
              "      <th>75%</th>\n",
              "      <td>668.500000</td>\n",
              "      <td>1.000000</td>\n",
              "      <td>3.000000</td>\n",
              "      <td>NaN</td>\n",
              "      <td>NaN</td>\n",
              "      <td>38.000000</td>\n",
              "      <td>1.000000</td>\n",
              "      <td>0.000000</td>\n",
              "      <td>NaN</td>\n",
              "      <td>31.000000</td>\n",
              "      <td>NaN</td>\n",
              "      <td>NaN</td>\n",
              "    </tr>\n",
              "    <tr>\n",
              "      <th>max</th>\n",
              "      <td>891.000000</td>\n",
              "      <td>1.000000</td>\n",
              "      <td>3.000000</td>\n",
              "      <td>NaN</td>\n",
              "      <td>NaN</td>\n",
              "      <td>80.000000</td>\n",
              "      <td>8.000000</td>\n",
              "      <td>6.000000</td>\n",
              "      <td>NaN</td>\n",
              "      <td>512.329200</td>\n",
              "      <td>NaN</td>\n",
              "      <td>NaN</td>\n",
              "    </tr>\n",
              "  </tbody>\n",
              "</table>\n",
              "</div>\n",
              "      <button class=\"colab-df-convert\" onclick=\"convertToInteractive('df-29670c47-d378-4ecb-b957-e71500c26f68')\"\n",
              "              title=\"Convert this dataframe to an interactive table.\"\n",
              "              style=\"display:none;\">\n",
              "        \n",
              "  <svg xmlns=\"http://www.w3.org/2000/svg\" height=\"24px\"viewBox=\"0 0 24 24\"\n",
              "       width=\"24px\">\n",
              "    <path d=\"M0 0h24v24H0V0z\" fill=\"none\"/>\n",
              "    <path d=\"M18.56 5.44l.94 2.06.94-2.06 2.06-.94-2.06-.94-.94-2.06-.94 2.06-2.06.94zm-11 1L8.5 8.5l.94-2.06 2.06-.94-2.06-.94L8.5 2.5l-.94 2.06-2.06.94zm10 10l.94 2.06.94-2.06 2.06-.94-2.06-.94-.94-2.06-.94 2.06-2.06.94z\"/><path d=\"M17.41 7.96l-1.37-1.37c-.4-.4-.92-.59-1.43-.59-.52 0-1.04.2-1.43.59L10.3 9.45l-7.72 7.72c-.78.78-.78 2.05 0 2.83L4 21.41c.39.39.9.59 1.41.59.51 0 1.02-.2 1.41-.59l7.78-7.78 2.81-2.81c.8-.78.8-2.07 0-2.86zM5.41 20L4 18.59l7.72-7.72 1.47 1.35L5.41 20z\"/>\n",
              "  </svg>\n",
              "      </button>\n",
              "      \n",
              "  <style>\n",
              "    .colab-df-container {\n",
              "      display:flex;\n",
              "      flex-wrap:wrap;\n",
              "      gap: 12px;\n",
              "    }\n",
              "\n",
              "    .colab-df-convert {\n",
              "      background-color: #E8F0FE;\n",
              "      border: none;\n",
              "      border-radius: 50%;\n",
              "      cursor: pointer;\n",
              "      display: none;\n",
              "      fill: #1967D2;\n",
              "      height: 32px;\n",
              "      padding: 0 0 0 0;\n",
              "      width: 32px;\n",
              "    }\n",
              "\n",
              "    .colab-df-convert:hover {\n",
              "      background-color: #E2EBFA;\n",
              "      box-shadow: 0px 1px 2px rgba(60, 64, 67, 0.3), 0px 1px 3px 1px rgba(60, 64, 67, 0.15);\n",
              "      fill: #174EA6;\n",
              "    }\n",
              "\n",
              "    [theme=dark] .colab-df-convert {\n",
              "      background-color: #3B4455;\n",
              "      fill: #D2E3FC;\n",
              "    }\n",
              "\n",
              "    [theme=dark] .colab-df-convert:hover {\n",
              "      background-color: #434B5C;\n",
              "      box-shadow: 0px 1px 3px 1px rgba(0, 0, 0, 0.15);\n",
              "      filter: drop-shadow(0px 1px 2px rgba(0, 0, 0, 0.3));\n",
              "      fill: #FFFFFF;\n",
              "    }\n",
              "  </style>\n",
              "\n",
              "      <script>\n",
              "        const buttonEl =\n",
              "          document.querySelector('#df-29670c47-d378-4ecb-b957-e71500c26f68 button.colab-df-convert');\n",
              "        buttonEl.style.display =\n",
              "          google.colab.kernel.accessAllowed ? 'block' : 'none';\n",
              "\n",
              "        async function convertToInteractive(key) {\n",
              "          const element = document.querySelector('#df-29670c47-d378-4ecb-b957-e71500c26f68');\n",
              "          const dataTable =\n",
              "            await google.colab.kernel.invokeFunction('convertToInteractive',\n",
              "                                                     [key], {});\n",
              "          if (!dataTable) return;\n",
              "\n",
              "          const docLinkHtml = 'Like what you see? Visit the ' +\n",
              "            '<a target=\"_blank\" href=https://colab.research.google.com/notebooks/data_table.ipynb>data table notebook</a>'\n",
              "            + ' to learn more about interactive tables.';\n",
              "          element.innerHTML = '';\n",
              "          dataTable['output_type'] = 'display_data';\n",
              "          await google.colab.output.renderOutput(dataTable, element);\n",
              "          const docLink = document.createElement('div');\n",
              "          docLink.innerHTML = docLinkHtml;\n",
              "          element.appendChild(docLink);\n",
              "        }\n",
              "      </script>\n",
              "    </div>\n",
              "  </div>\n",
              "  "
            ]
          },
          "metadata": {},
          "execution_count": 9
        }
      ]
    },
    {
      "cell_type": "code",
      "source": [
        "df1 = df.isnull()\n",
        "df1.head(2)"
      ],
      "metadata": {
        "id": "OkeB7AWyQqXi",
        "colab": {
          "base_uri": "https://localhost:8080/",
          "height": 112
        },
        "outputId": "7c890ff3-11d6-4189-f047-57ff1c0dcee1"
      },
      "execution_count": null,
      "outputs": [
        {
          "output_type": "execute_result",
          "data": {
            "text/plain": [
              "   PassengerId  Survived  Pclass   Name    Sex    Age  SibSp  Parch  Ticket  \\\n",
              "0        False     False   False  False  False  False  False  False   False   \n",
              "1        False     False   False  False  False  False  False  False   False   \n",
              "\n",
              "    Fare  Cabin  Embarked  \n",
              "0  False   True     False  \n",
              "1  False  False     False  "
            ],
            "text/html": [
              "\n",
              "  <div id=\"df-7500b168-60a6-4b44-89e2-71e897a4cf0b\">\n",
              "    <div class=\"colab-df-container\">\n",
              "      <div>\n",
              "<style scoped>\n",
              "    .dataframe tbody tr th:only-of-type {\n",
              "        vertical-align: middle;\n",
              "    }\n",
              "\n",
              "    .dataframe tbody tr th {\n",
              "        vertical-align: top;\n",
              "    }\n",
              "\n",
              "    .dataframe thead th {\n",
              "        text-align: right;\n",
              "    }\n",
              "</style>\n",
              "<table border=\"1\" class=\"dataframe\">\n",
              "  <thead>\n",
              "    <tr style=\"text-align: right;\">\n",
              "      <th></th>\n",
              "      <th>PassengerId</th>\n",
              "      <th>Survived</th>\n",
              "      <th>Pclass</th>\n",
              "      <th>Name</th>\n",
              "      <th>Sex</th>\n",
              "      <th>Age</th>\n",
              "      <th>SibSp</th>\n",
              "      <th>Parch</th>\n",
              "      <th>Ticket</th>\n",
              "      <th>Fare</th>\n",
              "      <th>Cabin</th>\n",
              "      <th>Embarked</th>\n",
              "    </tr>\n",
              "  </thead>\n",
              "  <tbody>\n",
              "    <tr>\n",
              "      <th>0</th>\n",
              "      <td>False</td>\n",
              "      <td>False</td>\n",
              "      <td>False</td>\n",
              "      <td>False</td>\n",
              "      <td>False</td>\n",
              "      <td>False</td>\n",
              "      <td>False</td>\n",
              "      <td>False</td>\n",
              "      <td>False</td>\n",
              "      <td>False</td>\n",
              "      <td>True</td>\n",
              "      <td>False</td>\n",
              "    </tr>\n",
              "    <tr>\n",
              "      <th>1</th>\n",
              "      <td>False</td>\n",
              "      <td>False</td>\n",
              "      <td>False</td>\n",
              "      <td>False</td>\n",
              "      <td>False</td>\n",
              "      <td>False</td>\n",
              "      <td>False</td>\n",
              "      <td>False</td>\n",
              "      <td>False</td>\n",
              "      <td>False</td>\n",
              "      <td>False</td>\n",
              "      <td>False</td>\n",
              "    </tr>\n",
              "  </tbody>\n",
              "</table>\n",
              "</div>\n",
              "      <button class=\"colab-df-convert\" onclick=\"convertToInteractive('df-7500b168-60a6-4b44-89e2-71e897a4cf0b')\"\n",
              "              title=\"Convert this dataframe to an interactive table.\"\n",
              "              style=\"display:none;\">\n",
              "        \n",
              "  <svg xmlns=\"http://www.w3.org/2000/svg\" height=\"24px\"viewBox=\"0 0 24 24\"\n",
              "       width=\"24px\">\n",
              "    <path d=\"M0 0h24v24H0V0z\" fill=\"none\"/>\n",
              "    <path d=\"M18.56 5.44l.94 2.06.94-2.06 2.06-.94-2.06-.94-.94-2.06-.94 2.06-2.06.94zm-11 1L8.5 8.5l.94-2.06 2.06-.94-2.06-.94L8.5 2.5l-.94 2.06-2.06.94zm10 10l.94 2.06.94-2.06 2.06-.94-2.06-.94-.94-2.06-.94 2.06-2.06.94z\"/><path d=\"M17.41 7.96l-1.37-1.37c-.4-.4-.92-.59-1.43-.59-.52 0-1.04.2-1.43.59L10.3 9.45l-7.72 7.72c-.78.78-.78 2.05 0 2.83L4 21.41c.39.39.9.59 1.41.59.51 0 1.02-.2 1.41-.59l7.78-7.78 2.81-2.81c.8-.78.8-2.07 0-2.86zM5.41 20L4 18.59l7.72-7.72 1.47 1.35L5.41 20z\"/>\n",
              "  </svg>\n",
              "      </button>\n",
              "      \n",
              "  <style>\n",
              "    .colab-df-container {\n",
              "      display:flex;\n",
              "      flex-wrap:wrap;\n",
              "      gap: 12px;\n",
              "    }\n",
              "\n",
              "    .colab-df-convert {\n",
              "      background-color: #E8F0FE;\n",
              "      border: none;\n",
              "      border-radius: 50%;\n",
              "      cursor: pointer;\n",
              "      display: none;\n",
              "      fill: #1967D2;\n",
              "      height: 32px;\n",
              "      padding: 0 0 0 0;\n",
              "      width: 32px;\n",
              "    }\n",
              "\n",
              "    .colab-df-convert:hover {\n",
              "      background-color: #E2EBFA;\n",
              "      box-shadow: 0px 1px 2px rgba(60, 64, 67, 0.3), 0px 1px 3px 1px rgba(60, 64, 67, 0.15);\n",
              "      fill: #174EA6;\n",
              "    }\n",
              "\n",
              "    [theme=dark] .colab-df-convert {\n",
              "      background-color: #3B4455;\n",
              "      fill: #D2E3FC;\n",
              "    }\n",
              "\n",
              "    [theme=dark] .colab-df-convert:hover {\n",
              "      background-color: #434B5C;\n",
              "      box-shadow: 0px 1px 3px 1px rgba(0, 0, 0, 0.15);\n",
              "      filter: drop-shadow(0px 1px 2px rgba(0, 0, 0, 0.3));\n",
              "      fill: #FFFFFF;\n",
              "    }\n",
              "  </style>\n",
              "\n",
              "      <script>\n",
              "        const buttonEl =\n",
              "          document.querySelector('#df-7500b168-60a6-4b44-89e2-71e897a4cf0b button.colab-df-convert');\n",
              "        buttonEl.style.display =\n",
              "          google.colab.kernel.accessAllowed ? 'block' : 'none';\n",
              "\n",
              "        async function convertToInteractive(key) {\n",
              "          const element = document.querySelector('#df-7500b168-60a6-4b44-89e2-71e897a4cf0b');\n",
              "          const dataTable =\n",
              "            await google.colab.kernel.invokeFunction('convertToInteractive',\n",
              "                                                     [key], {});\n",
              "          if (!dataTable) return;\n",
              "\n",
              "          const docLinkHtml = 'Like what you see? Visit the ' +\n",
              "            '<a target=\"_blank\" href=https://colab.research.google.com/notebooks/data_table.ipynb>data table notebook</a>'\n",
              "            + ' to learn more about interactive tables.';\n",
              "          element.innerHTML = '';\n",
              "          dataTable['output_type'] = 'display_data';\n",
              "          await google.colab.output.renderOutput(dataTable, element);\n",
              "          const docLink = document.createElement('div');\n",
              "          docLink.innerHTML = docLinkHtml;\n",
              "          element.appendChild(docLink);\n",
              "        }\n",
              "      </script>\n",
              "    </div>\n",
              "  </div>\n",
              "  "
            ]
          },
          "metadata": {},
          "execution_count": 10
        }
      ]
    },
    {
      "cell_type": "code",
      "source": [
        "missing_values = df1\n",
        "\n",
        "for column in missing_values.columns.values.tolist():\n",
        "    print (column)\n",
        "    print (missing_values[column].value_counts())\n",
        "    print ('')"
      ],
      "metadata": {
        "id": "vPPjlFQvPngM",
        "colab": {
          "base_uri": "https://localhost:8080/"
        },
        "outputId": "d5a81858-7647-4a65-f909-9f6de872e44f"
      },
      "execution_count": null,
      "outputs": [
        {
          "output_type": "stream",
          "name": "stdout",
          "text": [
            "PassengerId\n",
            "False    891\n",
            "Name: PassengerId, dtype: int64\n",
            "\n",
            "Survived\n",
            "False    891\n",
            "Name: Survived, dtype: int64\n",
            "\n",
            "Pclass\n",
            "False    891\n",
            "Name: Pclass, dtype: int64\n",
            "\n",
            "Name\n",
            "False    891\n",
            "Name: Name, dtype: int64\n",
            "\n",
            "Sex\n",
            "False    891\n",
            "Name: Sex, dtype: int64\n",
            "\n",
            "Age\n",
            "False    714\n",
            "True     177\n",
            "Name: Age, dtype: int64\n",
            "\n",
            "SibSp\n",
            "False    891\n",
            "Name: SibSp, dtype: int64\n",
            "\n",
            "Parch\n",
            "False    891\n",
            "Name: Parch, dtype: int64\n",
            "\n",
            "Ticket\n",
            "False    891\n",
            "Name: Ticket, dtype: int64\n",
            "\n",
            "Fare\n",
            "False    891\n",
            "Name: Fare, dtype: int64\n",
            "\n",
            "Cabin\n",
            "True     687\n",
            "False    204\n",
            "Name: Cabin, dtype: int64\n",
            "\n",
            "Embarked\n",
            "False    889\n",
            "True       2\n",
            "Name: Embarked, dtype: int64\n",
            "\n"
          ]
        }
      ]
    },
    {
      "cell_type": "code",
      "source": [
        "df1.sum()"
      ],
      "metadata": {
        "colab": {
          "base_uri": "https://localhost:8080/"
        },
        "id": "5WsTbJvSSU3O",
        "outputId": "9a27a66e-8b86-46a7-95dd-6b2160fd8155"
      },
      "execution_count": null,
      "outputs": [
        {
          "output_type": "execute_result",
          "data": {
            "text/plain": [
              "PassengerId      0\n",
              "Survived         0\n",
              "Pclass           0\n",
              "Name             0\n",
              "Sex              0\n",
              "Age            177\n",
              "SibSp            0\n",
              "Parch            0\n",
              "Ticket           0\n",
              "Fare             0\n",
              "Cabin          687\n",
              "Embarked         2\n",
              "dtype: int64"
            ]
          },
          "metadata": {},
          "execution_count": 12
        }
      ]
    },
    {
      "cell_type": "markdown",
      "source": [
        "Columns age, cabin and embarked have missing values\n"
      ],
      "metadata": {
        "id": "KgUp6miTSgzf"
      }
    },
    {
      "cell_type": "markdown",
      "source": [
        "#**Feature engineering : Cabin**"
      ],
      "metadata": {
        "id": "sRtczNDzWY66"
      }
    },
    {
      "cell_type": "markdown",
      "source": [
        "Train data\n"
      ],
      "metadata": {
        "id": "555PFAdnMcu6"
      }
    },
    {
      "cell_type": "code",
      "source": [
        "df['Cabin'].value_counts()"
      ],
      "metadata": {
        "colab": {
          "base_uri": "https://localhost:8080/"
        },
        "id": "uD_Dhm5UWFM1",
        "outputId": "ddf7a942-6f89-4ff7-9cbe-98ffbbfad51a"
      },
      "execution_count": null,
      "outputs": [
        {
          "output_type": "execute_result",
          "data": {
            "text/plain": [
              "B96 B98        4\n",
              "G6             4\n",
              "C23 C25 C27    4\n",
              "C22 C26        3\n",
              "F33            3\n",
              "              ..\n",
              "E34            1\n",
              "C7             1\n",
              "C54            1\n",
              "E36            1\n",
              "C148           1\n",
              "Name: Cabin, Length: 147, dtype: int64"
            ]
          },
          "metadata": {},
          "execution_count": 13
        }
      ]
    },
    {
      "cell_type": "code",
      "source": [
        "df2 = df\n",
        "df2['Cabin_initial'] = df.Cabin.apply(lambda x: str(x)[0])\n",
        "df2['Cabin_initial'].value_counts()"
      ],
      "metadata": {
        "colab": {
          "base_uri": "https://localhost:8080/"
        },
        "id": "vLoU_U5rWmZ8",
        "outputId": "96f122d5-2692-4d92-8c0d-e2ecb2816b3c"
      },
      "execution_count": null,
      "outputs": [
        {
          "output_type": "execute_result",
          "data": {
            "text/plain": [
              "n    687\n",
              "C     59\n",
              "B     47\n",
              "D     33\n",
              "E     32\n",
              "A     15\n",
              "F     13\n",
              "G      4\n",
              "T      1\n",
              "Name: Cabin_initial, dtype: int64"
            ]
          },
          "metadata": {},
          "execution_count": 14
        }
      ]
    },
    {
      "cell_type": "code",
      "source": [
        "df2.head(1)"
      ],
      "metadata": {
        "colab": {
          "base_uri": "https://localhost:8080/",
          "height": 177
        },
        "id": "XIJMn_2CY878",
        "outputId": "b8d98320-f3fe-44b8-9fc3-31b278d4c3cd"
      },
      "execution_count": null,
      "outputs": [
        {
          "output_type": "execute_result",
          "data": {
            "text/plain": [
              "   PassengerId  Survived  Pclass                     Name   Sex   Age  SibSp  \\\n",
              "0            1         0       3  Braund, Mr. Owen Harris  male  22.0      1   \n",
              "\n",
              "   Parch     Ticket  Fare Cabin Embarked Cabin_initial  \n",
              "0      0  A/5 21171  7.25   NaN        S             n  "
            ],
            "text/html": [
              "\n",
              "  <div id=\"df-ddbe7301-895c-4fa2-85c6-89c7ae372e0e\">\n",
              "    <div class=\"colab-df-container\">\n",
              "      <div>\n",
              "<style scoped>\n",
              "    .dataframe tbody tr th:only-of-type {\n",
              "        vertical-align: middle;\n",
              "    }\n",
              "\n",
              "    .dataframe tbody tr th {\n",
              "        vertical-align: top;\n",
              "    }\n",
              "\n",
              "    .dataframe thead th {\n",
              "        text-align: right;\n",
              "    }\n",
              "</style>\n",
              "<table border=\"1\" class=\"dataframe\">\n",
              "  <thead>\n",
              "    <tr style=\"text-align: right;\">\n",
              "      <th></th>\n",
              "      <th>PassengerId</th>\n",
              "      <th>Survived</th>\n",
              "      <th>Pclass</th>\n",
              "      <th>Name</th>\n",
              "      <th>Sex</th>\n",
              "      <th>Age</th>\n",
              "      <th>SibSp</th>\n",
              "      <th>Parch</th>\n",
              "      <th>Ticket</th>\n",
              "      <th>Fare</th>\n",
              "      <th>Cabin</th>\n",
              "      <th>Embarked</th>\n",
              "      <th>Cabin_initial</th>\n",
              "    </tr>\n",
              "  </thead>\n",
              "  <tbody>\n",
              "    <tr>\n",
              "      <th>0</th>\n",
              "      <td>1</td>\n",
              "      <td>0</td>\n",
              "      <td>3</td>\n",
              "      <td>Braund, Mr. Owen Harris</td>\n",
              "      <td>male</td>\n",
              "      <td>22.0</td>\n",
              "      <td>1</td>\n",
              "      <td>0</td>\n",
              "      <td>A/5 21171</td>\n",
              "      <td>7.25</td>\n",
              "      <td>NaN</td>\n",
              "      <td>S</td>\n",
              "      <td>n</td>\n",
              "    </tr>\n",
              "  </tbody>\n",
              "</table>\n",
              "</div>\n",
              "      <button class=\"colab-df-convert\" onclick=\"convertToInteractive('df-ddbe7301-895c-4fa2-85c6-89c7ae372e0e')\"\n",
              "              title=\"Convert this dataframe to an interactive table.\"\n",
              "              style=\"display:none;\">\n",
              "        \n",
              "  <svg xmlns=\"http://www.w3.org/2000/svg\" height=\"24px\"viewBox=\"0 0 24 24\"\n",
              "       width=\"24px\">\n",
              "    <path d=\"M0 0h24v24H0V0z\" fill=\"none\"/>\n",
              "    <path d=\"M18.56 5.44l.94 2.06.94-2.06 2.06-.94-2.06-.94-.94-2.06-.94 2.06-2.06.94zm-11 1L8.5 8.5l.94-2.06 2.06-.94-2.06-.94L8.5 2.5l-.94 2.06-2.06.94zm10 10l.94 2.06.94-2.06 2.06-.94-2.06-.94-.94-2.06-.94 2.06-2.06.94z\"/><path d=\"M17.41 7.96l-1.37-1.37c-.4-.4-.92-.59-1.43-.59-.52 0-1.04.2-1.43.59L10.3 9.45l-7.72 7.72c-.78.78-.78 2.05 0 2.83L4 21.41c.39.39.9.59 1.41.59.51 0 1.02-.2 1.41-.59l7.78-7.78 2.81-2.81c.8-.78.8-2.07 0-2.86zM5.41 20L4 18.59l7.72-7.72 1.47 1.35L5.41 20z\"/>\n",
              "  </svg>\n",
              "      </button>\n",
              "      \n",
              "  <style>\n",
              "    .colab-df-container {\n",
              "      display:flex;\n",
              "      flex-wrap:wrap;\n",
              "      gap: 12px;\n",
              "    }\n",
              "\n",
              "    .colab-df-convert {\n",
              "      background-color: #E8F0FE;\n",
              "      border: none;\n",
              "      border-radius: 50%;\n",
              "      cursor: pointer;\n",
              "      display: none;\n",
              "      fill: #1967D2;\n",
              "      height: 32px;\n",
              "      padding: 0 0 0 0;\n",
              "      width: 32px;\n",
              "    }\n",
              "\n",
              "    .colab-df-convert:hover {\n",
              "      background-color: #E2EBFA;\n",
              "      box-shadow: 0px 1px 2px rgba(60, 64, 67, 0.3), 0px 1px 3px 1px rgba(60, 64, 67, 0.15);\n",
              "      fill: #174EA6;\n",
              "    }\n",
              "\n",
              "    [theme=dark] .colab-df-convert {\n",
              "      background-color: #3B4455;\n",
              "      fill: #D2E3FC;\n",
              "    }\n",
              "\n",
              "    [theme=dark] .colab-df-convert:hover {\n",
              "      background-color: #434B5C;\n",
              "      box-shadow: 0px 1px 3px 1px rgba(0, 0, 0, 0.15);\n",
              "      filter: drop-shadow(0px 1px 2px rgba(0, 0, 0, 0.3));\n",
              "      fill: #FFFFFF;\n",
              "    }\n",
              "  </style>\n",
              "\n",
              "      <script>\n",
              "        const buttonEl =\n",
              "          document.querySelector('#df-ddbe7301-895c-4fa2-85c6-89c7ae372e0e button.colab-df-convert');\n",
              "        buttonEl.style.display =\n",
              "          google.colab.kernel.accessAllowed ? 'block' : 'none';\n",
              "\n",
              "        async function convertToInteractive(key) {\n",
              "          const element = document.querySelector('#df-ddbe7301-895c-4fa2-85c6-89c7ae372e0e');\n",
              "          const dataTable =\n",
              "            await google.colab.kernel.invokeFunction('convertToInteractive',\n",
              "                                                     [key], {});\n",
              "          if (!dataTable) return;\n",
              "\n",
              "          const docLinkHtml = 'Like what you see? Visit the ' +\n",
              "            '<a target=\"_blank\" href=https://colab.research.google.com/notebooks/data_table.ipynb>data table notebook</a>'\n",
              "            + ' to learn more about interactive tables.';\n",
              "          element.innerHTML = '';\n",
              "          dataTable['output_type'] = 'display_data';\n",
              "          await google.colab.output.renderOutput(dataTable, element);\n",
              "          const docLink = document.createElement('div');\n",
              "          docLink.innerHTML = docLinkHtml;\n",
              "          element.appendChild(docLink);\n",
              "        }\n",
              "      </script>\n",
              "    </div>\n",
              "  </div>\n",
              "  "
            ]
          },
          "metadata": {},
          "execution_count": 15
        }
      ]
    },
    {
      "cell_type": "code",
      "source": [
        "#to locate spesific index for cabin_initial T\n",
        "#drop row with cabin_initial T to remove outlier\n",
        "new_df = df2.loc[df2['Cabin_initial'].str.startswith('T')].copy()\n",
        "print (new_df)"
      ],
      "metadata": {
        "colab": {
          "base_uri": "https://localhost:8080/"
        },
        "id": "48-NwcZoY-VA",
        "outputId": "335b42b1-2109-4d17-d4f6-60ae53b5ec5b"
      },
      "execution_count": null,
      "outputs": [
        {
          "output_type": "stream",
          "name": "stdout",
          "text": [
            "     PassengerId  Survived  Pclass                          Name   Sex   Age  \\\n",
            "339          340         0       1  Blackwell, Mr. Stephen Weart  male  45.0   \n",
            "\n",
            "     SibSp  Parch  Ticket  Fare Cabin Embarked Cabin_initial  \n",
            "339      0      0  113784  35.5     T        S             T  \n"
          ]
        }
      ]
    },
    {
      "cell_type": "code",
      "source": [
        "df3 = df2.drop(339)\n",
        "print(df3.loc[339].head())\n",
        "# the error to print row with index 339 because index 339 has been dropped"
      ],
      "metadata": {
        "colab": {
          "base_uri": "https://localhost:8080/",
          "height": 502
        },
        "id": "YXb7gRWQceRp",
        "outputId": "5b72dd7b-4341-4620-edec-f532265a4f54"
      },
      "execution_count": null,
      "outputs": [
        {
          "output_type": "error",
          "ename": "KeyError",
          "evalue": "ignored",
          "traceback": [
            "\u001b[0;31m---------------------------------------------------------------------------\u001b[0m",
            "\u001b[0;31mKeyError\u001b[0m                                  Traceback (most recent call last)",
            "\u001b[0;32m/usr/local/lib/python3.7/dist-packages/pandas/core/indexes/base.py\u001b[0m in \u001b[0;36mget_loc\u001b[0;34m(self, key, method, tolerance)\u001b[0m\n\u001b[1;32m   3360\u001b[0m             \u001b[0;32mtry\u001b[0m\u001b[0;34m:\u001b[0m\u001b[0;34m\u001b[0m\u001b[0;34m\u001b[0m\u001b[0m\n\u001b[0;32m-> 3361\u001b[0;31m                 \u001b[0;32mreturn\u001b[0m \u001b[0mself\u001b[0m\u001b[0;34m.\u001b[0m\u001b[0m_engine\u001b[0m\u001b[0;34m.\u001b[0m\u001b[0mget_loc\u001b[0m\u001b[0;34m(\u001b[0m\u001b[0mcasted_key\u001b[0m\u001b[0;34m)\u001b[0m\u001b[0;34m\u001b[0m\u001b[0;34m\u001b[0m\u001b[0m\n\u001b[0m\u001b[1;32m   3362\u001b[0m             \u001b[0;32mexcept\u001b[0m \u001b[0mKeyError\u001b[0m \u001b[0;32mas\u001b[0m \u001b[0merr\u001b[0m\u001b[0;34m:\u001b[0m\u001b[0;34m\u001b[0m\u001b[0;34m\u001b[0m\u001b[0m\n",
            "\u001b[0;32m/usr/local/lib/python3.7/dist-packages/pandas/_libs/index.pyx\u001b[0m in \u001b[0;36mpandas._libs.index.IndexEngine.get_loc\u001b[0;34m()\u001b[0m\n",
            "\u001b[0;32m/usr/local/lib/python3.7/dist-packages/pandas/_libs/index.pyx\u001b[0m in \u001b[0;36mpandas._libs.index.IndexEngine.get_loc\u001b[0;34m()\u001b[0m\n",
            "\u001b[0;32mpandas/_libs/hashtable_class_helper.pxi\u001b[0m in \u001b[0;36mpandas._libs.hashtable.Int64HashTable.get_item\u001b[0;34m()\u001b[0m\n",
            "\u001b[0;32mpandas/_libs/hashtable_class_helper.pxi\u001b[0m in \u001b[0;36mpandas._libs.hashtable.Int64HashTable.get_item\u001b[0;34m()\u001b[0m\n",
            "\u001b[0;31mKeyError\u001b[0m: 339",
            "\nThe above exception was the direct cause of the following exception:\n",
            "\u001b[0;31mKeyError\u001b[0m                                  Traceback (most recent call last)",
            "\u001b[0;32m<ipython-input-17-23b73bdf70b7>\u001b[0m in \u001b[0;36m<module>\u001b[0;34m\u001b[0m\n\u001b[1;32m      1\u001b[0m \u001b[0mdf3\u001b[0m \u001b[0;34m=\u001b[0m \u001b[0mdf2\u001b[0m\u001b[0;34m.\u001b[0m\u001b[0mdrop\u001b[0m\u001b[0;34m(\u001b[0m\u001b[0;36m339\u001b[0m\u001b[0;34m)\u001b[0m\u001b[0;34m\u001b[0m\u001b[0;34m\u001b[0m\u001b[0m\n\u001b[0;32m----> 2\u001b[0;31m \u001b[0mprint\u001b[0m\u001b[0;34m(\u001b[0m\u001b[0mdf3\u001b[0m\u001b[0;34m.\u001b[0m\u001b[0mloc\u001b[0m\u001b[0;34m[\u001b[0m\u001b[0;36m339\u001b[0m\u001b[0;34m]\u001b[0m\u001b[0;34m.\u001b[0m\u001b[0mhead\u001b[0m\u001b[0;34m(\u001b[0m\u001b[0;34m)\u001b[0m\u001b[0;34m)\u001b[0m\u001b[0;34m\u001b[0m\u001b[0;34m\u001b[0m\u001b[0m\n\u001b[0m\u001b[1;32m      3\u001b[0m \u001b[0;31m# the error to print row with index 339 because index 339 has been dropped\u001b[0m\u001b[0;34m\u001b[0m\u001b[0;34m\u001b[0m\u001b[0;34m\u001b[0m\u001b[0m\n",
            "\u001b[0;32m/usr/local/lib/python3.7/dist-packages/pandas/core/indexing.py\u001b[0m in \u001b[0;36m__getitem__\u001b[0;34m(self, key)\u001b[0m\n\u001b[1;32m    929\u001b[0m \u001b[0;34m\u001b[0m\u001b[0m\n\u001b[1;32m    930\u001b[0m             \u001b[0mmaybe_callable\u001b[0m \u001b[0;34m=\u001b[0m \u001b[0mcom\u001b[0m\u001b[0;34m.\u001b[0m\u001b[0mapply_if_callable\u001b[0m\u001b[0;34m(\u001b[0m\u001b[0mkey\u001b[0m\u001b[0;34m,\u001b[0m \u001b[0mself\u001b[0m\u001b[0;34m.\u001b[0m\u001b[0mobj\u001b[0m\u001b[0;34m)\u001b[0m\u001b[0;34m\u001b[0m\u001b[0;34m\u001b[0m\u001b[0m\n\u001b[0;32m--> 931\u001b[0;31m             \u001b[0;32mreturn\u001b[0m \u001b[0mself\u001b[0m\u001b[0;34m.\u001b[0m\u001b[0m_getitem_axis\u001b[0m\u001b[0;34m(\u001b[0m\u001b[0mmaybe_callable\u001b[0m\u001b[0;34m,\u001b[0m \u001b[0maxis\u001b[0m\u001b[0;34m=\u001b[0m\u001b[0maxis\u001b[0m\u001b[0;34m)\u001b[0m\u001b[0;34m\u001b[0m\u001b[0;34m\u001b[0m\u001b[0m\n\u001b[0m\u001b[1;32m    932\u001b[0m \u001b[0;34m\u001b[0m\u001b[0m\n\u001b[1;32m    933\u001b[0m     \u001b[0;32mdef\u001b[0m \u001b[0m_is_scalar_access\u001b[0m\u001b[0;34m(\u001b[0m\u001b[0mself\u001b[0m\u001b[0;34m,\u001b[0m \u001b[0mkey\u001b[0m\u001b[0;34m:\u001b[0m \u001b[0mtuple\u001b[0m\u001b[0;34m)\u001b[0m\u001b[0;34m:\u001b[0m\u001b[0;34m\u001b[0m\u001b[0;34m\u001b[0m\u001b[0m\n",
            "\u001b[0;32m/usr/local/lib/python3.7/dist-packages/pandas/core/indexing.py\u001b[0m in \u001b[0;36m_getitem_axis\u001b[0;34m(self, key, axis)\u001b[0m\n\u001b[1;32m   1162\u001b[0m         \u001b[0;31m# fall thru to straight lookup\u001b[0m\u001b[0;34m\u001b[0m\u001b[0;34m\u001b[0m\u001b[0;34m\u001b[0m\u001b[0m\n\u001b[1;32m   1163\u001b[0m         \u001b[0mself\u001b[0m\u001b[0;34m.\u001b[0m\u001b[0m_validate_key\u001b[0m\u001b[0;34m(\u001b[0m\u001b[0mkey\u001b[0m\u001b[0;34m,\u001b[0m \u001b[0maxis\u001b[0m\u001b[0;34m)\u001b[0m\u001b[0;34m\u001b[0m\u001b[0;34m\u001b[0m\u001b[0m\n\u001b[0;32m-> 1164\u001b[0;31m         \u001b[0;32mreturn\u001b[0m \u001b[0mself\u001b[0m\u001b[0;34m.\u001b[0m\u001b[0m_get_label\u001b[0m\u001b[0;34m(\u001b[0m\u001b[0mkey\u001b[0m\u001b[0;34m,\u001b[0m \u001b[0maxis\u001b[0m\u001b[0;34m=\u001b[0m\u001b[0maxis\u001b[0m\u001b[0;34m)\u001b[0m\u001b[0;34m\u001b[0m\u001b[0;34m\u001b[0m\u001b[0m\n\u001b[0m\u001b[1;32m   1165\u001b[0m \u001b[0;34m\u001b[0m\u001b[0m\n\u001b[1;32m   1166\u001b[0m     \u001b[0;32mdef\u001b[0m \u001b[0m_get_slice_axis\u001b[0m\u001b[0;34m(\u001b[0m\u001b[0mself\u001b[0m\u001b[0;34m,\u001b[0m \u001b[0mslice_obj\u001b[0m\u001b[0;34m:\u001b[0m \u001b[0mslice\u001b[0m\u001b[0;34m,\u001b[0m \u001b[0maxis\u001b[0m\u001b[0;34m:\u001b[0m \u001b[0mint\u001b[0m\u001b[0;34m)\u001b[0m\u001b[0;34m:\u001b[0m\u001b[0;34m\u001b[0m\u001b[0;34m\u001b[0m\u001b[0m\n",
            "\u001b[0;32m/usr/local/lib/python3.7/dist-packages/pandas/core/indexing.py\u001b[0m in \u001b[0;36m_get_label\u001b[0;34m(self, label, axis)\u001b[0m\n\u001b[1;32m   1111\u001b[0m     \u001b[0;32mdef\u001b[0m \u001b[0m_get_label\u001b[0m\u001b[0;34m(\u001b[0m\u001b[0mself\u001b[0m\u001b[0;34m,\u001b[0m \u001b[0mlabel\u001b[0m\u001b[0;34m,\u001b[0m \u001b[0maxis\u001b[0m\u001b[0;34m:\u001b[0m \u001b[0mint\u001b[0m\u001b[0;34m)\u001b[0m\u001b[0;34m:\u001b[0m\u001b[0;34m\u001b[0m\u001b[0;34m\u001b[0m\u001b[0m\n\u001b[1;32m   1112\u001b[0m         \u001b[0;31m# GH#5667 this will fail if the label is not present in the axis.\u001b[0m\u001b[0;34m\u001b[0m\u001b[0;34m\u001b[0m\u001b[0;34m\u001b[0m\u001b[0m\n\u001b[0;32m-> 1113\u001b[0;31m         \u001b[0;32mreturn\u001b[0m \u001b[0mself\u001b[0m\u001b[0;34m.\u001b[0m\u001b[0mobj\u001b[0m\u001b[0;34m.\u001b[0m\u001b[0mxs\u001b[0m\u001b[0;34m(\u001b[0m\u001b[0mlabel\u001b[0m\u001b[0;34m,\u001b[0m \u001b[0maxis\u001b[0m\u001b[0;34m=\u001b[0m\u001b[0maxis\u001b[0m\u001b[0;34m)\u001b[0m\u001b[0;34m\u001b[0m\u001b[0;34m\u001b[0m\u001b[0m\n\u001b[0m\u001b[1;32m   1114\u001b[0m \u001b[0;34m\u001b[0m\u001b[0m\n\u001b[1;32m   1115\u001b[0m     \u001b[0;32mdef\u001b[0m \u001b[0m_handle_lowerdim_multi_index_axis0\u001b[0m\u001b[0;34m(\u001b[0m\u001b[0mself\u001b[0m\u001b[0;34m,\u001b[0m \u001b[0mtup\u001b[0m\u001b[0;34m:\u001b[0m \u001b[0mtuple\u001b[0m\u001b[0;34m)\u001b[0m\u001b[0;34m:\u001b[0m\u001b[0;34m\u001b[0m\u001b[0;34m\u001b[0m\u001b[0m\n",
            "\u001b[0;32m/usr/local/lib/python3.7/dist-packages/pandas/core/generic.py\u001b[0m in \u001b[0;36mxs\u001b[0;34m(self, key, axis, level, drop_level)\u001b[0m\n\u001b[1;32m   3774\u001b[0m                 \u001b[0;32mraise\u001b[0m \u001b[0mTypeError\u001b[0m\u001b[0;34m(\u001b[0m\u001b[0;34mf\"Expected label or tuple of labels, got {key}\"\u001b[0m\u001b[0;34m)\u001b[0m \u001b[0;32mfrom\u001b[0m \u001b[0me\u001b[0m\u001b[0;34m\u001b[0m\u001b[0;34m\u001b[0m\u001b[0m\n\u001b[1;32m   3775\u001b[0m         \u001b[0;32melse\u001b[0m\u001b[0;34m:\u001b[0m\u001b[0;34m\u001b[0m\u001b[0;34m\u001b[0m\u001b[0m\n\u001b[0;32m-> 3776\u001b[0;31m             \u001b[0mloc\u001b[0m \u001b[0;34m=\u001b[0m \u001b[0mindex\u001b[0m\u001b[0;34m.\u001b[0m\u001b[0mget_loc\u001b[0m\u001b[0;34m(\u001b[0m\u001b[0mkey\u001b[0m\u001b[0;34m)\u001b[0m\u001b[0;34m\u001b[0m\u001b[0;34m\u001b[0m\u001b[0m\n\u001b[0m\u001b[1;32m   3777\u001b[0m \u001b[0;34m\u001b[0m\u001b[0m\n\u001b[1;32m   3778\u001b[0m             \u001b[0;32mif\u001b[0m \u001b[0misinstance\u001b[0m\u001b[0;34m(\u001b[0m\u001b[0mloc\u001b[0m\u001b[0;34m,\u001b[0m \u001b[0mnp\u001b[0m\u001b[0;34m.\u001b[0m\u001b[0mndarray\u001b[0m\u001b[0;34m)\u001b[0m\u001b[0;34m:\u001b[0m\u001b[0;34m\u001b[0m\u001b[0;34m\u001b[0m\u001b[0m\n",
            "\u001b[0;32m/usr/local/lib/python3.7/dist-packages/pandas/core/indexes/base.py\u001b[0m in \u001b[0;36mget_loc\u001b[0;34m(self, key, method, tolerance)\u001b[0m\n\u001b[1;32m   3361\u001b[0m                 \u001b[0;32mreturn\u001b[0m \u001b[0mself\u001b[0m\u001b[0;34m.\u001b[0m\u001b[0m_engine\u001b[0m\u001b[0;34m.\u001b[0m\u001b[0mget_loc\u001b[0m\u001b[0;34m(\u001b[0m\u001b[0mcasted_key\u001b[0m\u001b[0;34m)\u001b[0m\u001b[0;34m\u001b[0m\u001b[0;34m\u001b[0m\u001b[0m\n\u001b[1;32m   3362\u001b[0m             \u001b[0;32mexcept\u001b[0m \u001b[0mKeyError\u001b[0m \u001b[0;32mas\u001b[0m \u001b[0merr\u001b[0m\u001b[0;34m:\u001b[0m\u001b[0;34m\u001b[0m\u001b[0;34m\u001b[0m\u001b[0m\n\u001b[0;32m-> 3363\u001b[0;31m                 \u001b[0;32mraise\u001b[0m \u001b[0mKeyError\u001b[0m\u001b[0;34m(\u001b[0m\u001b[0mkey\u001b[0m\u001b[0;34m)\u001b[0m \u001b[0;32mfrom\u001b[0m \u001b[0merr\u001b[0m\u001b[0;34m\u001b[0m\u001b[0;34m\u001b[0m\u001b[0m\n\u001b[0m\u001b[1;32m   3364\u001b[0m \u001b[0;34m\u001b[0m\u001b[0m\n\u001b[1;32m   3365\u001b[0m         \u001b[0;32mif\u001b[0m \u001b[0mis_scalar\u001b[0m\u001b[0;34m(\u001b[0m\u001b[0mkey\u001b[0m\u001b[0;34m)\u001b[0m \u001b[0;32mand\u001b[0m \u001b[0misna\u001b[0m\u001b[0;34m(\u001b[0m\u001b[0mkey\u001b[0m\u001b[0;34m)\u001b[0m \u001b[0;32mand\u001b[0m \u001b[0;32mnot\u001b[0m \u001b[0mself\u001b[0m\u001b[0;34m.\u001b[0m\u001b[0mhasnans\u001b[0m\u001b[0;34m:\u001b[0m\u001b[0;34m\u001b[0m\u001b[0;34m\u001b[0m\u001b[0m\n",
            "\u001b[0;31mKeyError\u001b[0m: 339"
          ]
        }
      ]
    },
    {
      "cell_type": "code",
      "source": [
        "print (df3.loc[340].head())"
      ],
      "metadata": {
        "colab": {
          "base_uri": "https://localhost:8080/"
        },
        "id": "NcEJP11HcudO",
        "outputId": "00bf5036-1bfb-454a-fa0f-1e590ae41196"
      },
      "execution_count": null,
      "outputs": [
        {
          "output_type": "stream",
          "name": "stdout",
          "text": [
            "PassengerId                               341\n",
            "Survived                                    1\n",
            "Pclass                                      2\n",
            "Name           Navratil, Master. Edmond Roger\n",
            "Sex                                      male\n",
            "Name: 340, dtype: object\n"
          ]
        }
      ]
    },
    {
      "cell_type": "code",
      "source": [
        "cabin = {\"A\": 1, \"B\": 2, \"C\": 3, \"D\": 4, \"E\": 5, \"F\": 6, \"G\": 7, \"n\": 8}\n",
        "df3['Cabin_initial'] = df3['Cabin_initial'].map(cabin)\n",
        "df3['Cabin_initial'].value_counts()"
      ],
      "metadata": {
        "colab": {
          "base_uri": "https://localhost:8080/"
        },
        "id": "ATlqYYDSVLUd",
        "outputId": "385c0b3d-b6fb-4a37-f7dd-0a120f7a68ad"
      },
      "execution_count": null,
      "outputs": [
        {
          "output_type": "execute_result",
          "data": {
            "text/plain": [
              "8    687\n",
              "3     59\n",
              "2     47\n",
              "4     33\n",
              "5     32\n",
              "1     15\n",
              "6     13\n",
              "7      4\n",
              "Name: Cabin_initial, dtype: int64"
            ]
          },
          "metadata": {},
          "execution_count": 19
        }
      ]
    },
    {
      "cell_type": "code",
      "source": [
        "df3.columns"
      ],
      "metadata": {
        "colab": {
          "base_uri": "https://localhost:8080/"
        },
        "id": "EgQFCtxwXMDL",
        "outputId": "616a9024-92ed-4839-cc1b-2fc0c72a184f"
      },
      "execution_count": null,
      "outputs": [
        {
          "output_type": "execute_result",
          "data": {
            "text/plain": [
              "Index(['PassengerId', 'Survived', 'Pclass', 'Name', 'Sex', 'Age', 'SibSp',\n",
              "       'Parch', 'Ticket', 'Fare', 'Cabin', 'Embarked', 'Cabin_initial'],\n",
              "      dtype='object')"
            ]
          },
          "metadata": {},
          "execution_count": 20
        }
      ]
    },
    {
      "cell_type": "markdown",
      "source": [
        "Test data\n"
      ],
      "metadata": {
        "id": "Sfj_zHpiMlit"
      }
    },
    {
      "cell_type": "code",
      "source": [
        "df2_test = df_test   \n",
        "df2_test['Cabin_initial'] = df_test.Cabin.apply(lambda x: str(x)[0])\n",
        "df2_test['Cabin_initial'].value_counts()"
      ],
      "metadata": {
        "colab": {
          "base_uri": "https://localhost:8080/"
        },
        "id": "PMAmMT6vMnxr",
        "outputId": "822300e0-ca34-4d71-ff67-34b7a3ee74f3"
      },
      "execution_count": null,
      "outputs": [
        {
          "output_type": "execute_result",
          "data": {
            "text/plain": [
              "n    327\n",
              "C     35\n",
              "B     18\n",
              "D     13\n",
              "E      9\n",
              "F      8\n",
              "A      7\n",
              "G      1\n",
              "Name: Cabin_initial, dtype: int64"
            ]
          },
          "metadata": {},
          "execution_count": 21
        }
      ]
    },
    {
      "cell_type": "code",
      "source": [
        "cabin_test = {\"A\": 1, \"B\": 2, \"C\": 3, \"D\": 4, \"E\": 5, \"F\": 6, \"G\": 7, \"n\": 8}\n",
        "df2_test['Cabin_initial'] = df2_test['Cabin_initial'].map(cabin_test)\n",
        "df2_test['Cabin_initial'].value_counts()"
      ],
      "metadata": {
        "colab": {
          "base_uri": "https://localhost:8080/"
        },
        "id": "fnfaKx8rNIhN",
        "outputId": "d9e2f7f6-0784-4ec3-a835-61a63fcb0ba1"
      },
      "execution_count": null,
      "outputs": [
        {
          "output_type": "execute_result",
          "data": {
            "text/plain": [
              "8    327\n",
              "3     35\n",
              "2     18\n",
              "4     13\n",
              "5      9\n",
              "6      8\n",
              "1      7\n",
              "7      1\n",
              "Name: Cabin_initial, dtype: int64"
            ]
          },
          "metadata": {},
          "execution_count": 22
        }
      ]
    },
    {
      "cell_type": "markdown",
      "source": [
        "#**Feature Engineering : Name**"
      ],
      "metadata": {
        "id": "OOsnVMHNXTw1"
      }
    },
    {
      "cell_type": "markdown",
      "source": [
        "Train data"
      ],
      "metadata": {
        "id": "wi0IXUB8Nl4t"
      }
    },
    {
      "cell_type": "code",
      "source": [
        "df4 = df3\n",
        "df4['Salutation'] = df.Name.apply(lambda name: name.split(',')[1].split('.')[0].strip())\n",
        "df4['Salutation'].value_counts()"
      ],
      "metadata": {
        "colab": {
          "base_uri": "https://localhost:8080/"
        },
        "id": "jtYHFWM-XaoG",
        "outputId": "a9f2ec71-5fb3-4fcb-99ab-33f6e65a0e02"
      },
      "execution_count": null,
      "outputs": [
        {
          "output_type": "execute_result",
          "data": {
            "text/plain": [
              "Mr              516\n",
              "Miss            182\n",
              "Mrs             125\n",
              "Master           40\n",
              "Dr                7\n",
              "Rev               6\n",
              "Mlle              2\n",
              "Major             2\n",
              "Col               2\n",
              "the Countess      1\n",
              "Capt              1\n",
              "Ms                1\n",
              "Sir               1\n",
              "Lady              1\n",
              "Mme               1\n",
              "Don               1\n",
              "Jonkheer          1\n",
              "Name: Salutation, dtype: int64"
            ]
          },
          "metadata": {},
          "execution_count": 23
        }
      ]
    },
    {
      "cell_type": "code",
      "source": [
        "df4['Salutation'] = df4['Salutation'].replace('Mlle', 'Miss')\n",
        "df4['Salutation'] = df4['Salutation'].replace('Ms', 'Miss')\n",
        "df4['Salutation'] = df4['Salutation'].replace('Mme', 'Mrs')\n",
        "df4['Salutation'].value_counts()"
      ],
      "metadata": {
        "colab": {
          "base_uri": "https://localhost:8080/"
        },
        "id": "Gj3SwVbJZBQ4",
        "outputId": "b81d9a42-ba12-427d-e178-d11eaaface48"
      },
      "execution_count": null,
      "outputs": [
        {
          "output_type": "execute_result",
          "data": {
            "text/plain": [
              "Mr              516\n",
              "Miss            185\n",
              "Mrs             126\n",
              "Master           40\n",
              "Dr                7\n",
              "Rev               6\n",
              "Major             2\n",
              "Col               2\n",
              "Don               1\n",
              "Lady              1\n",
              "Sir               1\n",
              "Capt              1\n",
              "the Countess      1\n",
              "Jonkheer          1\n",
              "Name: Salutation, dtype: int64"
            ]
          },
          "metadata": {},
          "execution_count": 24
        }
      ]
    },
    {
      "cell_type": "code",
      "source": [
        "df4['Salutation'] = df4['Salutation'].replace(['Lady', 'the Countess','Capt', 'Col','Don', 'Dr',\\\n",
        "                                            'Major', 'Rev', 'Sir', 'Jonkheer', 'Dona'], 'Others')\n",
        "df4['Salutation'].value_counts()"
      ],
      "metadata": {
        "colab": {
          "base_uri": "https://localhost:8080/"
        },
        "id": "1Gro2H01ZNRX",
        "outputId": "c7adeb8c-307d-411a-a53c-512b193199ef"
      },
      "execution_count": null,
      "outputs": [
        {
          "output_type": "execute_result",
          "data": {
            "text/plain": [
              "Mr        516\n",
              "Miss      185\n",
              "Mrs       126\n",
              "Master     40\n",
              "Others     23\n",
              "Name: Salutation, dtype: int64"
            ]
          },
          "metadata": {},
          "execution_count": 25
        }
      ]
    },
    {
      "cell_type": "code",
      "source": [
        " titles = {\"Mr\": 1, \"Miss\": 2, \"Mrs\": 3, \"Master\": 4, \"Others\": 5}\n",
        " df4['Salutation'] = df4['Salutation'].map(titles)\n",
        " df4['Salutation'].value_counts()"
      ],
      "metadata": {
        "colab": {
          "base_uri": "https://localhost:8080/"
        },
        "id": "E94FcDA5ZYJ0",
        "outputId": "afa8b385-2807-4712-e169-035504fada2f"
      },
      "execution_count": null,
      "outputs": [
        {
          "output_type": "execute_result",
          "data": {
            "text/plain": [
              "1    516\n",
              "2    185\n",
              "3    126\n",
              "4     40\n",
              "5     23\n",
              "Name: Salutation, dtype: int64"
            ]
          },
          "metadata": {},
          "execution_count": 26
        }
      ]
    },
    {
      "cell_type": "code",
      "source": [
        "df4.head(2)"
      ],
      "metadata": {
        "colab": {
          "base_uri": "https://localhost:8080/",
          "height": 332
        },
        "id": "Bc7yeN4-aCaL",
        "outputId": "076799b7-ad11-45b7-f75b-4c4df611b42b"
      },
      "execution_count": null,
      "outputs": [
        {
          "output_type": "execute_result",
          "data": {
            "text/plain": [
              "   PassengerId  Survived  Pclass  \\\n",
              "0            1         0       3   \n",
              "1            2         1       1   \n",
              "\n",
              "                                                Name     Sex   Age  SibSp  \\\n",
              "0                            Braund, Mr. Owen Harris    male  22.0      1   \n",
              "1  Cumings, Mrs. John Bradley (Florence Briggs Th...  female  38.0      1   \n",
              "\n",
              "   Parch     Ticket     Fare Cabin Embarked  Cabin_initial  Salutation  \n",
              "0      0  A/5 21171   7.2500   NaN        S              8           1  \n",
              "1      0   PC 17599  71.2833   C85        C              3           3  "
            ],
            "text/html": [
              "\n",
              "  <div id=\"df-03ff7a07-1100-4d41-aac5-ed9dcaf528e6\">\n",
              "    <div class=\"colab-df-container\">\n",
              "      <div>\n",
              "<style scoped>\n",
              "    .dataframe tbody tr th:only-of-type {\n",
              "        vertical-align: middle;\n",
              "    }\n",
              "\n",
              "    .dataframe tbody tr th {\n",
              "        vertical-align: top;\n",
              "    }\n",
              "\n",
              "    .dataframe thead th {\n",
              "        text-align: right;\n",
              "    }\n",
              "</style>\n",
              "<table border=\"1\" class=\"dataframe\">\n",
              "  <thead>\n",
              "    <tr style=\"text-align: right;\">\n",
              "      <th></th>\n",
              "      <th>PassengerId</th>\n",
              "      <th>Survived</th>\n",
              "      <th>Pclass</th>\n",
              "      <th>Name</th>\n",
              "      <th>Sex</th>\n",
              "      <th>Age</th>\n",
              "      <th>SibSp</th>\n",
              "      <th>Parch</th>\n",
              "      <th>Ticket</th>\n",
              "      <th>Fare</th>\n",
              "      <th>Cabin</th>\n",
              "      <th>Embarked</th>\n",
              "      <th>Cabin_initial</th>\n",
              "      <th>Salutation</th>\n",
              "    </tr>\n",
              "  </thead>\n",
              "  <tbody>\n",
              "    <tr>\n",
              "      <th>0</th>\n",
              "      <td>1</td>\n",
              "      <td>0</td>\n",
              "      <td>3</td>\n",
              "      <td>Braund, Mr. Owen Harris</td>\n",
              "      <td>male</td>\n",
              "      <td>22.0</td>\n",
              "      <td>1</td>\n",
              "      <td>0</td>\n",
              "      <td>A/5 21171</td>\n",
              "      <td>7.2500</td>\n",
              "      <td>NaN</td>\n",
              "      <td>S</td>\n",
              "      <td>8</td>\n",
              "      <td>1</td>\n",
              "    </tr>\n",
              "    <tr>\n",
              "      <th>1</th>\n",
              "      <td>2</td>\n",
              "      <td>1</td>\n",
              "      <td>1</td>\n",
              "      <td>Cumings, Mrs. John Bradley (Florence Briggs Th...</td>\n",
              "      <td>female</td>\n",
              "      <td>38.0</td>\n",
              "      <td>1</td>\n",
              "      <td>0</td>\n",
              "      <td>PC 17599</td>\n",
              "      <td>71.2833</td>\n",
              "      <td>C85</td>\n",
              "      <td>C</td>\n",
              "      <td>3</td>\n",
              "      <td>3</td>\n",
              "    </tr>\n",
              "  </tbody>\n",
              "</table>\n",
              "</div>\n",
              "      <button class=\"colab-df-convert\" onclick=\"convertToInteractive('df-03ff7a07-1100-4d41-aac5-ed9dcaf528e6')\"\n",
              "              title=\"Convert this dataframe to an interactive table.\"\n",
              "              style=\"display:none;\">\n",
              "        \n",
              "  <svg xmlns=\"http://www.w3.org/2000/svg\" height=\"24px\"viewBox=\"0 0 24 24\"\n",
              "       width=\"24px\">\n",
              "    <path d=\"M0 0h24v24H0V0z\" fill=\"none\"/>\n",
              "    <path d=\"M18.56 5.44l.94 2.06.94-2.06 2.06-.94-2.06-.94-.94-2.06-.94 2.06-2.06.94zm-11 1L8.5 8.5l.94-2.06 2.06-.94-2.06-.94L8.5 2.5l-.94 2.06-2.06.94zm10 10l.94 2.06.94-2.06 2.06-.94-2.06-.94-.94-2.06-.94 2.06-2.06.94z\"/><path d=\"M17.41 7.96l-1.37-1.37c-.4-.4-.92-.59-1.43-.59-.52 0-1.04.2-1.43.59L10.3 9.45l-7.72 7.72c-.78.78-.78 2.05 0 2.83L4 21.41c.39.39.9.59 1.41.59.51 0 1.02-.2 1.41-.59l7.78-7.78 2.81-2.81c.8-.78.8-2.07 0-2.86zM5.41 20L4 18.59l7.72-7.72 1.47 1.35L5.41 20z\"/>\n",
              "  </svg>\n",
              "      </button>\n",
              "      \n",
              "  <style>\n",
              "    .colab-df-container {\n",
              "      display:flex;\n",
              "      flex-wrap:wrap;\n",
              "      gap: 12px;\n",
              "    }\n",
              "\n",
              "    .colab-df-convert {\n",
              "      background-color: #E8F0FE;\n",
              "      border: none;\n",
              "      border-radius: 50%;\n",
              "      cursor: pointer;\n",
              "      display: none;\n",
              "      fill: #1967D2;\n",
              "      height: 32px;\n",
              "      padding: 0 0 0 0;\n",
              "      width: 32px;\n",
              "    }\n",
              "\n",
              "    .colab-df-convert:hover {\n",
              "      background-color: #E2EBFA;\n",
              "      box-shadow: 0px 1px 2px rgba(60, 64, 67, 0.3), 0px 1px 3px 1px rgba(60, 64, 67, 0.15);\n",
              "      fill: #174EA6;\n",
              "    }\n",
              "\n",
              "    [theme=dark] .colab-df-convert {\n",
              "      background-color: #3B4455;\n",
              "      fill: #D2E3FC;\n",
              "    }\n",
              "\n",
              "    [theme=dark] .colab-df-convert:hover {\n",
              "      background-color: #434B5C;\n",
              "      box-shadow: 0px 1px 3px 1px rgba(0, 0, 0, 0.15);\n",
              "      filter: drop-shadow(0px 1px 2px rgba(0, 0, 0, 0.3));\n",
              "      fill: #FFFFFF;\n",
              "    }\n",
              "  </style>\n",
              "\n",
              "      <script>\n",
              "        const buttonEl =\n",
              "          document.querySelector('#df-03ff7a07-1100-4d41-aac5-ed9dcaf528e6 button.colab-df-convert');\n",
              "        buttonEl.style.display =\n",
              "          google.colab.kernel.accessAllowed ? 'block' : 'none';\n",
              "\n",
              "        async function convertToInteractive(key) {\n",
              "          const element = document.querySelector('#df-03ff7a07-1100-4d41-aac5-ed9dcaf528e6');\n",
              "          const dataTable =\n",
              "            await google.colab.kernel.invokeFunction('convertToInteractive',\n",
              "                                                     [key], {});\n",
              "          if (!dataTable) return;\n",
              "\n",
              "          const docLinkHtml = 'Like what you see? Visit the ' +\n",
              "            '<a target=\"_blank\" href=https://colab.research.google.com/notebooks/data_table.ipynb>data table notebook</a>'\n",
              "            + ' to learn more about interactive tables.';\n",
              "          element.innerHTML = '';\n",
              "          dataTable['output_type'] = 'display_data';\n",
              "          await google.colab.output.renderOutput(dataTable, element);\n",
              "          const docLink = document.createElement('div');\n",
              "          docLink.innerHTML = docLinkHtml;\n",
              "          element.appendChild(docLink);\n",
              "        }\n",
              "      </script>\n",
              "    </div>\n",
              "  </div>\n",
              "  "
            ]
          },
          "metadata": {},
          "execution_count": 27
        }
      ]
    },
    {
      "cell_type": "markdown",
      "source": [
        "Test data"
      ],
      "metadata": {
        "id": "Hkay5KNJNuQz"
      }
    },
    {
      "cell_type": "code",
      "source": [
        "df4_test = df2_test\n",
        "df4_test['Salutation'] = df_test.Name.apply(lambda name: name.split(',')[1].split('.')[0].strip())\n",
        "df4_test['Salutation'].value_counts()"
      ],
      "metadata": {
        "colab": {
          "base_uri": "https://localhost:8080/"
        },
        "id": "Tjn3qJNFNwEV",
        "outputId": "ee13934a-3cdb-45c5-a94a-a5cb76a9e900"
      },
      "execution_count": null,
      "outputs": [
        {
          "output_type": "execute_result",
          "data": {
            "text/plain": [
              "Mr        240\n",
              "Miss       78\n",
              "Mrs        72\n",
              "Master     21\n",
              "Col         2\n",
              "Rev         2\n",
              "Ms          1\n",
              "Dr          1\n",
              "Dona        1\n",
              "Name: Salutation, dtype: int64"
            ]
          },
          "metadata": {},
          "execution_count": 28
        }
      ]
    },
    {
      "cell_type": "code",
      "source": [
        "df4_test['Salutation'] = df4_test['Salutation'].replace('Ms', 'Miss')\n",
        "df4_test['Salutation'] = df4_test['Salutation'].replace(['Col', 'Dr',\\\n",
        "                                             'Rev', 'Sir', 'Dona'], 'Others')\n",
        "\n",
        "titles = {\"Mr\": 1, \"Miss\": 2, \"Mrs\": 3, \"Master\": 4, \"Others\": 5}\n",
        "df4_test['Salutation'] = df4_test['Salutation'].map(titles)\n",
        "df4_test['Salutation'].value_counts()"
      ],
      "metadata": {
        "colab": {
          "base_uri": "https://localhost:8080/"
        },
        "id": "CrDTHRNaOEV1",
        "outputId": "7a317c21-4a29-4683-c70b-48a9594a7735"
      },
      "execution_count": null,
      "outputs": [
        {
          "output_type": "execute_result",
          "data": {
            "text/plain": [
              "1    240\n",
              "2     79\n",
              "3     72\n",
              "4     21\n",
              "5      6\n",
              "Name: Salutation, dtype: int64"
            ]
          },
          "metadata": {},
          "execution_count": 29
        }
      ]
    },
    {
      "cell_type": "markdown",
      "source": [
        "#**Feature engineering : Age**"
      ],
      "metadata": {
        "id": "qrxf5V9KVHil"
      }
    },
    {
      "cell_type": "markdown",
      "source": [
        "Train data"
      ],
      "metadata": {
        "id": "Ulo-BJYpwYkp"
      }
    },
    {
      "cell_type": "code",
      "source": [
        "for dataset in df4:\n",
        "    mean = df4[\"Age\"].mean()\n",
        "    std = df4[\"Age\"].std()\n",
        "    null = df4[\"Age\"].isnull().sum()\n",
        "    # compute random numbers between the mean, std and null\n",
        "    rand_age = np.random.randint(mean - std, mean + std, size = null)\n",
        "    # fill NaN values in Age column with random values generated\n",
        "    age_slice = df4[\"Age\"].copy()\n",
        "    age_slice[np.isnan(age_slice)] = rand_age\n",
        "    df4[\"Age\"] = age_slice\n",
        "    df4[\"Age\"] = df4[\"Age\"].astype(int)\n",
        "\n",
        "df4[\"Age\"].isnull().sum()\n",
        "#to check if there is still a missing values present"
      ],
      "metadata": {
        "colab": {
          "base_uri": "https://localhost:8080/"
        },
        "id": "AFx8DNhUSWrE",
        "outputId": "1441929f-c52f-49e9-9b56-683c49ae9efa"
      },
      "execution_count": null,
      "outputs": [
        {
          "output_type": "execute_result",
          "data": {
            "text/plain": [
              "0"
            ]
          },
          "metadata": {},
          "execution_count": 30
        }
      ]
    },
    {
      "cell_type": "markdown",
      "source": [
        "Another way to fill in the missing values for age. Fill in with random number of mean-std"
      ],
      "metadata": {
        "id": "i4i5jPVbrSvO"
      }
    },
    {
      "cell_type": "code",
      "source": [
        "bins_age = np.linspace(min(df4[\"Age\"]), max(df4[\"Age\"]), 7)\n",
        "bins_age"
      ],
      "metadata": {
        "colab": {
          "base_uri": "https://localhost:8080/"
        },
        "id": "T4qvr4gPeMYl",
        "outputId": "34aae12c-bc6e-4722-a0eb-ae4dbbb13772"
      },
      "execution_count": null,
      "outputs": [
        {
          "output_type": "execute_result",
          "data": {
            "text/plain": [
              "array([ 0.        , 13.33333333, 26.66666667, 40.        , 53.33333333,\n",
              "       66.66666667, 80.        ])"
            ]
          },
          "metadata": {},
          "execution_count": 31
        }
      ]
    },
    {
      "cell_type": "code",
      "source": [
        "categories_names = [0, 1, 2, 3, 4, 5]\n",
        "\n",
        "df4['age_binned'] = pd.cut(df4['Age'], bins_age, labels=categories_names, include_lowest=True )\n",
        "print (bins_age, ':', df4['age_binned'].value_counts())\n",
        "\n"
      ],
      "metadata": {
        "colab": {
          "base_uri": "https://localhost:8080/"
        },
        "id": "HC-DZFuWfApo",
        "outputId": "2cbf9b7f-20e0-41a7-a8ae-557d7e852ab9"
      },
      "execution_count": null,
      "outputs": [
        {
          "output_type": "stream",
          "name": "stdout",
          "text": [
            "[ 0.         13.33333333 26.66666667 40.         53.33333333 66.66666667\n",
            " 80.        ] : 2    341\n",
            "1    313\n",
            "3    115\n",
            "0     71\n",
            "4     43\n",
            "5      7\n",
            "Name: age_binned, dtype: int64\n"
          ]
        }
      ]
    },
    {
      "cell_type": "markdown",
      "source": [
        "Test data"
      ],
      "metadata": {
        "id": "t8YbbpVRwbHa"
      }
    },
    {
      "cell_type": "code",
      "source": [
        "for dataset in df4_test:\n",
        "    mean = df4_test[\"Age\"].mean()\n",
        "    std = df4_test[\"Age\"].std()\n",
        "    null = df4_test[\"Age\"].isnull().sum()\n",
        "    # compute random numbers between the mean, std and null\n",
        "    rand_age_test = np.random.randint(mean - std, mean + std, size = null)\n",
        "    # fill NaN values in Age column with random values generated\n",
        "    age_slice_test = df4_test[\"Age\"].copy()\n",
        "    age_slice_test[np.isnan(age_slice_test)] = rand_age_test\n",
        "    df4_test[\"Age\"] = age_slice_test\n",
        "    df4_test[\"Age\"] = df4_test[\"Age\"].astype(int)\n",
        "\n",
        "df4_test[\"Age\"].isnull().sum()"
      ],
      "metadata": {
        "colab": {
          "base_uri": "https://localhost:8080/"
        },
        "id": "UK2buZQQwfJ-",
        "outputId": "efc6bb62-360b-4b41-9865-76cce82222f8"
      },
      "execution_count": null,
      "outputs": [
        {
          "output_type": "execute_result",
          "data": {
            "text/plain": [
              "0"
            ]
          },
          "metadata": {},
          "execution_count": 33
        }
      ]
    },
    {
      "cell_type": "code",
      "source": [
        "bins_age_test = np.linspace(min(df4_test[\"Age\"]), max(df4_test[\"Age\"]), 7)\n",
        "bins_age_test"
      ],
      "metadata": {
        "colab": {
          "base_uri": "https://localhost:8080/"
        },
        "id": "YPuDAcnN1h0M",
        "outputId": "6c128937-252e-4f14-fc85-17d872372a73"
      },
      "execution_count": null,
      "outputs": [
        {
          "output_type": "execute_result",
          "data": {
            "text/plain": [
              "array([ 0.        , 12.66666667, 25.33333333, 38.        , 50.66666667,\n",
              "       63.33333333, 76.        ])"
            ]
          },
          "metadata": {},
          "execution_count": 34
        }
      ]
    },
    {
      "cell_type": "code",
      "source": [
        "categories_names = [0, 1, 2, 3, 4, 5]\n",
        "\n",
        "df4_test['age_binned'] = pd.cut(df4_test['Age'], bins_age_test, labels=categories_names, include_lowest=True )\n",
        "print (bins_age_test, ':', df4_test['age_binned'].value_counts())"
      ],
      "metadata": {
        "colab": {
          "base_uri": "https://localhost:8080/"
        },
        "id": "f68Uuhhz1qlq",
        "outputId": "c904e663-5c43-4b30-ec53-7193f117ea2d"
      },
      "execution_count": null,
      "outputs": [
        {
          "output_type": "stream",
          "name": "stdout",
          "text": [
            "[ 0.         12.66666667 25.33333333 38.         50.66666667 63.33333333\n",
            " 76.        ] : 1    149\n",
            "2    142\n",
            "3     71\n",
            "4     26\n",
            "0     25\n",
            "5      5\n",
            "Name: age_binned, dtype: int64\n"
          ]
        }
      ]
    },
    {
      "cell_type": "markdown",
      "source": [
        "#**Feature engineering : Sex**"
      ],
      "metadata": {
        "id": "P4oc8w2ea_3Q"
      }
    },
    {
      "cell_type": "markdown",
      "source": [
        "Train data"
      ],
      "metadata": {
        "id": "BL1QkHh-PdSG"
      }
    },
    {
      "cell_type": "code",
      "source": [
        " gender = {\"male\": 0, \"female\": 1}\n",
        " df4['Sex'] = df4['Sex'].map(gender)\n",
        " df4['Sex'].value_counts()"
      ],
      "metadata": {
        "colab": {
          "base_uri": "https://localhost:8080/"
        },
        "id": "owRkgYoubE3i",
        "outputId": "3ae337c0-b7a8-4dff-f166-a35239d9d157"
      },
      "execution_count": null,
      "outputs": [
        {
          "output_type": "execute_result",
          "data": {
            "text/plain": [
              "0    576\n",
              "1    314\n",
              "Name: Sex, dtype: int64"
            ]
          },
          "metadata": {},
          "execution_count": 36
        }
      ]
    },
    {
      "cell_type": "markdown",
      "source": [
        "Test data"
      ],
      "metadata": {
        "id": "jhDcRUUJPgD8"
      }
    },
    {
      "cell_type": "code",
      "source": [
        "df4_test['Sex'].value_counts()"
      ],
      "metadata": {
        "colab": {
          "base_uri": "https://localhost:8080/"
        },
        "id": "CGJmQgMu2pFY",
        "outputId": "c6e3ec27-eb16-4073-bcd8-a435056878ca"
      },
      "execution_count": null,
      "outputs": [
        {
          "output_type": "execute_result",
          "data": {
            "text/plain": [
              "male      266\n",
              "female    152\n",
              "Name: Sex, dtype: int64"
            ]
          },
          "metadata": {},
          "execution_count": 37
        }
      ]
    },
    {
      "cell_type": "code",
      "source": [
        " gender = {\"male\": 0, \"female\": 1}\n",
        " df4_test['Sex'] = df4_test['Sex'].map(gender)\n",
        " df4_test['Sex'].value_counts()"
      ],
      "metadata": {
        "colab": {
          "base_uri": "https://localhost:8080/"
        },
        "id": "2GT-pM9APiyW",
        "outputId": "a83bb061-5cc0-4dcf-cfb5-c10ca7b089fb"
      },
      "execution_count": null,
      "outputs": [
        {
          "output_type": "execute_result",
          "data": {
            "text/plain": [
              "0    266\n",
              "1    152\n",
              "Name: Sex, dtype: int64"
            ]
          },
          "metadata": {},
          "execution_count": 38
        }
      ]
    },
    {
      "cell_type": "markdown",
      "source": [
        "#**Feature engineering : SibSp & Parch**"
      ],
      "metadata": {
        "id": "KX_O6ccEbkOM"
      }
    },
    {
      "cell_type": "markdown",
      "source": [
        "Train data"
      ],
      "metadata": {
        "id": "uvdFDvuuP6Kn"
      }
    },
    {
      "cell_type": "code",
      "source": [
        "print (df4['Parch'].value_counts())\n",
        "print (df4['SibSp'].value_counts())"
      ],
      "metadata": {
        "colab": {
          "base_uri": "https://localhost:8080/"
        },
        "id": "jW1NBs1HjALw",
        "outputId": "ebb9e790-d061-4ede-95aa-eee3183b4217"
      },
      "execution_count": null,
      "outputs": [
        {
          "output_type": "stream",
          "name": "stdout",
          "text": [
            "0    677\n",
            "1    118\n",
            "2     80\n",
            "5      5\n",
            "3      5\n",
            "4      4\n",
            "6      1\n",
            "Name: Parch, dtype: int64\n",
            "0    607\n",
            "1    209\n",
            "2     28\n",
            "4     18\n",
            "3     16\n",
            "8      7\n",
            "5      5\n",
            "Name: SibSp, dtype: int64\n"
          ]
        }
      ]
    },
    {
      "cell_type": "code",
      "source": [
        "df5 = df4\n",
        "sum_column = df4[\"SibSp\"] + df[\"Parch\"] + 1\n",
        "df5[\"Family\"] = sum_column\n",
        "print(df5.columns)\n"
      ],
      "metadata": {
        "colab": {
          "base_uri": "https://localhost:8080/"
        },
        "id": "ekUp2HXobjux",
        "outputId": "8b0edb32-a797-4d76-e20e-3a1e51dd2786"
      },
      "execution_count": null,
      "outputs": [
        {
          "output_type": "stream",
          "name": "stdout",
          "text": [
            "Index(['PassengerId', 'Survived', 'Pclass', 'Name', 'Sex', 'Age', 'SibSp',\n",
            "       'Parch', 'Ticket', 'Fare', 'Cabin', 'Embarked', 'Cabin_initial',\n",
            "       'Salutation', 'age_binned', 'Family'],\n",
            "      dtype='object')\n"
          ]
        }
      ]
    },
    {
      "cell_type": "code",
      "source": [
        "df5['Singleton'] = df5['Family'].map(lambda s: 1 if s == 1 else 0)\n",
        "df5['SmallFamily'] = df5['Family'].map(lambda s: 1 if 2 <= s <= 4 else 0)\n",
        "df5['LargeFamily'] = df5['Family'].map(lambda s: 1 if 5 <= s else 0)\n",
        "\n",
        "df5.columns"
      ],
      "metadata": {
        "colab": {
          "base_uri": "https://localhost:8080/"
        },
        "id": "mdOHzr76fTmD",
        "outputId": "3793d3ee-5ea1-42e4-d9e7-8616b60146d5"
      },
      "execution_count": null,
      "outputs": [
        {
          "output_type": "execute_result",
          "data": {
            "text/plain": [
              "Index(['PassengerId', 'Survived', 'Pclass', 'Name', 'Sex', 'Age', 'SibSp',\n",
              "       'Parch', 'Ticket', 'Fare', 'Cabin', 'Embarked', 'Cabin_initial',\n",
              "       'Salutation', 'age_binned', 'Family', 'Singleton', 'SmallFamily',\n",
              "       'LargeFamily'],\n",
              "      dtype='object')"
            ]
          },
          "metadata": {},
          "execution_count": 41
        }
      ]
    },
    {
      "cell_type": "code",
      "source": [
        "df5.head(2)"
      ],
      "metadata": {
        "colab": {
          "base_uri": "https://localhost:8080/",
          "height": 332
        },
        "id": "f7JRLqXZf8gX",
        "outputId": "4502cdab-76d6-46d3-f2e3-3bf65a4cf393"
      },
      "execution_count": null,
      "outputs": [
        {
          "output_type": "execute_result",
          "data": {
            "text/plain": [
              "   PassengerId  Survived  Pclass  \\\n",
              "0            1         0       3   \n",
              "1            2         1       1   \n",
              "\n",
              "                                                Name  Sex  Age  SibSp  Parch  \\\n",
              "0                            Braund, Mr. Owen Harris    0   22      1      0   \n",
              "1  Cumings, Mrs. John Bradley (Florence Briggs Th...    1   38      1      0   \n",
              "\n",
              "      Ticket     Fare Cabin Embarked  Cabin_initial  Salutation age_binned  \\\n",
              "0  A/5 21171   7.2500   NaN        S              8           1          1   \n",
              "1   PC 17599  71.2833   C85        C              3           3          2   \n",
              "\n",
              "   Family  Singleton  SmallFamily  LargeFamily  \n",
              "0     2.0          0            1            0  \n",
              "1     2.0          0            1            0  "
            ],
            "text/html": [
              "\n",
              "  <div id=\"df-a19368ff-91c9-4f88-a134-8f00995c615a\">\n",
              "    <div class=\"colab-df-container\">\n",
              "      <div>\n",
              "<style scoped>\n",
              "    .dataframe tbody tr th:only-of-type {\n",
              "        vertical-align: middle;\n",
              "    }\n",
              "\n",
              "    .dataframe tbody tr th {\n",
              "        vertical-align: top;\n",
              "    }\n",
              "\n",
              "    .dataframe thead th {\n",
              "        text-align: right;\n",
              "    }\n",
              "</style>\n",
              "<table border=\"1\" class=\"dataframe\">\n",
              "  <thead>\n",
              "    <tr style=\"text-align: right;\">\n",
              "      <th></th>\n",
              "      <th>PassengerId</th>\n",
              "      <th>Survived</th>\n",
              "      <th>Pclass</th>\n",
              "      <th>Name</th>\n",
              "      <th>Sex</th>\n",
              "      <th>Age</th>\n",
              "      <th>SibSp</th>\n",
              "      <th>Parch</th>\n",
              "      <th>Ticket</th>\n",
              "      <th>Fare</th>\n",
              "      <th>Cabin</th>\n",
              "      <th>Embarked</th>\n",
              "      <th>Cabin_initial</th>\n",
              "      <th>Salutation</th>\n",
              "      <th>age_binned</th>\n",
              "      <th>Family</th>\n",
              "      <th>Singleton</th>\n",
              "      <th>SmallFamily</th>\n",
              "      <th>LargeFamily</th>\n",
              "    </tr>\n",
              "  </thead>\n",
              "  <tbody>\n",
              "    <tr>\n",
              "      <th>0</th>\n",
              "      <td>1</td>\n",
              "      <td>0</td>\n",
              "      <td>3</td>\n",
              "      <td>Braund, Mr. Owen Harris</td>\n",
              "      <td>0</td>\n",
              "      <td>22</td>\n",
              "      <td>1</td>\n",
              "      <td>0</td>\n",
              "      <td>A/5 21171</td>\n",
              "      <td>7.2500</td>\n",
              "      <td>NaN</td>\n",
              "      <td>S</td>\n",
              "      <td>8</td>\n",
              "      <td>1</td>\n",
              "      <td>1</td>\n",
              "      <td>2.0</td>\n",
              "      <td>0</td>\n",
              "      <td>1</td>\n",
              "      <td>0</td>\n",
              "    </tr>\n",
              "    <tr>\n",
              "      <th>1</th>\n",
              "      <td>2</td>\n",
              "      <td>1</td>\n",
              "      <td>1</td>\n",
              "      <td>Cumings, Mrs. John Bradley (Florence Briggs Th...</td>\n",
              "      <td>1</td>\n",
              "      <td>38</td>\n",
              "      <td>1</td>\n",
              "      <td>0</td>\n",
              "      <td>PC 17599</td>\n",
              "      <td>71.2833</td>\n",
              "      <td>C85</td>\n",
              "      <td>C</td>\n",
              "      <td>3</td>\n",
              "      <td>3</td>\n",
              "      <td>2</td>\n",
              "      <td>2.0</td>\n",
              "      <td>0</td>\n",
              "      <td>1</td>\n",
              "      <td>0</td>\n",
              "    </tr>\n",
              "  </tbody>\n",
              "</table>\n",
              "</div>\n",
              "      <button class=\"colab-df-convert\" onclick=\"convertToInteractive('df-a19368ff-91c9-4f88-a134-8f00995c615a')\"\n",
              "              title=\"Convert this dataframe to an interactive table.\"\n",
              "              style=\"display:none;\">\n",
              "        \n",
              "  <svg xmlns=\"http://www.w3.org/2000/svg\" height=\"24px\"viewBox=\"0 0 24 24\"\n",
              "       width=\"24px\">\n",
              "    <path d=\"M0 0h24v24H0V0z\" fill=\"none\"/>\n",
              "    <path d=\"M18.56 5.44l.94 2.06.94-2.06 2.06-.94-2.06-.94-.94-2.06-.94 2.06-2.06.94zm-11 1L8.5 8.5l.94-2.06 2.06-.94-2.06-.94L8.5 2.5l-.94 2.06-2.06.94zm10 10l.94 2.06.94-2.06 2.06-.94-2.06-.94-.94-2.06-.94 2.06-2.06.94z\"/><path d=\"M17.41 7.96l-1.37-1.37c-.4-.4-.92-.59-1.43-.59-.52 0-1.04.2-1.43.59L10.3 9.45l-7.72 7.72c-.78.78-.78 2.05 0 2.83L4 21.41c.39.39.9.59 1.41.59.51 0 1.02-.2 1.41-.59l7.78-7.78 2.81-2.81c.8-.78.8-2.07 0-2.86zM5.41 20L4 18.59l7.72-7.72 1.47 1.35L5.41 20z\"/>\n",
              "  </svg>\n",
              "      </button>\n",
              "      \n",
              "  <style>\n",
              "    .colab-df-container {\n",
              "      display:flex;\n",
              "      flex-wrap:wrap;\n",
              "      gap: 12px;\n",
              "    }\n",
              "\n",
              "    .colab-df-convert {\n",
              "      background-color: #E8F0FE;\n",
              "      border: none;\n",
              "      border-radius: 50%;\n",
              "      cursor: pointer;\n",
              "      display: none;\n",
              "      fill: #1967D2;\n",
              "      height: 32px;\n",
              "      padding: 0 0 0 0;\n",
              "      width: 32px;\n",
              "    }\n",
              "\n",
              "    .colab-df-convert:hover {\n",
              "      background-color: #E2EBFA;\n",
              "      box-shadow: 0px 1px 2px rgba(60, 64, 67, 0.3), 0px 1px 3px 1px rgba(60, 64, 67, 0.15);\n",
              "      fill: #174EA6;\n",
              "    }\n",
              "\n",
              "    [theme=dark] .colab-df-convert {\n",
              "      background-color: #3B4455;\n",
              "      fill: #D2E3FC;\n",
              "    }\n",
              "\n",
              "    [theme=dark] .colab-df-convert:hover {\n",
              "      background-color: #434B5C;\n",
              "      box-shadow: 0px 1px 3px 1px rgba(0, 0, 0, 0.15);\n",
              "      filter: drop-shadow(0px 1px 2px rgba(0, 0, 0, 0.3));\n",
              "      fill: #FFFFFF;\n",
              "    }\n",
              "  </style>\n",
              "\n",
              "      <script>\n",
              "        const buttonEl =\n",
              "          document.querySelector('#df-a19368ff-91c9-4f88-a134-8f00995c615a button.colab-df-convert');\n",
              "        buttonEl.style.display =\n",
              "          google.colab.kernel.accessAllowed ? 'block' : 'none';\n",
              "\n",
              "        async function convertToInteractive(key) {\n",
              "          const element = document.querySelector('#df-a19368ff-91c9-4f88-a134-8f00995c615a');\n",
              "          const dataTable =\n",
              "            await google.colab.kernel.invokeFunction('convertToInteractive',\n",
              "                                                     [key], {});\n",
              "          if (!dataTable) return;\n",
              "\n",
              "          const docLinkHtml = 'Like what you see? Visit the ' +\n",
              "            '<a target=\"_blank\" href=https://colab.research.google.com/notebooks/data_table.ipynb>data table notebook</a>'\n",
              "            + ' to learn more about interactive tables.';\n",
              "          element.innerHTML = '';\n",
              "          dataTable['output_type'] = 'display_data';\n",
              "          await google.colab.output.renderOutput(dataTable, element);\n",
              "          const docLink = document.createElement('div');\n",
              "          docLink.innerHTML = docLinkHtml;\n",
              "          element.appendChild(docLink);\n",
              "        }\n",
              "      </script>\n",
              "    </div>\n",
              "  </div>\n",
              "  "
            ]
          },
          "metadata": {},
          "execution_count": 42
        }
      ]
    },
    {
      "cell_type": "markdown",
      "source": [
        "Test data"
      ],
      "metadata": {
        "id": "QlacjiCPP-uu"
      }
    },
    {
      "cell_type": "code",
      "source": [
        "df5_test = df4_test\n",
        "sum_column_test = df_test[\"SibSp\"] + df_test[\"Parch\"] + 1\n",
        "df5_test[\"Family\"] = sum_column_test\n",
        "df5_test['Family'].value_counts()"
      ],
      "metadata": {
        "colab": {
          "base_uri": "https://localhost:8080/"
        },
        "id": "xiDDwgJbQAeX",
        "outputId": "1671fb5e-6aeb-4775-bf4d-4e1a37e8e0f9"
      },
      "execution_count": null,
      "outputs": [
        {
          "output_type": "execute_result",
          "data": {
            "text/plain": [
              "1     253\n",
              "2      74\n",
              "3      57\n",
              "4      14\n",
              "5       7\n",
              "7       4\n",
              "11      4\n",
              "6       3\n",
              "8       2\n",
              "Name: Family, dtype: int64"
            ]
          },
          "metadata": {},
          "execution_count": 43
        }
      ]
    },
    {
      "cell_type": "code",
      "source": [
        "df5_test['Singleton'] = df5_test['Family'].map(lambda s: 1 if s == 1 else 0)\n",
        "df5_test['SmallFamily'] = df5_test['Family'].map(lambda s: 1 if 2 <= s <= 4 else 0)\n",
        "df5_test['LargeFamily'] = df5_test['Family'].map(lambda s: 1 if 5 <= s else 0)\n",
        "\n",
        "df5_test.columns"
      ],
      "metadata": {
        "colab": {
          "base_uri": "https://localhost:8080/"
        },
        "id": "2AwaxhZHQYFX",
        "outputId": "1a186963-f699-41ae-afa1-8b19a5725d99"
      },
      "execution_count": null,
      "outputs": [
        {
          "output_type": "execute_result",
          "data": {
            "text/plain": [
              "Index(['PassengerId', 'Pclass', 'Name', 'Sex', 'Age', 'SibSp', 'Parch',\n",
              "       'Ticket', 'Fare', 'Cabin', 'Embarked', 'Cabin_initial', 'Salutation',\n",
              "       'age_binned', 'Family', 'Singleton', 'SmallFamily', 'LargeFamily'],\n",
              "      dtype='object')"
            ]
          },
          "metadata": {},
          "execution_count": 44
        }
      ]
    },
    {
      "cell_type": "markdown",
      "source": [
        "#**Feature Engineering : Ticket**"
      ],
      "metadata": {
        "id": "v5Xk26B-l0VL"
      }
    },
    {
      "cell_type": "markdown",
      "source": [
        "Train data"
      ],
      "metadata": {
        "id": "5nCCt48hQ7uV"
      }
    },
    {
      "cell_type": "code",
      "source": [
        "df6 = df5\n",
        "df6['numeric_ticket'] = df5['Ticket'].apply(lambda x: 1 if x.isnumeric() else 0)\n",
        "df6['ticket_letters'] = df5['Ticket'].apply(lambda x: ''.join(x.split(' ')[:-1])\n",
        "                                            .replace('.','').replace('/','')\n",
        "                                            .lower() if len(x.split(' ')[:-1]) >0 else 0)\n",
        "\n",
        "df6.columns"
      ],
      "metadata": {
        "id": "NTK70Inol5Ue",
        "colab": {
          "base_uri": "https://localhost:8080/"
        },
        "outputId": "4fc93e77-604e-4282-8456-4cdcfeab0967"
      },
      "execution_count": null,
      "outputs": [
        {
          "output_type": "execute_result",
          "data": {
            "text/plain": [
              "Index(['PassengerId', 'Survived', 'Pclass', 'Name', 'Sex', 'Age', 'SibSp',\n",
              "       'Parch', 'Ticket', 'Fare', 'Cabin', 'Embarked', 'Cabin_initial',\n",
              "       'Salutation', 'age_binned', 'Family', 'Singleton', 'SmallFamily',\n",
              "       'LargeFamily', 'numeric_ticket', 'ticket_letters'],\n",
              "      dtype='object')"
            ]
          },
          "metadata": {},
          "execution_count": 45
        }
      ]
    },
    {
      "cell_type": "code",
      "source": [
        "df6.head(2)"
      ],
      "metadata": {
        "colab": {
          "base_uri": "https://localhost:8080/",
          "height": 362
        },
        "id": "tFNcMY9gg5eI",
        "outputId": "4cffd98d-5dd1-4f41-9059-2a91a77073f2"
      },
      "execution_count": null,
      "outputs": [
        {
          "output_type": "execute_result",
          "data": {
            "text/plain": [
              "   PassengerId  Survived  Pclass  \\\n",
              "0            1         0       3   \n",
              "1            2         1       1   \n",
              "\n",
              "                                                Name  Sex  Age  SibSp  Parch  \\\n",
              "0                            Braund, Mr. Owen Harris    0   22      1      0   \n",
              "1  Cumings, Mrs. John Bradley (Florence Briggs Th...    1   38      1      0   \n",
              "\n",
              "      Ticket     Fare  ... Embarked Cabin_initial  Salutation  age_binned  \\\n",
              "0  A/5 21171   7.2500  ...        S             8           1           1   \n",
              "1   PC 17599  71.2833  ...        C             3           3           2   \n",
              "\n",
              "  Family  Singleton  SmallFamily  LargeFamily  numeric_ticket  ticket_letters  \n",
              "0    2.0          0            1            0               0              a5  \n",
              "1    2.0          0            1            0               0              pc  \n",
              "\n",
              "[2 rows x 21 columns]"
            ],
            "text/html": [
              "\n",
              "  <div id=\"df-fd52ecfe-6889-4517-9d9e-1b41d67603c4\">\n",
              "    <div class=\"colab-df-container\">\n",
              "      <div>\n",
              "<style scoped>\n",
              "    .dataframe tbody tr th:only-of-type {\n",
              "        vertical-align: middle;\n",
              "    }\n",
              "\n",
              "    .dataframe tbody tr th {\n",
              "        vertical-align: top;\n",
              "    }\n",
              "\n",
              "    .dataframe thead th {\n",
              "        text-align: right;\n",
              "    }\n",
              "</style>\n",
              "<table border=\"1\" class=\"dataframe\">\n",
              "  <thead>\n",
              "    <tr style=\"text-align: right;\">\n",
              "      <th></th>\n",
              "      <th>PassengerId</th>\n",
              "      <th>Survived</th>\n",
              "      <th>Pclass</th>\n",
              "      <th>Name</th>\n",
              "      <th>Sex</th>\n",
              "      <th>Age</th>\n",
              "      <th>SibSp</th>\n",
              "      <th>Parch</th>\n",
              "      <th>Ticket</th>\n",
              "      <th>Fare</th>\n",
              "      <th>...</th>\n",
              "      <th>Embarked</th>\n",
              "      <th>Cabin_initial</th>\n",
              "      <th>Salutation</th>\n",
              "      <th>age_binned</th>\n",
              "      <th>Family</th>\n",
              "      <th>Singleton</th>\n",
              "      <th>SmallFamily</th>\n",
              "      <th>LargeFamily</th>\n",
              "      <th>numeric_ticket</th>\n",
              "      <th>ticket_letters</th>\n",
              "    </tr>\n",
              "  </thead>\n",
              "  <tbody>\n",
              "    <tr>\n",
              "      <th>0</th>\n",
              "      <td>1</td>\n",
              "      <td>0</td>\n",
              "      <td>3</td>\n",
              "      <td>Braund, Mr. Owen Harris</td>\n",
              "      <td>0</td>\n",
              "      <td>22</td>\n",
              "      <td>1</td>\n",
              "      <td>0</td>\n",
              "      <td>A/5 21171</td>\n",
              "      <td>7.2500</td>\n",
              "      <td>...</td>\n",
              "      <td>S</td>\n",
              "      <td>8</td>\n",
              "      <td>1</td>\n",
              "      <td>1</td>\n",
              "      <td>2.0</td>\n",
              "      <td>0</td>\n",
              "      <td>1</td>\n",
              "      <td>0</td>\n",
              "      <td>0</td>\n",
              "      <td>a5</td>\n",
              "    </tr>\n",
              "    <tr>\n",
              "      <th>1</th>\n",
              "      <td>2</td>\n",
              "      <td>1</td>\n",
              "      <td>1</td>\n",
              "      <td>Cumings, Mrs. John Bradley (Florence Briggs Th...</td>\n",
              "      <td>1</td>\n",
              "      <td>38</td>\n",
              "      <td>1</td>\n",
              "      <td>0</td>\n",
              "      <td>PC 17599</td>\n",
              "      <td>71.2833</td>\n",
              "      <td>...</td>\n",
              "      <td>C</td>\n",
              "      <td>3</td>\n",
              "      <td>3</td>\n",
              "      <td>2</td>\n",
              "      <td>2.0</td>\n",
              "      <td>0</td>\n",
              "      <td>1</td>\n",
              "      <td>0</td>\n",
              "      <td>0</td>\n",
              "      <td>pc</td>\n",
              "    </tr>\n",
              "  </tbody>\n",
              "</table>\n",
              "<p>2 rows × 21 columns</p>\n",
              "</div>\n",
              "      <button class=\"colab-df-convert\" onclick=\"convertToInteractive('df-fd52ecfe-6889-4517-9d9e-1b41d67603c4')\"\n",
              "              title=\"Convert this dataframe to an interactive table.\"\n",
              "              style=\"display:none;\">\n",
              "        \n",
              "  <svg xmlns=\"http://www.w3.org/2000/svg\" height=\"24px\"viewBox=\"0 0 24 24\"\n",
              "       width=\"24px\">\n",
              "    <path d=\"M0 0h24v24H0V0z\" fill=\"none\"/>\n",
              "    <path d=\"M18.56 5.44l.94 2.06.94-2.06 2.06-.94-2.06-.94-.94-2.06-.94 2.06-2.06.94zm-11 1L8.5 8.5l.94-2.06 2.06-.94-2.06-.94L8.5 2.5l-.94 2.06-2.06.94zm10 10l.94 2.06.94-2.06 2.06-.94-2.06-.94-.94-2.06-.94 2.06-2.06.94z\"/><path d=\"M17.41 7.96l-1.37-1.37c-.4-.4-.92-.59-1.43-.59-.52 0-1.04.2-1.43.59L10.3 9.45l-7.72 7.72c-.78.78-.78 2.05 0 2.83L4 21.41c.39.39.9.59 1.41.59.51 0 1.02-.2 1.41-.59l7.78-7.78 2.81-2.81c.8-.78.8-2.07 0-2.86zM5.41 20L4 18.59l7.72-7.72 1.47 1.35L5.41 20z\"/>\n",
              "  </svg>\n",
              "      </button>\n",
              "      \n",
              "  <style>\n",
              "    .colab-df-container {\n",
              "      display:flex;\n",
              "      flex-wrap:wrap;\n",
              "      gap: 12px;\n",
              "    }\n",
              "\n",
              "    .colab-df-convert {\n",
              "      background-color: #E8F0FE;\n",
              "      border: none;\n",
              "      border-radius: 50%;\n",
              "      cursor: pointer;\n",
              "      display: none;\n",
              "      fill: #1967D2;\n",
              "      height: 32px;\n",
              "      padding: 0 0 0 0;\n",
              "      width: 32px;\n",
              "    }\n",
              "\n",
              "    .colab-df-convert:hover {\n",
              "      background-color: #E2EBFA;\n",
              "      box-shadow: 0px 1px 2px rgba(60, 64, 67, 0.3), 0px 1px 3px 1px rgba(60, 64, 67, 0.15);\n",
              "      fill: #174EA6;\n",
              "    }\n",
              "\n",
              "    [theme=dark] .colab-df-convert {\n",
              "      background-color: #3B4455;\n",
              "      fill: #D2E3FC;\n",
              "    }\n",
              "\n",
              "    [theme=dark] .colab-df-convert:hover {\n",
              "      background-color: #434B5C;\n",
              "      box-shadow: 0px 1px 3px 1px rgba(0, 0, 0, 0.15);\n",
              "      filter: drop-shadow(0px 1px 2px rgba(0, 0, 0, 0.3));\n",
              "      fill: #FFFFFF;\n",
              "    }\n",
              "  </style>\n",
              "\n",
              "      <script>\n",
              "        const buttonEl =\n",
              "          document.querySelector('#df-fd52ecfe-6889-4517-9d9e-1b41d67603c4 button.colab-df-convert');\n",
              "        buttonEl.style.display =\n",
              "          google.colab.kernel.accessAllowed ? 'block' : 'none';\n",
              "\n",
              "        async function convertToInteractive(key) {\n",
              "          const element = document.querySelector('#df-fd52ecfe-6889-4517-9d9e-1b41d67603c4');\n",
              "          const dataTable =\n",
              "            await google.colab.kernel.invokeFunction('convertToInteractive',\n",
              "                                                     [key], {});\n",
              "          if (!dataTable) return;\n",
              "\n",
              "          const docLinkHtml = 'Like what you see? Visit the ' +\n",
              "            '<a target=\"_blank\" href=https://colab.research.google.com/notebooks/data_table.ipynb>data table notebook</a>'\n",
              "            + ' to learn more about interactive tables.';\n",
              "          element.innerHTML = '';\n",
              "          dataTable['output_type'] = 'display_data';\n",
              "          await google.colab.output.renderOutput(dataTable, element);\n",
              "          const docLink = document.createElement('div');\n",
              "          docLink.innerHTML = docLinkHtml;\n",
              "          element.appendChild(docLink);\n",
              "        }\n",
              "      </script>\n",
              "    </div>\n",
              "  </div>\n",
              "  "
            ]
          },
          "metadata": {},
          "execution_count": 46
        }
      ]
    },
    {
      "cell_type": "code",
      "source": [
        "df6['numeric_ticket'].value_counts()"
      ],
      "metadata": {
        "colab": {
          "base_uri": "https://localhost:8080/"
        },
        "id": "qJWjSXXyhXQJ",
        "outputId": "27d52411-8850-4653-e3c7-226695e35f48"
      },
      "execution_count": null,
      "outputs": [
        {
          "output_type": "execute_result",
          "data": {
            "text/plain": [
              "1    660\n",
              "0    230\n",
              "Name: numeric_ticket, dtype: int64"
            ]
          },
          "metadata": {},
          "execution_count": 47
        }
      ]
    },
    {
      "cell_type": "code",
      "source": [
        "df6['ticket_letters'].value_counts()"
      ],
      "metadata": {
        "colab": {
          "base_uri": "https://localhost:8080/"
        },
        "id": "M0TGCi28hhq5",
        "outputId": "575050f3-818b-4909-f5c3-878990957918"
      },
      "execution_count": null,
      "outputs": [
        {
          "output_type": "execute_result",
          "data": {
            "text/plain": [
              "0            664\n",
              "pc            60\n",
              "ca            41\n",
              "a5            21\n",
              "stono2        18\n",
              "sotonoq       15\n",
              "scparis       11\n",
              "wc            10\n",
              "a4             7\n",
              "soc            6\n",
              "fcc            5\n",
              "c              5\n",
              "sopp           3\n",
              "pp             3\n",
              "wep            3\n",
              "ppp            2\n",
              "scah           2\n",
              "sotono2        2\n",
              "swpp           2\n",
              "fc             1\n",
              "scahbasle      1\n",
              "as             1\n",
              "sp             1\n",
              "sc             1\n",
              "scow           1\n",
              "fa             1\n",
              "sop            1\n",
              "sca4           1\n",
              "casoton        1\n",
              "Name: ticket_letters, dtype: int64"
            ]
          },
          "metadata": {},
          "execution_count": 48
        }
      ]
    },
    {
      "cell_type": "code",
      "source": [
        "df6.corr()"
      ],
      "metadata": {
        "colab": {
          "base_uri": "https://localhost:8080/",
          "height": 584
        },
        "id": "HOopSkTVhht1",
        "outputId": "122b93bc-61bd-4a5c-a4a3-000c55fc5d3c"
      },
      "execution_count": null,
      "outputs": [
        {
          "output_type": "execute_result",
          "data": {
            "text/plain": [
              "                PassengerId  Survived    Pclass       Sex       Age     SibSp  \\\n",
              "PassengerId        1.000000 -0.005375 -0.035922 -0.043298  0.026615 -0.057759   \n",
              "Survived          -0.005375  1.000000 -0.340458  0.543053 -0.055942 -0.035760   \n",
              "Pclass            -0.035922 -0.340458  1.000000 -0.133423 -0.311909  0.082370   \n",
              "Sex               -0.043298  0.543053 -0.133423  1.000000 -0.065374  0.114287   \n",
              "Age                0.026615 -0.055942 -0.311909 -0.065374  1.000000 -0.207877   \n",
              "SibSp             -0.057759 -0.035760  0.082370  0.114287 -0.207877  1.000000   \n",
              "Parch             -0.001872  0.081248  0.017636  0.245202 -0.163555  0.414690   \n",
              "Fare               0.012690  0.257456 -0.550143  0.182444  0.096685  0.159707   \n",
              "Cabin_initial     -0.032640 -0.294497  0.745289 -0.117911 -0.249749  0.041618   \n",
              "Salutation         0.003552  0.407383 -0.175465  0.502422 -0.082128  0.269355   \n",
              "Family            -0.040414  0.016150  0.065111  0.200620 -0.223798  0.890683   \n",
              "Singleton          0.057865 -0.202793  0.136875 -0.303178  0.161058 -0.584329   \n",
              "SmallFamily       -0.029311  0.279410 -0.225152  0.260319 -0.066669  0.212938   \n",
              "LargeFamily       -0.057189 -0.125439  0.152100  0.102763 -0.186681  0.730669   \n",
              "numeric_ticket     0.072586  0.002016  0.080929  0.033012 -0.042377 -0.080479   \n",
              "\n",
              "                   Parch      Fare  Cabin_initial  Salutation    Family  \\\n",
              "PassengerId    -0.001872  0.012690      -0.032640    0.003552 -0.040414   \n",
              "Survived        0.081248  0.257456      -0.294497    0.407383  0.016150   \n",
              "Pclass          0.017636 -0.550143       0.745289   -0.175465  0.065111   \n",
              "Sex             0.245202  0.182444      -0.117911    0.502422  0.200620   \n",
              "Age            -0.163555  0.096685      -0.249749   -0.082128 -0.223798   \n",
              "SibSp           0.414690  0.159707       0.041618    0.269355  0.890683   \n",
              "Parch           1.000000  0.216288      -0.031044    0.315536  0.783049   \n",
              "Fare            0.216288  1.000000      -0.526111    0.136402  0.217219   \n",
              "Cabin_initial  -0.031044 -0.526111       1.000000   -0.131569  0.012936   \n",
              "Salutation      0.315536  0.136402      -0.131569    1.000000  0.341749   \n",
              "Family          0.783049  0.217219       0.012936    0.341749  1.000000   \n",
              "Singleton      -0.583255 -0.271994       0.137119   -0.405432 -0.690788   \n",
              "SmallFamily     0.265598  0.205636      -0.181810    0.302275  0.278238   \n",
              "LargeFamily     0.631484  0.143663       0.071696    0.221969  0.814907   \n",
              "numeric_ticket -0.035460 -0.173248       0.012550    0.036687 -0.072723   \n",
              "\n",
              "                Singleton  SmallFamily  LargeFamily  numeric_ticket  \n",
              "PassengerId      0.057865    -0.029311    -0.057189        0.072586  \n",
              "Survived        -0.202793     0.279410    -0.125439        0.002016  \n",
              "Pclass           0.136875    -0.225152     0.152100        0.080929  \n",
              "Sex             -0.303178     0.260319     0.102763        0.033012  \n",
              "Age              0.161058    -0.066669    -0.186681       -0.042377  \n",
              "SibSp           -0.584329     0.212938     0.730669       -0.080479  \n",
              "Parch           -0.583255     0.265598     0.631484       -0.035460  \n",
              "Fare            -0.271994     0.205636     0.143663       -0.173248  \n",
              "Cabin_initial    0.137119    -0.181810     0.071696        0.012550  \n",
              "Salutation      -0.405432     0.302275     0.221969        0.036687  \n",
              "Family          -0.690788     0.278238     0.814907       -0.072723  \n",
              "Singleton        1.000000    -0.859848    -0.336714        0.002710  \n",
              "SmallFamily     -0.859848     1.000000    -0.191215        0.013451  \n",
              "LargeFamily     -0.336714    -0.191215     1.000000       -0.030019  \n",
              "numeric_ticket   0.002710     0.013451    -0.030019        1.000000  "
            ],
            "text/html": [
              "\n",
              "  <div id=\"df-8c75e967-237c-4029-91aa-c65a74b682c7\">\n",
              "    <div class=\"colab-df-container\">\n",
              "      <div>\n",
              "<style scoped>\n",
              "    .dataframe tbody tr th:only-of-type {\n",
              "        vertical-align: middle;\n",
              "    }\n",
              "\n",
              "    .dataframe tbody tr th {\n",
              "        vertical-align: top;\n",
              "    }\n",
              "\n",
              "    .dataframe thead th {\n",
              "        text-align: right;\n",
              "    }\n",
              "</style>\n",
              "<table border=\"1\" class=\"dataframe\">\n",
              "  <thead>\n",
              "    <tr style=\"text-align: right;\">\n",
              "      <th></th>\n",
              "      <th>PassengerId</th>\n",
              "      <th>Survived</th>\n",
              "      <th>Pclass</th>\n",
              "      <th>Sex</th>\n",
              "      <th>Age</th>\n",
              "      <th>SibSp</th>\n",
              "      <th>Parch</th>\n",
              "      <th>Fare</th>\n",
              "      <th>Cabin_initial</th>\n",
              "      <th>Salutation</th>\n",
              "      <th>Family</th>\n",
              "      <th>Singleton</th>\n",
              "      <th>SmallFamily</th>\n",
              "      <th>LargeFamily</th>\n",
              "      <th>numeric_ticket</th>\n",
              "    </tr>\n",
              "  </thead>\n",
              "  <tbody>\n",
              "    <tr>\n",
              "      <th>PassengerId</th>\n",
              "      <td>1.000000</td>\n",
              "      <td>-0.005375</td>\n",
              "      <td>-0.035922</td>\n",
              "      <td>-0.043298</td>\n",
              "      <td>0.026615</td>\n",
              "      <td>-0.057759</td>\n",
              "      <td>-0.001872</td>\n",
              "      <td>0.012690</td>\n",
              "      <td>-0.032640</td>\n",
              "      <td>0.003552</td>\n",
              "      <td>-0.040414</td>\n",
              "      <td>0.057865</td>\n",
              "      <td>-0.029311</td>\n",
              "      <td>-0.057189</td>\n",
              "      <td>0.072586</td>\n",
              "    </tr>\n",
              "    <tr>\n",
              "      <th>Survived</th>\n",
              "      <td>-0.005375</td>\n",
              "      <td>1.000000</td>\n",
              "      <td>-0.340458</td>\n",
              "      <td>0.543053</td>\n",
              "      <td>-0.055942</td>\n",
              "      <td>-0.035760</td>\n",
              "      <td>0.081248</td>\n",
              "      <td>0.257456</td>\n",
              "      <td>-0.294497</td>\n",
              "      <td>0.407383</td>\n",
              "      <td>0.016150</td>\n",
              "      <td>-0.202793</td>\n",
              "      <td>0.279410</td>\n",
              "      <td>-0.125439</td>\n",
              "      <td>0.002016</td>\n",
              "    </tr>\n",
              "    <tr>\n",
              "      <th>Pclass</th>\n",
              "      <td>-0.035922</td>\n",
              "      <td>-0.340458</td>\n",
              "      <td>1.000000</td>\n",
              "      <td>-0.133423</td>\n",
              "      <td>-0.311909</td>\n",
              "      <td>0.082370</td>\n",
              "      <td>0.017636</td>\n",
              "      <td>-0.550143</td>\n",
              "      <td>0.745289</td>\n",
              "      <td>-0.175465</td>\n",
              "      <td>0.065111</td>\n",
              "      <td>0.136875</td>\n",
              "      <td>-0.225152</td>\n",
              "      <td>0.152100</td>\n",
              "      <td>0.080929</td>\n",
              "    </tr>\n",
              "    <tr>\n",
              "      <th>Sex</th>\n",
              "      <td>-0.043298</td>\n",
              "      <td>0.543053</td>\n",
              "      <td>-0.133423</td>\n",
              "      <td>1.000000</td>\n",
              "      <td>-0.065374</td>\n",
              "      <td>0.114287</td>\n",
              "      <td>0.245202</td>\n",
              "      <td>0.182444</td>\n",
              "      <td>-0.117911</td>\n",
              "      <td>0.502422</td>\n",
              "      <td>0.200620</td>\n",
              "      <td>-0.303178</td>\n",
              "      <td>0.260319</td>\n",
              "      <td>0.102763</td>\n",
              "      <td>0.033012</td>\n",
              "    </tr>\n",
              "    <tr>\n",
              "      <th>Age</th>\n",
              "      <td>0.026615</td>\n",
              "      <td>-0.055942</td>\n",
              "      <td>-0.311909</td>\n",
              "      <td>-0.065374</td>\n",
              "      <td>1.000000</td>\n",
              "      <td>-0.207877</td>\n",
              "      <td>-0.163555</td>\n",
              "      <td>0.096685</td>\n",
              "      <td>-0.249749</td>\n",
              "      <td>-0.082128</td>\n",
              "      <td>-0.223798</td>\n",
              "      <td>0.161058</td>\n",
              "      <td>-0.066669</td>\n",
              "      <td>-0.186681</td>\n",
              "      <td>-0.042377</td>\n",
              "    </tr>\n",
              "    <tr>\n",
              "      <th>SibSp</th>\n",
              "      <td>-0.057759</td>\n",
              "      <td>-0.035760</td>\n",
              "      <td>0.082370</td>\n",
              "      <td>0.114287</td>\n",
              "      <td>-0.207877</td>\n",
              "      <td>1.000000</td>\n",
              "      <td>0.414690</td>\n",
              "      <td>0.159707</td>\n",
              "      <td>0.041618</td>\n",
              "      <td>0.269355</td>\n",
              "      <td>0.890683</td>\n",
              "      <td>-0.584329</td>\n",
              "      <td>0.212938</td>\n",
              "      <td>0.730669</td>\n",
              "      <td>-0.080479</td>\n",
              "    </tr>\n",
              "    <tr>\n",
              "      <th>Parch</th>\n",
              "      <td>-0.001872</td>\n",
              "      <td>0.081248</td>\n",
              "      <td>0.017636</td>\n",
              "      <td>0.245202</td>\n",
              "      <td>-0.163555</td>\n",
              "      <td>0.414690</td>\n",
              "      <td>1.000000</td>\n",
              "      <td>0.216288</td>\n",
              "      <td>-0.031044</td>\n",
              "      <td>0.315536</td>\n",
              "      <td>0.783049</td>\n",
              "      <td>-0.583255</td>\n",
              "      <td>0.265598</td>\n",
              "      <td>0.631484</td>\n",
              "      <td>-0.035460</td>\n",
              "    </tr>\n",
              "    <tr>\n",
              "      <th>Fare</th>\n",
              "      <td>0.012690</td>\n",
              "      <td>0.257456</td>\n",
              "      <td>-0.550143</td>\n",
              "      <td>0.182444</td>\n",
              "      <td>0.096685</td>\n",
              "      <td>0.159707</td>\n",
              "      <td>0.216288</td>\n",
              "      <td>1.000000</td>\n",
              "      <td>-0.526111</td>\n",
              "      <td>0.136402</td>\n",
              "      <td>0.217219</td>\n",
              "      <td>-0.271994</td>\n",
              "      <td>0.205636</td>\n",
              "      <td>0.143663</td>\n",
              "      <td>-0.173248</td>\n",
              "    </tr>\n",
              "    <tr>\n",
              "      <th>Cabin_initial</th>\n",
              "      <td>-0.032640</td>\n",
              "      <td>-0.294497</td>\n",
              "      <td>0.745289</td>\n",
              "      <td>-0.117911</td>\n",
              "      <td>-0.249749</td>\n",
              "      <td>0.041618</td>\n",
              "      <td>-0.031044</td>\n",
              "      <td>-0.526111</td>\n",
              "      <td>1.000000</td>\n",
              "      <td>-0.131569</td>\n",
              "      <td>0.012936</td>\n",
              "      <td>0.137119</td>\n",
              "      <td>-0.181810</td>\n",
              "      <td>0.071696</td>\n",
              "      <td>0.012550</td>\n",
              "    </tr>\n",
              "    <tr>\n",
              "      <th>Salutation</th>\n",
              "      <td>0.003552</td>\n",
              "      <td>0.407383</td>\n",
              "      <td>-0.175465</td>\n",
              "      <td>0.502422</td>\n",
              "      <td>-0.082128</td>\n",
              "      <td>0.269355</td>\n",
              "      <td>0.315536</td>\n",
              "      <td>0.136402</td>\n",
              "      <td>-0.131569</td>\n",
              "      <td>1.000000</td>\n",
              "      <td>0.341749</td>\n",
              "      <td>-0.405432</td>\n",
              "      <td>0.302275</td>\n",
              "      <td>0.221969</td>\n",
              "      <td>0.036687</td>\n",
              "    </tr>\n",
              "    <tr>\n",
              "      <th>Family</th>\n",
              "      <td>-0.040414</td>\n",
              "      <td>0.016150</td>\n",
              "      <td>0.065111</td>\n",
              "      <td>0.200620</td>\n",
              "      <td>-0.223798</td>\n",
              "      <td>0.890683</td>\n",
              "      <td>0.783049</td>\n",
              "      <td>0.217219</td>\n",
              "      <td>0.012936</td>\n",
              "      <td>0.341749</td>\n",
              "      <td>1.000000</td>\n",
              "      <td>-0.690788</td>\n",
              "      <td>0.278238</td>\n",
              "      <td>0.814907</td>\n",
              "      <td>-0.072723</td>\n",
              "    </tr>\n",
              "    <tr>\n",
              "      <th>Singleton</th>\n",
              "      <td>0.057865</td>\n",
              "      <td>-0.202793</td>\n",
              "      <td>0.136875</td>\n",
              "      <td>-0.303178</td>\n",
              "      <td>0.161058</td>\n",
              "      <td>-0.584329</td>\n",
              "      <td>-0.583255</td>\n",
              "      <td>-0.271994</td>\n",
              "      <td>0.137119</td>\n",
              "      <td>-0.405432</td>\n",
              "      <td>-0.690788</td>\n",
              "      <td>1.000000</td>\n",
              "      <td>-0.859848</td>\n",
              "      <td>-0.336714</td>\n",
              "      <td>0.002710</td>\n",
              "    </tr>\n",
              "    <tr>\n",
              "      <th>SmallFamily</th>\n",
              "      <td>-0.029311</td>\n",
              "      <td>0.279410</td>\n",
              "      <td>-0.225152</td>\n",
              "      <td>0.260319</td>\n",
              "      <td>-0.066669</td>\n",
              "      <td>0.212938</td>\n",
              "      <td>0.265598</td>\n",
              "      <td>0.205636</td>\n",
              "      <td>-0.181810</td>\n",
              "      <td>0.302275</td>\n",
              "      <td>0.278238</td>\n",
              "      <td>-0.859848</td>\n",
              "      <td>1.000000</td>\n",
              "      <td>-0.191215</td>\n",
              "      <td>0.013451</td>\n",
              "    </tr>\n",
              "    <tr>\n",
              "      <th>LargeFamily</th>\n",
              "      <td>-0.057189</td>\n",
              "      <td>-0.125439</td>\n",
              "      <td>0.152100</td>\n",
              "      <td>0.102763</td>\n",
              "      <td>-0.186681</td>\n",
              "      <td>0.730669</td>\n",
              "      <td>0.631484</td>\n",
              "      <td>0.143663</td>\n",
              "      <td>0.071696</td>\n",
              "      <td>0.221969</td>\n",
              "      <td>0.814907</td>\n",
              "      <td>-0.336714</td>\n",
              "      <td>-0.191215</td>\n",
              "      <td>1.000000</td>\n",
              "      <td>-0.030019</td>\n",
              "    </tr>\n",
              "    <tr>\n",
              "      <th>numeric_ticket</th>\n",
              "      <td>0.072586</td>\n",
              "      <td>0.002016</td>\n",
              "      <td>0.080929</td>\n",
              "      <td>0.033012</td>\n",
              "      <td>-0.042377</td>\n",
              "      <td>-0.080479</td>\n",
              "      <td>-0.035460</td>\n",
              "      <td>-0.173248</td>\n",
              "      <td>0.012550</td>\n",
              "      <td>0.036687</td>\n",
              "      <td>-0.072723</td>\n",
              "      <td>0.002710</td>\n",
              "      <td>0.013451</td>\n",
              "      <td>-0.030019</td>\n",
              "      <td>1.000000</td>\n",
              "    </tr>\n",
              "  </tbody>\n",
              "</table>\n",
              "</div>\n",
              "      <button class=\"colab-df-convert\" onclick=\"convertToInteractive('df-8c75e967-237c-4029-91aa-c65a74b682c7')\"\n",
              "              title=\"Convert this dataframe to an interactive table.\"\n",
              "              style=\"display:none;\">\n",
              "        \n",
              "  <svg xmlns=\"http://www.w3.org/2000/svg\" height=\"24px\"viewBox=\"0 0 24 24\"\n",
              "       width=\"24px\">\n",
              "    <path d=\"M0 0h24v24H0V0z\" fill=\"none\"/>\n",
              "    <path d=\"M18.56 5.44l.94 2.06.94-2.06 2.06-.94-2.06-.94-.94-2.06-.94 2.06-2.06.94zm-11 1L8.5 8.5l.94-2.06 2.06-.94-2.06-.94L8.5 2.5l-.94 2.06-2.06.94zm10 10l.94 2.06.94-2.06 2.06-.94-2.06-.94-.94-2.06-.94 2.06-2.06.94z\"/><path d=\"M17.41 7.96l-1.37-1.37c-.4-.4-.92-.59-1.43-.59-.52 0-1.04.2-1.43.59L10.3 9.45l-7.72 7.72c-.78.78-.78 2.05 0 2.83L4 21.41c.39.39.9.59 1.41.59.51 0 1.02-.2 1.41-.59l7.78-7.78 2.81-2.81c.8-.78.8-2.07 0-2.86zM5.41 20L4 18.59l7.72-7.72 1.47 1.35L5.41 20z\"/>\n",
              "  </svg>\n",
              "      </button>\n",
              "      \n",
              "  <style>\n",
              "    .colab-df-container {\n",
              "      display:flex;\n",
              "      flex-wrap:wrap;\n",
              "      gap: 12px;\n",
              "    }\n",
              "\n",
              "    .colab-df-convert {\n",
              "      background-color: #E8F0FE;\n",
              "      border: none;\n",
              "      border-radius: 50%;\n",
              "      cursor: pointer;\n",
              "      display: none;\n",
              "      fill: #1967D2;\n",
              "      height: 32px;\n",
              "      padding: 0 0 0 0;\n",
              "      width: 32px;\n",
              "    }\n",
              "\n",
              "    .colab-df-convert:hover {\n",
              "      background-color: #E2EBFA;\n",
              "      box-shadow: 0px 1px 2px rgba(60, 64, 67, 0.3), 0px 1px 3px 1px rgba(60, 64, 67, 0.15);\n",
              "      fill: #174EA6;\n",
              "    }\n",
              "\n",
              "    [theme=dark] .colab-df-convert {\n",
              "      background-color: #3B4455;\n",
              "      fill: #D2E3FC;\n",
              "    }\n",
              "\n",
              "    [theme=dark] .colab-df-convert:hover {\n",
              "      background-color: #434B5C;\n",
              "      box-shadow: 0px 1px 3px 1px rgba(0, 0, 0, 0.15);\n",
              "      filter: drop-shadow(0px 1px 2px rgba(0, 0, 0, 0.3));\n",
              "      fill: #FFFFFF;\n",
              "    }\n",
              "  </style>\n",
              "\n",
              "      <script>\n",
              "        const buttonEl =\n",
              "          document.querySelector('#df-8c75e967-237c-4029-91aa-c65a74b682c7 button.colab-df-convert');\n",
              "        buttonEl.style.display =\n",
              "          google.colab.kernel.accessAllowed ? 'block' : 'none';\n",
              "\n",
              "        async function convertToInteractive(key) {\n",
              "          const element = document.querySelector('#df-8c75e967-237c-4029-91aa-c65a74b682c7');\n",
              "          const dataTable =\n",
              "            await google.colab.kernel.invokeFunction('convertToInteractive',\n",
              "                                                     [key], {});\n",
              "          if (!dataTable) return;\n",
              "\n",
              "          const docLinkHtml = 'Like what you see? Visit the ' +\n",
              "            '<a target=\"_blank\" href=https://colab.research.google.com/notebooks/data_table.ipynb>data table notebook</a>'\n",
              "            + ' to learn more about interactive tables.';\n",
              "          element.innerHTML = '';\n",
              "          dataTable['output_type'] = 'display_data';\n",
              "          await google.colab.output.renderOutput(dataTable, element);\n",
              "          const docLink = document.createElement('div');\n",
              "          docLink.innerHTML = docLinkHtml;\n",
              "          element.appendChild(docLink);\n",
              "        }\n",
              "      </script>\n",
              "    </div>\n",
              "  </div>\n",
              "  "
            ]
          },
          "metadata": {},
          "execution_count": 49
        }
      ]
    },
    {
      "cell_type": "markdown",
      "source": [
        "After done some feature engineering to the ticket, the ticket still has low correlation with the Survived column. Hence, drop the ticket."
      ],
      "metadata": {
        "id": "rGVtV9Fzj4bL"
      }
    },
    {
      "cell_type": "markdown",
      "source": [
        "#**Feature engineering : Fare**"
      ],
      "metadata": {
        "id": "b5tATWxSkHoA"
      }
    },
    {
      "cell_type": "markdown",
      "source": [
        "Train data"
      ],
      "metadata": {
        "id": "Zd7TWfLHRcqd"
      }
    },
    {
      "cell_type": "code",
      "source": [
        "bins_fare = np.linspace(min(df[\"Fare\"]), max(df[\"Fare\"]), 7)\n",
        "bins_fare"
      ],
      "metadata": {
        "colab": {
          "base_uri": "https://localhost:8080/"
        },
        "id": "BV2ZsJ77kXCg",
        "outputId": "71b615c3-5bf8-4127-b617-7d668597a583"
      },
      "execution_count": null,
      "outputs": [
        {
          "output_type": "execute_result",
          "data": {
            "text/plain": [
              "array([  0.    ,  85.3882, 170.7764, 256.1646, 341.5528, 426.941 ,\n",
              "       512.3292])"
            ]
          },
          "metadata": {},
          "execution_count": 50
        }
      ]
    },
    {
      "cell_type": "code",
      "source": [
        "categories_name = [0, 1, 2, 3, 4, 5]\n",
        "\n",
        "df6['fare_binned'] = pd.cut(df['Fare'], bins_fare, labels=categories_name, include_lowest=True )\n",
        "print (bins_fare, ':', df6['fare_binned'].value_counts())"
      ],
      "metadata": {
        "colab": {
          "base_uri": "https://localhost:8080/"
        },
        "id": "aD0uN2XSpi-5",
        "outputId": "a5604f70-3e70-469e-85bc-cc0db6e9c6e2"
      },
      "execution_count": null,
      "outputs": [
        {
          "output_type": "stream",
          "name": "stdout",
          "text": [
            "[  0.      85.3882 170.7764 256.1646 341.5528 426.941  512.3292] : 0    824\n",
            "1     46\n",
            "2     11\n",
            "3      6\n",
            "5      3\n",
            "4      0\n",
            "Name: fare_binned, dtype: int64\n"
          ]
        }
      ]
    },
    {
      "cell_type": "markdown",
      "source": [
        "Test data"
      ],
      "metadata": {
        "id": "rHAmJqh1RexU"
      }
    },
    {
      "cell_type": "code",
      "source": [
        "df6_test = df5_test\n",
        "for dataset in df6_test:\n",
        "    mean = df_test[\"Fare\"].mean()\n",
        "    std = df_test[\"Fare\"].std()\n",
        "    null = df_test[\"Fare\"].isnull().sum()\n",
        "    # compute random numbers between the mean, std and null\n",
        "    rand_fare_test = np.random.randint(mean - std, mean + std, size = null)\n",
        "    # fill NaN values in Age column with random values generated\n",
        "    fare_slice_test = df[\"Fare\"].copy()\n",
        "    fare_slice_test[np.isnan(fare_slice_test)] = rand_fare_test\n",
        "    df6_test[\"Fare\"] = fare_slice_test\n",
        "    df6_test[\"Fare\"] = df6_test[\"Fare\"].astype(int)\n",
        "\n",
        "df6_test[\"Fare\"].isnull().sum()\n",
        "#to check if there is still a missing values present"
      ],
      "metadata": {
        "colab": {
          "base_uri": "https://localhost:8080/"
        },
        "id": "zkWtxKxITI-0",
        "outputId": "e5628237-3497-480f-d041-136fa49b1754"
      },
      "execution_count": null,
      "outputs": [
        {
          "output_type": "execute_result",
          "data": {
            "text/plain": [
              "0"
            ]
          },
          "metadata": {},
          "execution_count": 52
        }
      ]
    },
    {
      "cell_type": "code",
      "source": [
        "bins_fare_test = np.linspace(min(df6_test[\"Fare\"]), max(df6_test[\"Fare\"]), 7)\n",
        "bins_fare_test"
      ],
      "metadata": {
        "colab": {
          "base_uri": "https://localhost:8080/"
        },
        "id": "Rh9_LxV_RgJQ",
        "outputId": "ac33ff08-4df5-4bd8-99fa-3b9b27c254a0"
      },
      "execution_count": null,
      "outputs": [
        {
          "output_type": "execute_result",
          "data": {
            "text/plain": [
              "array([  0.        ,  85.33333333, 170.66666667, 256.        ,\n",
              "       341.33333333, 426.66666667, 512.        ])"
            ]
          },
          "metadata": {},
          "execution_count": 53
        }
      ]
    },
    {
      "cell_type": "code",
      "source": [
        "categories_name = [0, 1, 2, 3, 4, 5]\n",
        "\n",
        "df6_test['fare_binned'] = pd.cut(df_test['Fare'], bins_fare_test, labels=categories_name, include_lowest=True )\n",
        "print (bins_fare_test, ':', df6_test['fare_binned'].value_counts())"
      ],
      "metadata": {
        "colab": {
          "base_uri": "https://localhost:8080/"
        },
        "id": "6mbCGGqmRx2d",
        "outputId": "5c809067-1697-4a46-8615-535a7e990aeb"
      },
      "execution_count": null,
      "outputs": [
        {
          "output_type": "stream",
          "name": "stdout",
          "text": [
            "[  0.          85.33333333 170.66666667 256.         341.33333333\n",
            " 426.66666667 512.        ] : 0    386\n",
            "1     23\n",
            "2      4\n",
            "3      4\n",
            "5      1\n",
            "4      0\n",
            "Name: fare_binned, dtype: int64\n"
          ]
        }
      ]
    },
    {
      "cell_type": "markdown",
      "source": [
        "#**Feature engineering : Embarked**"
      ],
      "metadata": {
        "id": "appbPNbpqkP1"
      }
    },
    {
      "cell_type": "markdown",
      "source": [
        "Train data"
      ],
      "metadata": {
        "id": "AXHMtWzjSVvE"
      }
    },
    {
      "cell_type": "code",
      "source": [
        "new_df7= df6\n",
        "common_value = 'S'\n",
        "new_df7['Embarked'] = new_df7['Embarked'].fillna(common_value)\n",
        "new_df7.info()"
      ],
      "metadata": {
        "id": "_9grQMVZiftL",
        "colab": {
          "base_uri": "https://localhost:8080/"
        },
        "outputId": "dc28e1cc-15fb-4ddb-e13e-932d5c152e31"
      },
      "execution_count": null,
      "outputs": [
        {
          "output_type": "stream",
          "name": "stdout",
          "text": [
            "<class 'pandas.core.frame.DataFrame'>\n",
            "Int64Index: 890 entries, 0 to 890\n",
            "Data columns (total 22 columns):\n",
            " #   Column          Non-Null Count  Dtype   \n",
            "---  ------          --------------  -----   \n",
            " 0   PassengerId     890 non-null    int64   \n",
            " 1   Survived        890 non-null    int64   \n",
            " 2   Pclass          890 non-null    int64   \n",
            " 3   Name            890 non-null    object  \n",
            " 4   Sex             890 non-null    int64   \n",
            " 5   Age             890 non-null    int64   \n",
            " 6   SibSp           890 non-null    int64   \n",
            " 7   Parch           890 non-null    int64   \n",
            " 8   Ticket          890 non-null    object  \n",
            " 9   Fare            890 non-null    float64 \n",
            " 10  Cabin           203 non-null    object  \n",
            " 11  Embarked        890 non-null    object  \n",
            " 12  Cabin_initial   890 non-null    int64   \n",
            " 13  Salutation      890 non-null    int64   \n",
            " 14  age_binned      890 non-null    category\n",
            " 15  Family          890 non-null    float64 \n",
            " 16  Singleton       890 non-null    int64   \n",
            " 17  SmallFamily     890 non-null    int64   \n",
            " 18  LargeFamily     890 non-null    int64   \n",
            " 19  numeric_ticket  890 non-null    int64   \n",
            " 20  ticket_letters  890 non-null    object  \n",
            " 21  fare_binned     890 non-null    category\n",
            "dtypes: category(2), float64(2), int64(13), object(5)\n",
            "memory usage: 180.5+ KB\n"
          ]
        }
      ]
    },
    {
      "cell_type": "code",
      "source": [
        "embark = {\"S\": 0, \"C\": 1, \"Q\": 2}\n",
        "new_df7['Embarked'] = new_df7['Embarked'].map(embark)\n",
        "new_df7['Embarked'].value_counts()"
      ],
      "metadata": {
        "id": "5FLpJLhUb9sV",
        "colab": {
          "base_uri": "https://localhost:8080/"
        },
        "outputId": "71996a9a-cf5d-431d-f54a-daf8ae63860f"
      },
      "execution_count": null,
      "outputs": [
        {
          "output_type": "execute_result",
          "data": {
            "text/plain": [
              "0    645\n",
              "1    168\n",
              "2     77\n",
              "Name: Embarked, dtype: int64"
            ]
          },
          "metadata": {},
          "execution_count": 56
        }
      ]
    },
    {
      "cell_type": "markdown",
      "source": [
        "Test data"
      ],
      "metadata": {
        "id": "_vrYxOuyapaO"
      }
    },
    {
      "cell_type": "code",
      "source": [
        "df6_test['Embarked'].value_counts()"
      ],
      "metadata": {
        "colab": {
          "base_uri": "https://localhost:8080/"
        },
        "id": "BazYsRYXasDk",
        "outputId": "fd564c75-ef07-4e2a-9599-bb58349e8207"
      },
      "execution_count": null,
      "outputs": [
        {
          "output_type": "execute_result",
          "data": {
            "text/plain": [
              "S    270\n",
              "C    102\n",
              "Q     46\n",
              "Name: Embarked, dtype: int64"
            ]
          },
          "metadata": {},
          "execution_count": 57
        }
      ]
    },
    {
      "cell_type": "code",
      "source": [
        "df6_test_trial = df6_test\n",
        "embark = {\"S\": 0, \"C\": 1, \"Q\":2}\n",
        "df6_test_trial['Embarked'] = df6_test_trial['Embarked'].map(embark)\n",
        "df6_test_trial['Embarked'].value_counts()\n",
        "                                             "
      ],
      "metadata": {
        "colab": {
          "base_uri": "https://localhost:8080/"
        },
        "id": "7JVpYDrkcdw1",
        "outputId": "41a2acf6-f94f-4387-ea1b-102d0f6959db"
      },
      "execution_count": null,
      "outputs": [
        {
          "output_type": "execute_result",
          "data": {
            "text/plain": [
              "0    270\n",
              "1    102\n",
              "2     46\n",
              "Name: Embarked, dtype: int64"
            ]
          },
          "metadata": {},
          "execution_count": 58
        }
      ]
    },
    {
      "cell_type": "markdown",
      "source": [
        "#**Future Work**\n",
        "\n",
        "#####Cabin_initial : drop row 339. convert initial to numerical\n",
        "#####Name : Split Mr, Mrs and make new column Salutation\n",
        "#####Sex : Change male, female to numerical \n",
        "#####Age : create column age_cat categorized into 6 group\n",
        "#####*SibSp & Parch : create column Family from addition of SibSp & Parch*\n",
        "#####*Ticket : drop whole column*\n",
        "#####*Fare : create column fare_cat *categorized into 6 group *italicized text*\n",
        "#####*Embarked : create column *embarked_cat categorized into 3 group *italicized text* \n",
        "\n"
      ],
      "metadata": {
        "id": "36HIN4Lrie66"
      }
    },
    {
      "cell_type": "code",
      "source": [
        "new_df7.corr()"
      ],
      "metadata": {
        "colab": {
          "base_uri": "https://localhost:8080/",
          "height": 615
        },
        "id": "Dt_S0Zn-siUV",
        "outputId": "ad320093-6b38-486b-e27b-08e175f0fedb"
      },
      "execution_count": null,
      "outputs": [
        {
          "output_type": "execute_result",
          "data": {
            "text/plain": [
              "                PassengerId  Survived    Pclass       Sex       Age     SibSp  \\\n",
              "PassengerId        1.000000 -0.005375 -0.035922 -0.043298  0.026615 -0.057759   \n",
              "Survived          -0.005375  1.000000 -0.340458  0.543053 -0.055942 -0.035760   \n",
              "Pclass            -0.035922 -0.340458  1.000000 -0.133423 -0.311909  0.082370   \n",
              "Sex               -0.043298  0.543053 -0.133423  1.000000 -0.065374  0.114287   \n",
              "Age                0.026615 -0.055942 -0.311909 -0.065374  1.000000 -0.207877   \n",
              "SibSp             -0.057759 -0.035760  0.082370  0.114287 -0.207877  1.000000   \n",
              "Parch             -0.001872  0.081248  0.017636  0.245202 -0.163555  0.414690   \n",
              "Fare               0.012690  0.257456 -0.550143  0.182444  0.096685  0.159707   \n",
              "Embarked          -0.030739  0.106363  0.044771  0.116155 -0.010872 -0.060283   \n",
              "Cabin_initial     -0.032640 -0.294497  0.745289 -0.117911 -0.249749  0.041618   \n",
              "Salutation         0.003552  0.407383 -0.175465  0.502422 -0.082128  0.269355   \n",
              "Family            -0.040414  0.016150  0.065111  0.200620 -0.223798  0.890683   \n",
              "Singleton          0.057865 -0.202793  0.136875 -0.303178  0.161058 -0.584329   \n",
              "SmallFamily       -0.029311  0.279410 -0.225152  0.260319 -0.066669  0.212938   \n",
              "LargeFamily       -0.057189 -0.125439  0.152100  0.102763 -0.186681  0.730669   \n",
              "numeric_ticket     0.072586  0.002016  0.080929  0.033012 -0.042377 -0.080479   \n",
              "\n",
              "                   Parch      Fare  Embarked  Cabin_initial  Salutation  \\\n",
              "PassengerId    -0.001872  0.012690 -0.030739      -0.032640    0.003552   \n",
              "Survived        0.081248  0.257456  0.106363      -0.294497    0.407383   \n",
              "Pclass          0.017636 -0.550143  0.044771       0.745289   -0.175465   \n",
              "Sex             0.245202  0.182444  0.116155      -0.117911    0.502422   \n",
              "Age            -0.163555  0.096685 -0.010872      -0.249749   -0.082128   \n",
              "SibSp           0.414690  0.159707 -0.060283       0.041618    0.269355   \n",
              "Parch           1.000000  0.216288 -0.078992      -0.031044    0.315536   \n",
              "Fare            0.216288  1.000000  0.062195      -0.526111    0.136402   \n",
              "Embarked       -0.078992  0.062195  1.000000      -0.038519    0.044969   \n",
              "Cabin_initial  -0.031044 -0.526111 -0.038519       1.000000   -0.131569   \n",
              "Salutation      0.315536  0.136402  0.044969      -0.131569    1.000000   \n",
              "Family          0.783049  0.217219 -0.080669       0.012936    0.341749   \n",
              "Singleton      -0.583255 -0.271994  0.018337       0.137119   -0.405432   \n",
              "SmallFamily     0.265598  0.205636  0.020164      -0.181810    0.302275   \n",
              "LargeFamily     0.631484  0.143663 -0.072440       0.071696    0.221969   \n",
              "numeric_ticket -0.035460 -0.173248  0.081630       0.012550    0.036687   \n",
              "\n",
              "                  Family  Singleton  SmallFamily  LargeFamily  numeric_ticket  \n",
              "PassengerId    -0.040414   0.057865    -0.029311    -0.057189        0.072586  \n",
              "Survived        0.016150  -0.202793     0.279410    -0.125439        0.002016  \n",
              "Pclass          0.065111   0.136875    -0.225152     0.152100        0.080929  \n",
              "Sex             0.200620  -0.303178     0.260319     0.102763        0.033012  \n",
              "Age            -0.223798   0.161058    -0.066669    -0.186681       -0.042377  \n",
              "SibSp           0.890683  -0.584329     0.212938     0.730669       -0.080479  \n",
              "Parch           0.783049  -0.583255     0.265598     0.631484       -0.035460  \n",
              "Fare            0.217219  -0.271994     0.205636     0.143663       -0.173248  \n",
              "Embarked       -0.080669   0.018337     0.020164    -0.072440        0.081630  \n",
              "Cabin_initial   0.012936   0.137119    -0.181810     0.071696        0.012550  \n",
              "Salutation      0.341749  -0.405432     0.302275     0.221969        0.036687  \n",
              "Family          1.000000  -0.690788     0.278238     0.814907       -0.072723  \n",
              "Singleton      -0.690788   1.000000    -0.859848    -0.336714        0.002710  \n",
              "SmallFamily     0.278238  -0.859848     1.000000    -0.191215        0.013451  \n",
              "LargeFamily     0.814907  -0.336714    -0.191215     1.000000       -0.030019  \n",
              "numeric_ticket -0.072723   0.002710     0.013451    -0.030019        1.000000  "
            ],
            "text/html": [
              "\n",
              "  <div id=\"df-70cf09ab-43da-4129-975e-f911978ac109\">\n",
              "    <div class=\"colab-df-container\">\n",
              "      <div>\n",
              "<style scoped>\n",
              "    .dataframe tbody tr th:only-of-type {\n",
              "        vertical-align: middle;\n",
              "    }\n",
              "\n",
              "    .dataframe tbody tr th {\n",
              "        vertical-align: top;\n",
              "    }\n",
              "\n",
              "    .dataframe thead th {\n",
              "        text-align: right;\n",
              "    }\n",
              "</style>\n",
              "<table border=\"1\" class=\"dataframe\">\n",
              "  <thead>\n",
              "    <tr style=\"text-align: right;\">\n",
              "      <th></th>\n",
              "      <th>PassengerId</th>\n",
              "      <th>Survived</th>\n",
              "      <th>Pclass</th>\n",
              "      <th>Sex</th>\n",
              "      <th>Age</th>\n",
              "      <th>SibSp</th>\n",
              "      <th>Parch</th>\n",
              "      <th>Fare</th>\n",
              "      <th>Embarked</th>\n",
              "      <th>Cabin_initial</th>\n",
              "      <th>Salutation</th>\n",
              "      <th>Family</th>\n",
              "      <th>Singleton</th>\n",
              "      <th>SmallFamily</th>\n",
              "      <th>LargeFamily</th>\n",
              "      <th>numeric_ticket</th>\n",
              "    </tr>\n",
              "  </thead>\n",
              "  <tbody>\n",
              "    <tr>\n",
              "      <th>PassengerId</th>\n",
              "      <td>1.000000</td>\n",
              "      <td>-0.005375</td>\n",
              "      <td>-0.035922</td>\n",
              "      <td>-0.043298</td>\n",
              "      <td>0.026615</td>\n",
              "      <td>-0.057759</td>\n",
              "      <td>-0.001872</td>\n",
              "      <td>0.012690</td>\n",
              "      <td>-0.030739</td>\n",
              "      <td>-0.032640</td>\n",
              "      <td>0.003552</td>\n",
              "      <td>-0.040414</td>\n",
              "      <td>0.057865</td>\n",
              "      <td>-0.029311</td>\n",
              "      <td>-0.057189</td>\n",
              "      <td>0.072586</td>\n",
              "    </tr>\n",
              "    <tr>\n",
              "      <th>Survived</th>\n",
              "      <td>-0.005375</td>\n",
              "      <td>1.000000</td>\n",
              "      <td>-0.340458</td>\n",
              "      <td>0.543053</td>\n",
              "      <td>-0.055942</td>\n",
              "      <td>-0.035760</td>\n",
              "      <td>0.081248</td>\n",
              "      <td>0.257456</td>\n",
              "      <td>0.106363</td>\n",
              "      <td>-0.294497</td>\n",
              "      <td>0.407383</td>\n",
              "      <td>0.016150</td>\n",
              "      <td>-0.202793</td>\n",
              "      <td>0.279410</td>\n",
              "      <td>-0.125439</td>\n",
              "      <td>0.002016</td>\n",
              "    </tr>\n",
              "    <tr>\n",
              "      <th>Pclass</th>\n",
              "      <td>-0.035922</td>\n",
              "      <td>-0.340458</td>\n",
              "      <td>1.000000</td>\n",
              "      <td>-0.133423</td>\n",
              "      <td>-0.311909</td>\n",
              "      <td>0.082370</td>\n",
              "      <td>0.017636</td>\n",
              "      <td>-0.550143</td>\n",
              "      <td>0.044771</td>\n",
              "      <td>0.745289</td>\n",
              "      <td>-0.175465</td>\n",
              "      <td>0.065111</td>\n",
              "      <td>0.136875</td>\n",
              "      <td>-0.225152</td>\n",
              "      <td>0.152100</td>\n",
              "      <td>0.080929</td>\n",
              "    </tr>\n",
              "    <tr>\n",
              "      <th>Sex</th>\n",
              "      <td>-0.043298</td>\n",
              "      <td>0.543053</td>\n",
              "      <td>-0.133423</td>\n",
              "      <td>1.000000</td>\n",
              "      <td>-0.065374</td>\n",
              "      <td>0.114287</td>\n",
              "      <td>0.245202</td>\n",
              "      <td>0.182444</td>\n",
              "      <td>0.116155</td>\n",
              "      <td>-0.117911</td>\n",
              "      <td>0.502422</td>\n",
              "      <td>0.200620</td>\n",
              "      <td>-0.303178</td>\n",
              "      <td>0.260319</td>\n",
              "      <td>0.102763</td>\n",
              "      <td>0.033012</td>\n",
              "    </tr>\n",
              "    <tr>\n",
              "      <th>Age</th>\n",
              "      <td>0.026615</td>\n",
              "      <td>-0.055942</td>\n",
              "      <td>-0.311909</td>\n",
              "      <td>-0.065374</td>\n",
              "      <td>1.000000</td>\n",
              "      <td>-0.207877</td>\n",
              "      <td>-0.163555</td>\n",
              "      <td>0.096685</td>\n",
              "      <td>-0.010872</td>\n",
              "      <td>-0.249749</td>\n",
              "      <td>-0.082128</td>\n",
              "      <td>-0.223798</td>\n",
              "      <td>0.161058</td>\n",
              "      <td>-0.066669</td>\n",
              "      <td>-0.186681</td>\n",
              "      <td>-0.042377</td>\n",
              "    </tr>\n",
              "    <tr>\n",
              "      <th>SibSp</th>\n",
              "      <td>-0.057759</td>\n",
              "      <td>-0.035760</td>\n",
              "      <td>0.082370</td>\n",
              "      <td>0.114287</td>\n",
              "      <td>-0.207877</td>\n",
              "      <td>1.000000</td>\n",
              "      <td>0.414690</td>\n",
              "      <td>0.159707</td>\n",
              "      <td>-0.060283</td>\n",
              "      <td>0.041618</td>\n",
              "      <td>0.269355</td>\n",
              "      <td>0.890683</td>\n",
              "      <td>-0.584329</td>\n",
              "      <td>0.212938</td>\n",
              "      <td>0.730669</td>\n",
              "      <td>-0.080479</td>\n",
              "    </tr>\n",
              "    <tr>\n",
              "      <th>Parch</th>\n",
              "      <td>-0.001872</td>\n",
              "      <td>0.081248</td>\n",
              "      <td>0.017636</td>\n",
              "      <td>0.245202</td>\n",
              "      <td>-0.163555</td>\n",
              "      <td>0.414690</td>\n",
              "      <td>1.000000</td>\n",
              "      <td>0.216288</td>\n",
              "      <td>-0.078992</td>\n",
              "      <td>-0.031044</td>\n",
              "      <td>0.315536</td>\n",
              "      <td>0.783049</td>\n",
              "      <td>-0.583255</td>\n",
              "      <td>0.265598</td>\n",
              "      <td>0.631484</td>\n",
              "      <td>-0.035460</td>\n",
              "    </tr>\n",
              "    <tr>\n",
              "      <th>Fare</th>\n",
              "      <td>0.012690</td>\n",
              "      <td>0.257456</td>\n",
              "      <td>-0.550143</td>\n",
              "      <td>0.182444</td>\n",
              "      <td>0.096685</td>\n",
              "      <td>0.159707</td>\n",
              "      <td>0.216288</td>\n",
              "      <td>1.000000</td>\n",
              "      <td>0.062195</td>\n",
              "      <td>-0.526111</td>\n",
              "      <td>0.136402</td>\n",
              "      <td>0.217219</td>\n",
              "      <td>-0.271994</td>\n",
              "      <td>0.205636</td>\n",
              "      <td>0.143663</td>\n",
              "      <td>-0.173248</td>\n",
              "    </tr>\n",
              "    <tr>\n",
              "      <th>Embarked</th>\n",
              "      <td>-0.030739</td>\n",
              "      <td>0.106363</td>\n",
              "      <td>0.044771</td>\n",
              "      <td>0.116155</td>\n",
              "      <td>-0.010872</td>\n",
              "      <td>-0.060283</td>\n",
              "      <td>-0.078992</td>\n",
              "      <td>0.062195</td>\n",
              "      <td>1.000000</td>\n",
              "      <td>-0.038519</td>\n",
              "      <td>0.044969</td>\n",
              "      <td>-0.080669</td>\n",
              "      <td>0.018337</td>\n",
              "      <td>0.020164</td>\n",
              "      <td>-0.072440</td>\n",
              "      <td>0.081630</td>\n",
              "    </tr>\n",
              "    <tr>\n",
              "      <th>Cabin_initial</th>\n",
              "      <td>-0.032640</td>\n",
              "      <td>-0.294497</td>\n",
              "      <td>0.745289</td>\n",
              "      <td>-0.117911</td>\n",
              "      <td>-0.249749</td>\n",
              "      <td>0.041618</td>\n",
              "      <td>-0.031044</td>\n",
              "      <td>-0.526111</td>\n",
              "      <td>-0.038519</td>\n",
              "      <td>1.000000</td>\n",
              "      <td>-0.131569</td>\n",
              "      <td>0.012936</td>\n",
              "      <td>0.137119</td>\n",
              "      <td>-0.181810</td>\n",
              "      <td>0.071696</td>\n",
              "      <td>0.012550</td>\n",
              "    </tr>\n",
              "    <tr>\n",
              "      <th>Salutation</th>\n",
              "      <td>0.003552</td>\n",
              "      <td>0.407383</td>\n",
              "      <td>-0.175465</td>\n",
              "      <td>0.502422</td>\n",
              "      <td>-0.082128</td>\n",
              "      <td>0.269355</td>\n",
              "      <td>0.315536</td>\n",
              "      <td>0.136402</td>\n",
              "      <td>0.044969</td>\n",
              "      <td>-0.131569</td>\n",
              "      <td>1.000000</td>\n",
              "      <td>0.341749</td>\n",
              "      <td>-0.405432</td>\n",
              "      <td>0.302275</td>\n",
              "      <td>0.221969</td>\n",
              "      <td>0.036687</td>\n",
              "    </tr>\n",
              "    <tr>\n",
              "      <th>Family</th>\n",
              "      <td>-0.040414</td>\n",
              "      <td>0.016150</td>\n",
              "      <td>0.065111</td>\n",
              "      <td>0.200620</td>\n",
              "      <td>-0.223798</td>\n",
              "      <td>0.890683</td>\n",
              "      <td>0.783049</td>\n",
              "      <td>0.217219</td>\n",
              "      <td>-0.080669</td>\n",
              "      <td>0.012936</td>\n",
              "      <td>0.341749</td>\n",
              "      <td>1.000000</td>\n",
              "      <td>-0.690788</td>\n",
              "      <td>0.278238</td>\n",
              "      <td>0.814907</td>\n",
              "      <td>-0.072723</td>\n",
              "    </tr>\n",
              "    <tr>\n",
              "      <th>Singleton</th>\n",
              "      <td>0.057865</td>\n",
              "      <td>-0.202793</td>\n",
              "      <td>0.136875</td>\n",
              "      <td>-0.303178</td>\n",
              "      <td>0.161058</td>\n",
              "      <td>-0.584329</td>\n",
              "      <td>-0.583255</td>\n",
              "      <td>-0.271994</td>\n",
              "      <td>0.018337</td>\n",
              "      <td>0.137119</td>\n",
              "      <td>-0.405432</td>\n",
              "      <td>-0.690788</td>\n",
              "      <td>1.000000</td>\n",
              "      <td>-0.859848</td>\n",
              "      <td>-0.336714</td>\n",
              "      <td>0.002710</td>\n",
              "    </tr>\n",
              "    <tr>\n",
              "      <th>SmallFamily</th>\n",
              "      <td>-0.029311</td>\n",
              "      <td>0.279410</td>\n",
              "      <td>-0.225152</td>\n",
              "      <td>0.260319</td>\n",
              "      <td>-0.066669</td>\n",
              "      <td>0.212938</td>\n",
              "      <td>0.265598</td>\n",
              "      <td>0.205636</td>\n",
              "      <td>0.020164</td>\n",
              "      <td>-0.181810</td>\n",
              "      <td>0.302275</td>\n",
              "      <td>0.278238</td>\n",
              "      <td>-0.859848</td>\n",
              "      <td>1.000000</td>\n",
              "      <td>-0.191215</td>\n",
              "      <td>0.013451</td>\n",
              "    </tr>\n",
              "    <tr>\n",
              "      <th>LargeFamily</th>\n",
              "      <td>-0.057189</td>\n",
              "      <td>-0.125439</td>\n",
              "      <td>0.152100</td>\n",
              "      <td>0.102763</td>\n",
              "      <td>-0.186681</td>\n",
              "      <td>0.730669</td>\n",
              "      <td>0.631484</td>\n",
              "      <td>0.143663</td>\n",
              "      <td>-0.072440</td>\n",
              "      <td>0.071696</td>\n",
              "      <td>0.221969</td>\n",
              "      <td>0.814907</td>\n",
              "      <td>-0.336714</td>\n",
              "      <td>-0.191215</td>\n",
              "      <td>1.000000</td>\n",
              "      <td>-0.030019</td>\n",
              "    </tr>\n",
              "    <tr>\n",
              "      <th>numeric_ticket</th>\n",
              "      <td>0.072586</td>\n",
              "      <td>0.002016</td>\n",
              "      <td>0.080929</td>\n",
              "      <td>0.033012</td>\n",
              "      <td>-0.042377</td>\n",
              "      <td>-0.080479</td>\n",
              "      <td>-0.035460</td>\n",
              "      <td>-0.173248</td>\n",
              "      <td>0.081630</td>\n",
              "      <td>0.012550</td>\n",
              "      <td>0.036687</td>\n",
              "      <td>-0.072723</td>\n",
              "      <td>0.002710</td>\n",
              "      <td>0.013451</td>\n",
              "      <td>-0.030019</td>\n",
              "      <td>1.000000</td>\n",
              "    </tr>\n",
              "  </tbody>\n",
              "</table>\n",
              "</div>\n",
              "      <button class=\"colab-df-convert\" onclick=\"convertToInteractive('df-70cf09ab-43da-4129-975e-f911978ac109')\"\n",
              "              title=\"Convert this dataframe to an interactive table.\"\n",
              "              style=\"display:none;\">\n",
              "        \n",
              "  <svg xmlns=\"http://www.w3.org/2000/svg\" height=\"24px\"viewBox=\"0 0 24 24\"\n",
              "       width=\"24px\">\n",
              "    <path d=\"M0 0h24v24H0V0z\" fill=\"none\"/>\n",
              "    <path d=\"M18.56 5.44l.94 2.06.94-2.06 2.06-.94-2.06-.94-.94-2.06-.94 2.06-2.06.94zm-11 1L8.5 8.5l.94-2.06 2.06-.94-2.06-.94L8.5 2.5l-.94 2.06-2.06.94zm10 10l.94 2.06.94-2.06 2.06-.94-2.06-.94-.94-2.06-.94 2.06-2.06.94z\"/><path d=\"M17.41 7.96l-1.37-1.37c-.4-.4-.92-.59-1.43-.59-.52 0-1.04.2-1.43.59L10.3 9.45l-7.72 7.72c-.78.78-.78 2.05 0 2.83L4 21.41c.39.39.9.59 1.41.59.51 0 1.02-.2 1.41-.59l7.78-7.78 2.81-2.81c.8-.78.8-2.07 0-2.86zM5.41 20L4 18.59l7.72-7.72 1.47 1.35L5.41 20z\"/>\n",
              "  </svg>\n",
              "      </button>\n",
              "      \n",
              "  <style>\n",
              "    .colab-df-container {\n",
              "      display:flex;\n",
              "      flex-wrap:wrap;\n",
              "      gap: 12px;\n",
              "    }\n",
              "\n",
              "    .colab-df-convert {\n",
              "      background-color: #E8F0FE;\n",
              "      border: none;\n",
              "      border-radius: 50%;\n",
              "      cursor: pointer;\n",
              "      display: none;\n",
              "      fill: #1967D2;\n",
              "      height: 32px;\n",
              "      padding: 0 0 0 0;\n",
              "      width: 32px;\n",
              "    }\n",
              "\n",
              "    .colab-df-convert:hover {\n",
              "      background-color: #E2EBFA;\n",
              "      box-shadow: 0px 1px 2px rgba(60, 64, 67, 0.3), 0px 1px 3px 1px rgba(60, 64, 67, 0.15);\n",
              "      fill: #174EA6;\n",
              "    }\n",
              "\n",
              "    [theme=dark] .colab-df-convert {\n",
              "      background-color: #3B4455;\n",
              "      fill: #D2E3FC;\n",
              "    }\n",
              "\n",
              "    [theme=dark] .colab-df-convert:hover {\n",
              "      background-color: #434B5C;\n",
              "      box-shadow: 0px 1px 3px 1px rgba(0, 0, 0, 0.15);\n",
              "      filter: drop-shadow(0px 1px 2px rgba(0, 0, 0, 0.3));\n",
              "      fill: #FFFFFF;\n",
              "    }\n",
              "  </style>\n",
              "\n",
              "      <script>\n",
              "        const buttonEl =\n",
              "          document.querySelector('#df-70cf09ab-43da-4129-975e-f911978ac109 button.colab-df-convert');\n",
              "        buttonEl.style.display =\n",
              "          google.colab.kernel.accessAllowed ? 'block' : 'none';\n",
              "\n",
              "        async function convertToInteractive(key) {\n",
              "          const element = document.querySelector('#df-70cf09ab-43da-4129-975e-f911978ac109');\n",
              "          const dataTable =\n",
              "            await google.colab.kernel.invokeFunction('convertToInteractive',\n",
              "                                                     [key], {});\n",
              "          if (!dataTable) return;\n",
              "\n",
              "          const docLinkHtml = 'Like what you see? Visit the ' +\n",
              "            '<a target=\"_blank\" href=https://colab.research.google.com/notebooks/data_table.ipynb>data table notebook</a>'\n",
              "            + ' to learn more about interactive tables.';\n",
              "          element.innerHTML = '';\n",
              "          dataTable['output_type'] = 'display_data';\n",
              "          await google.colab.output.renderOutput(dataTable, element);\n",
              "          const docLink = document.createElement('div');\n",
              "          docLink.innerHTML = docLinkHtml;\n",
              "          element.appendChild(docLink);\n",
              "        }\n",
              "      </script>\n",
              "    </div>\n",
              "  </div>\n",
              "  "
            ]
          },
          "metadata": {},
          "execution_count": 59
        }
      ]
    },
    {
      "cell_type": "code",
      "source": [
        "new_df7.columns"
      ],
      "metadata": {
        "colab": {
          "base_uri": "https://localhost:8080/"
        },
        "id": "GYvr73CPzKef",
        "outputId": "9be82ca9-4c80-4ddf-83b7-6bfbd6b3cad6"
      },
      "execution_count": null,
      "outputs": [
        {
          "output_type": "execute_result",
          "data": {
            "text/plain": [
              "Index(['PassengerId', 'Survived', 'Pclass', 'Name', 'Sex', 'Age', 'SibSp',\n",
              "       'Parch', 'Ticket', 'Fare', 'Cabin', 'Embarked', 'Cabin_initial',\n",
              "       'Salutation', 'age_binned', 'Family', 'Singleton', 'SmallFamily',\n",
              "       'LargeFamily', 'numeric_ticket', 'ticket_letters', 'fare_binned'],\n",
              "      dtype='object')"
            ]
          },
          "metadata": {},
          "execution_count": 60
        }
      ]
    },
    {
      "cell_type": "markdown",
      "source": [
        "#**Ready data**"
      ],
      "metadata": {
        "id": "-ro1T-fqyaI0"
      }
    },
    {
      "cell_type": "markdown",
      "source": [
        "Train data"
      ],
      "metadata": {
        "id": "DkZJ4c5U0HGk"
      }
    },
    {
      "cell_type": "code",
      "source": [
        "df8 = new_df7[['Pclass', 'Sex', 'SibSp',\n",
        "       'Parch', 'Embarked', 'Cabin_initial',\n",
        "       'Salutation', 'age_binned', 'Singleton', 'SmallFamily',\n",
        "       'LargeFamily', 'fare_binned']]\n",
        "df8.head()"
      ],
      "metadata": {
        "colab": {
          "base_uri": "https://localhost:8080/",
          "height": 270
        },
        "id": "66jV6ftr0JQJ",
        "outputId": "a9e83232-b709-4a75-99b0-4ba009de4dab"
      },
      "execution_count": null,
      "outputs": [
        {
          "output_type": "execute_result",
          "data": {
            "text/plain": [
              "   Pclass  Sex  SibSp  Parch  Embarked  Cabin_initial  Salutation age_binned  \\\n",
              "0       3    0      1      0         0              8           1          1   \n",
              "1       1    1      1      0         1              3           3          2   \n",
              "2       3    1      0      0         0              8           2          1   \n",
              "3       1    1      1      0         0              3           3          2   \n",
              "4       3    0      0      0         0              8           1          2   \n",
              "\n",
              "   Singleton  SmallFamily  LargeFamily fare_binned  \n",
              "0          0            1            0           0  \n",
              "1          0            1            0           0  \n",
              "2          1            0            0           0  \n",
              "3          0            1            0           0  \n",
              "4          1            0            0           0  "
            ],
            "text/html": [
              "\n",
              "  <div id=\"df-958dc61f-c4ff-4ce6-bc0f-4598b3d4d990\">\n",
              "    <div class=\"colab-df-container\">\n",
              "      <div>\n",
              "<style scoped>\n",
              "    .dataframe tbody tr th:only-of-type {\n",
              "        vertical-align: middle;\n",
              "    }\n",
              "\n",
              "    .dataframe tbody tr th {\n",
              "        vertical-align: top;\n",
              "    }\n",
              "\n",
              "    .dataframe thead th {\n",
              "        text-align: right;\n",
              "    }\n",
              "</style>\n",
              "<table border=\"1\" class=\"dataframe\">\n",
              "  <thead>\n",
              "    <tr style=\"text-align: right;\">\n",
              "      <th></th>\n",
              "      <th>Pclass</th>\n",
              "      <th>Sex</th>\n",
              "      <th>SibSp</th>\n",
              "      <th>Parch</th>\n",
              "      <th>Embarked</th>\n",
              "      <th>Cabin_initial</th>\n",
              "      <th>Salutation</th>\n",
              "      <th>age_binned</th>\n",
              "      <th>Singleton</th>\n",
              "      <th>SmallFamily</th>\n",
              "      <th>LargeFamily</th>\n",
              "      <th>fare_binned</th>\n",
              "    </tr>\n",
              "  </thead>\n",
              "  <tbody>\n",
              "    <tr>\n",
              "      <th>0</th>\n",
              "      <td>3</td>\n",
              "      <td>0</td>\n",
              "      <td>1</td>\n",
              "      <td>0</td>\n",
              "      <td>0</td>\n",
              "      <td>8</td>\n",
              "      <td>1</td>\n",
              "      <td>1</td>\n",
              "      <td>0</td>\n",
              "      <td>1</td>\n",
              "      <td>0</td>\n",
              "      <td>0</td>\n",
              "    </tr>\n",
              "    <tr>\n",
              "      <th>1</th>\n",
              "      <td>1</td>\n",
              "      <td>1</td>\n",
              "      <td>1</td>\n",
              "      <td>0</td>\n",
              "      <td>1</td>\n",
              "      <td>3</td>\n",
              "      <td>3</td>\n",
              "      <td>2</td>\n",
              "      <td>0</td>\n",
              "      <td>1</td>\n",
              "      <td>0</td>\n",
              "      <td>0</td>\n",
              "    </tr>\n",
              "    <tr>\n",
              "      <th>2</th>\n",
              "      <td>3</td>\n",
              "      <td>1</td>\n",
              "      <td>0</td>\n",
              "      <td>0</td>\n",
              "      <td>0</td>\n",
              "      <td>8</td>\n",
              "      <td>2</td>\n",
              "      <td>1</td>\n",
              "      <td>1</td>\n",
              "      <td>0</td>\n",
              "      <td>0</td>\n",
              "      <td>0</td>\n",
              "    </tr>\n",
              "    <tr>\n",
              "      <th>3</th>\n",
              "      <td>1</td>\n",
              "      <td>1</td>\n",
              "      <td>1</td>\n",
              "      <td>0</td>\n",
              "      <td>0</td>\n",
              "      <td>3</td>\n",
              "      <td>3</td>\n",
              "      <td>2</td>\n",
              "      <td>0</td>\n",
              "      <td>1</td>\n",
              "      <td>0</td>\n",
              "      <td>0</td>\n",
              "    </tr>\n",
              "    <tr>\n",
              "      <th>4</th>\n",
              "      <td>3</td>\n",
              "      <td>0</td>\n",
              "      <td>0</td>\n",
              "      <td>0</td>\n",
              "      <td>0</td>\n",
              "      <td>8</td>\n",
              "      <td>1</td>\n",
              "      <td>2</td>\n",
              "      <td>1</td>\n",
              "      <td>0</td>\n",
              "      <td>0</td>\n",
              "      <td>0</td>\n",
              "    </tr>\n",
              "  </tbody>\n",
              "</table>\n",
              "</div>\n",
              "      <button class=\"colab-df-convert\" onclick=\"convertToInteractive('df-958dc61f-c4ff-4ce6-bc0f-4598b3d4d990')\"\n",
              "              title=\"Convert this dataframe to an interactive table.\"\n",
              "              style=\"display:none;\">\n",
              "        \n",
              "  <svg xmlns=\"http://www.w3.org/2000/svg\" height=\"24px\"viewBox=\"0 0 24 24\"\n",
              "       width=\"24px\">\n",
              "    <path d=\"M0 0h24v24H0V0z\" fill=\"none\"/>\n",
              "    <path d=\"M18.56 5.44l.94 2.06.94-2.06 2.06-.94-2.06-.94-.94-2.06-.94 2.06-2.06.94zm-11 1L8.5 8.5l.94-2.06 2.06-.94-2.06-.94L8.5 2.5l-.94 2.06-2.06.94zm10 10l.94 2.06.94-2.06 2.06-.94-2.06-.94-.94-2.06-.94 2.06-2.06.94z\"/><path d=\"M17.41 7.96l-1.37-1.37c-.4-.4-.92-.59-1.43-.59-.52 0-1.04.2-1.43.59L10.3 9.45l-7.72 7.72c-.78.78-.78 2.05 0 2.83L4 21.41c.39.39.9.59 1.41.59.51 0 1.02-.2 1.41-.59l7.78-7.78 2.81-2.81c.8-.78.8-2.07 0-2.86zM5.41 20L4 18.59l7.72-7.72 1.47 1.35L5.41 20z\"/>\n",
              "  </svg>\n",
              "      </button>\n",
              "      \n",
              "  <style>\n",
              "    .colab-df-container {\n",
              "      display:flex;\n",
              "      flex-wrap:wrap;\n",
              "      gap: 12px;\n",
              "    }\n",
              "\n",
              "    .colab-df-convert {\n",
              "      background-color: #E8F0FE;\n",
              "      border: none;\n",
              "      border-radius: 50%;\n",
              "      cursor: pointer;\n",
              "      display: none;\n",
              "      fill: #1967D2;\n",
              "      height: 32px;\n",
              "      padding: 0 0 0 0;\n",
              "      width: 32px;\n",
              "    }\n",
              "\n",
              "    .colab-df-convert:hover {\n",
              "      background-color: #E2EBFA;\n",
              "      box-shadow: 0px 1px 2px rgba(60, 64, 67, 0.3), 0px 1px 3px 1px rgba(60, 64, 67, 0.15);\n",
              "      fill: #174EA6;\n",
              "    }\n",
              "\n",
              "    [theme=dark] .colab-df-convert {\n",
              "      background-color: #3B4455;\n",
              "      fill: #D2E3FC;\n",
              "    }\n",
              "\n",
              "    [theme=dark] .colab-df-convert:hover {\n",
              "      background-color: #434B5C;\n",
              "      box-shadow: 0px 1px 3px 1px rgba(0, 0, 0, 0.15);\n",
              "      filter: drop-shadow(0px 1px 2px rgba(0, 0, 0, 0.3));\n",
              "      fill: #FFFFFF;\n",
              "    }\n",
              "  </style>\n",
              "\n",
              "      <script>\n",
              "        const buttonEl =\n",
              "          document.querySelector('#df-958dc61f-c4ff-4ce6-bc0f-4598b3d4d990 button.colab-df-convert');\n",
              "        buttonEl.style.display =\n",
              "          google.colab.kernel.accessAllowed ? 'block' : 'none';\n",
              "\n",
              "        async function convertToInteractive(key) {\n",
              "          const element = document.querySelector('#df-958dc61f-c4ff-4ce6-bc0f-4598b3d4d990');\n",
              "          const dataTable =\n",
              "            await google.colab.kernel.invokeFunction('convertToInteractive',\n",
              "                                                     [key], {});\n",
              "          if (!dataTable) return;\n",
              "\n",
              "          const docLinkHtml = 'Like what you see? Visit the ' +\n",
              "            '<a target=\"_blank\" href=https://colab.research.google.com/notebooks/data_table.ipynb>data table notebook</a>'\n",
              "            + ' to learn more about interactive tables.';\n",
              "          element.innerHTML = '';\n",
              "          dataTable['output_type'] = 'display_data';\n",
              "          await google.colab.output.renderOutput(dataTable, element);\n",
              "          const docLink = document.createElement('div');\n",
              "          docLink.innerHTML = docLinkHtml;\n",
              "          element.appendChild(docLink);\n",
              "        }\n",
              "      </script>\n",
              "    </div>\n",
              "  </div>\n",
              "  "
            ]
          },
          "metadata": {},
          "execution_count": 61
        }
      ]
    },
    {
      "cell_type": "markdown",
      "source": [
        "Test data"
      ],
      "metadata": {
        "id": "_o2bbk3P1Iyw"
      }
    },
    {
      "cell_type": "code",
      "source": [
        "df8_test = df6_test_trial[['Pclass', 'Sex', 'SibSp',\n",
        "       'Parch', 'Embarked', 'Cabin_initial',\n",
        "       'Salutation', 'age_binned', 'Singleton', 'SmallFamily',\n",
        "       'LargeFamily', 'fare_binned']]\n",
        "\n",
        "df8_test.head()"
      ],
      "metadata": {
        "colab": {
          "base_uri": "https://localhost:8080/",
          "height": 270
        },
        "id": "dqNKipwB1HVn",
        "outputId": "8988948a-b715-4bd6-aee0-5e78f2be0f3c"
      },
      "execution_count": null,
      "outputs": [
        {
          "output_type": "execute_result",
          "data": {
            "text/plain": [
              "   Pclass  Sex  SibSp  Parch  Embarked  Cabin_initial  Salutation age_binned  \\\n",
              "0       3    0      0      0         2              8           1          2   \n",
              "1       3    1      1      0         0              8           3          3   \n",
              "2       2    0      0      0         2              8           1          4   \n",
              "3       3    0      0      0         0              8           1          2   \n",
              "4       3    1      1      1         0              8           3          1   \n",
              "\n",
              "   Singleton  SmallFamily  LargeFamily fare_binned  \n",
              "0          1            0            0           0  \n",
              "1          0            1            0           0  \n",
              "2          1            0            0           0  \n",
              "3          1            0            0           0  \n",
              "4          0            1            0           0  "
            ],
            "text/html": [
              "\n",
              "  <div id=\"df-cd22a981-c1a4-4b7a-9c3d-d74355ee4d3c\">\n",
              "    <div class=\"colab-df-container\">\n",
              "      <div>\n",
              "<style scoped>\n",
              "    .dataframe tbody tr th:only-of-type {\n",
              "        vertical-align: middle;\n",
              "    }\n",
              "\n",
              "    .dataframe tbody tr th {\n",
              "        vertical-align: top;\n",
              "    }\n",
              "\n",
              "    .dataframe thead th {\n",
              "        text-align: right;\n",
              "    }\n",
              "</style>\n",
              "<table border=\"1\" class=\"dataframe\">\n",
              "  <thead>\n",
              "    <tr style=\"text-align: right;\">\n",
              "      <th></th>\n",
              "      <th>Pclass</th>\n",
              "      <th>Sex</th>\n",
              "      <th>SibSp</th>\n",
              "      <th>Parch</th>\n",
              "      <th>Embarked</th>\n",
              "      <th>Cabin_initial</th>\n",
              "      <th>Salutation</th>\n",
              "      <th>age_binned</th>\n",
              "      <th>Singleton</th>\n",
              "      <th>SmallFamily</th>\n",
              "      <th>LargeFamily</th>\n",
              "      <th>fare_binned</th>\n",
              "    </tr>\n",
              "  </thead>\n",
              "  <tbody>\n",
              "    <tr>\n",
              "      <th>0</th>\n",
              "      <td>3</td>\n",
              "      <td>0</td>\n",
              "      <td>0</td>\n",
              "      <td>0</td>\n",
              "      <td>2</td>\n",
              "      <td>8</td>\n",
              "      <td>1</td>\n",
              "      <td>2</td>\n",
              "      <td>1</td>\n",
              "      <td>0</td>\n",
              "      <td>0</td>\n",
              "      <td>0</td>\n",
              "    </tr>\n",
              "    <tr>\n",
              "      <th>1</th>\n",
              "      <td>3</td>\n",
              "      <td>1</td>\n",
              "      <td>1</td>\n",
              "      <td>0</td>\n",
              "      <td>0</td>\n",
              "      <td>8</td>\n",
              "      <td>3</td>\n",
              "      <td>3</td>\n",
              "      <td>0</td>\n",
              "      <td>1</td>\n",
              "      <td>0</td>\n",
              "      <td>0</td>\n",
              "    </tr>\n",
              "    <tr>\n",
              "      <th>2</th>\n",
              "      <td>2</td>\n",
              "      <td>0</td>\n",
              "      <td>0</td>\n",
              "      <td>0</td>\n",
              "      <td>2</td>\n",
              "      <td>8</td>\n",
              "      <td>1</td>\n",
              "      <td>4</td>\n",
              "      <td>1</td>\n",
              "      <td>0</td>\n",
              "      <td>0</td>\n",
              "      <td>0</td>\n",
              "    </tr>\n",
              "    <tr>\n",
              "      <th>3</th>\n",
              "      <td>3</td>\n",
              "      <td>0</td>\n",
              "      <td>0</td>\n",
              "      <td>0</td>\n",
              "      <td>0</td>\n",
              "      <td>8</td>\n",
              "      <td>1</td>\n",
              "      <td>2</td>\n",
              "      <td>1</td>\n",
              "      <td>0</td>\n",
              "      <td>0</td>\n",
              "      <td>0</td>\n",
              "    </tr>\n",
              "    <tr>\n",
              "      <th>4</th>\n",
              "      <td>3</td>\n",
              "      <td>1</td>\n",
              "      <td>1</td>\n",
              "      <td>1</td>\n",
              "      <td>0</td>\n",
              "      <td>8</td>\n",
              "      <td>3</td>\n",
              "      <td>1</td>\n",
              "      <td>0</td>\n",
              "      <td>1</td>\n",
              "      <td>0</td>\n",
              "      <td>0</td>\n",
              "    </tr>\n",
              "  </tbody>\n",
              "</table>\n",
              "</div>\n",
              "      <button class=\"colab-df-convert\" onclick=\"convertToInteractive('df-cd22a981-c1a4-4b7a-9c3d-d74355ee4d3c')\"\n",
              "              title=\"Convert this dataframe to an interactive table.\"\n",
              "              style=\"display:none;\">\n",
              "        \n",
              "  <svg xmlns=\"http://www.w3.org/2000/svg\" height=\"24px\"viewBox=\"0 0 24 24\"\n",
              "       width=\"24px\">\n",
              "    <path d=\"M0 0h24v24H0V0z\" fill=\"none\"/>\n",
              "    <path d=\"M18.56 5.44l.94 2.06.94-2.06 2.06-.94-2.06-.94-.94-2.06-.94 2.06-2.06.94zm-11 1L8.5 8.5l.94-2.06 2.06-.94-2.06-.94L8.5 2.5l-.94 2.06-2.06.94zm10 10l.94 2.06.94-2.06 2.06-.94-2.06-.94-.94-2.06-.94 2.06-2.06.94z\"/><path d=\"M17.41 7.96l-1.37-1.37c-.4-.4-.92-.59-1.43-.59-.52 0-1.04.2-1.43.59L10.3 9.45l-7.72 7.72c-.78.78-.78 2.05 0 2.83L4 21.41c.39.39.9.59 1.41.59.51 0 1.02-.2 1.41-.59l7.78-7.78 2.81-2.81c.8-.78.8-2.07 0-2.86zM5.41 20L4 18.59l7.72-7.72 1.47 1.35L5.41 20z\"/>\n",
              "  </svg>\n",
              "      </button>\n",
              "      \n",
              "  <style>\n",
              "    .colab-df-container {\n",
              "      display:flex;\n",
              "      flex-wrap:wrap;\n",
              "      gap: 12px;\n",
              "    }\n",
              "\n",
              "    .colab-df-convert {\n",
              "      background-color: #E8F0FE;\n",
              "      border: none;\n",
              "      border-radius: 50%;\n",
              "      cursor: pointer;\n",
              "      display: none;\n",
              "      fill: #1967D2;\n",
              "      height: 32px;\n",
              "      padding: 0 0 0 0;\n",
              "      width: 32px;\n",
              "    }\n",
              "\n",
              "    .colab-df-convert:hover {\n",
              "      background-color: #E2EBFA;\n",
              "      box-shadow: 0px 1px 2px rgba(60, 64, 67, 0.3), 0px 1px 3px 1px rgba(60, 64, 67, 0.15);\n",
              "      fill: #174EA6;\n",
              "    }\n",
              "\n",
              "    [theme=dark] .colab-df-convert {\n",
              "      background-color: #3B4455;\n",
              "      fill: #D2E3FC;\n",
              "    }\n",
              "\n",
              "    [theme=dark] .colab-df-convert:hover {\n",
              "      background-color: #434B5C;\n",
              "      box-shadow: 0px 1px 3px 1px rgba(0, 0, 0, 0.15);\n",
              "      filter: drop-shadow(0px 1px 2px rgba(0, 0, 0, 0.3));\n",
              "      fill: #FFFFFF;\n",
              "    }\n",
              "  </style>\n",
              "\n",
              "      <script>\n",
              "        const buttonEl =\n",
              "          document.querySelector('#df-cd22a981-c1a4-4b7a-9c3d-d74355ee4d3c button.colab-df-convert');\n",
              "        buttonEl.style.display =\n",
              "          google.colab.kernel.accessAllowed ? 'block' : 'none';\n",
              "\n",
              "        async function convertToInteractive(key) {\n",
              "          const element = document.querySelector('#df-cd22a981-c1a4-4b7a-9c3d-d74355ee4d3c');\n",
              "          const dataTable =\n",
              "            await google.colab.kernel.invokeFunction('convertToInteractive',\n",
              "                                                     [key], {});\n",
              "          if (!dataTable) return;\n",
              "\n",
              "          const docLinkHtml = 'Like what you see? Visit the ' +\n",
              "            '<a target=\"_blank\" href=https://colab.research.google.com/notebooks/data_table.ipynb>data table notebook</a>'\n",
              "            + ' to learn more about interactive tables.';\n",
              "          element.innerHTML = '';\n",
              "          dataTable['output_type'] = 'display_data';\n",
              "          await google.colab.output.renderOutput(dataTable, element);\n",
              "          const docLink = document.createElement('div');\n",
              "          docLink.innerHTML = docLinkHtml;\n",
              "          element.appendChild(docLink);\n",
              "        }\n",
              "      </script>\n",
              "    </div>\n",
              "  </div>\n",
              "  "
            ]
          },
          "metadata": {},
          "execution_count": 62
        }
      ]
    },
    {
      "cell_type": "markdown",
      "source": [
        "#**S7 : Data Modelling**"
      ],
      "metadata": {
        "id": "_j6dk8FZ7XVf"
      }
    },
    {
      "cell_type": "code",
      "source": [
        "#import sklearn\n",
        "\n",
        "from sklearn.linear_model import LogisticRegression\n",
        "from sklearn.neighbors import KNeighborsClassifier\n",
        "from sklearn.svm import SVC, LinearSVC\n",
        "from sklearn.tree import DecisionTreeClassifier\n",
        "from sklearn.model_selection import train_test_split\n",
        "from sklearn.model_selection import GridSearchCV\n",
        "from sklearn.preprocessing import MinMaxScaler\n",
        "\n",
        "print ('All done')"
      ],
      "metadata": {
        "id": "kEKQXmGNWs-z",
        "colab": {
          "base_uri": "https://localhost:8080/"
        },
        "outputId": "d34b8f1b-3088-40d7-8bc6-19189b4ac301"
      },
      "execution_count": null,
      "outputs": [
        {
          "output_type": "stream",
          "name": "stdout",
          "text": [
            "All done\n"
          ]
        }
      ]
    },
    {
      "cell_type": "code",
      "source": [
        "# Model Preprocessing.\n",
        "\n",
        "X = df8\n",
        "y = df6[\"Survived\"]\n",
        "val  = df8_test"
      ],
      "metadata": {
        "id": "40t4I-KlZEmE"
      },
      "execution_count": null,
      "outputs": []
    },
    {
      "cell_type": "code",
      "source": [
        "# Split the dataset to train and test dataset\n",
        "\n",
        "X_train, X_test, y_train, y_test = train_test_split(X, y, test_size = 0.25 , \n",
        "                                  random_state = 42, stratify = y)"
      ],
      "metadata": {
        "id": "fETJUIsh61UQ"
      },
      "execution_count": null,
      "outputs": []
    },
    {
      "cell_type": "code",
      "source": [
        "#logistic regression\n",
        "\n",
        "# Define param grid\n",
        "lr_param_grid = {'fit_intercept': [True,False],\n",
        "                 'C': [0.001, 0.004, 0.01, 0.1, 1],\n",
        "                 'penalty' : ['l1', 'l2']}\n",
        "\n",
        "logr_grid = GridSearchCV(LogisticRegression(solver='liblinear'), \n",
        "                    lr_param_grid, scoring='roc_auc', cv=5, return_train_score=True)\n",
        "\n",
        "# Fit the data to gridsearchCV\n",
        "logr_grid.fit(X_train, y_train)\n",
        "\n",
        "# Show best parameters\n",
        "print(\"Logistic Regression best parameters: \",logr_grid.best_params_)\n",
        "\n",
        "# Define Logistic Regression with best estimator\n",
        "logr_model = logr_grid.best_estimator_\n",
        "print(\"Logistic Regression Training best scores: \",logr_grid.best_score_)"
      ],
      "metadata": {
        "id": "Wd5PNB1ZXC0e",
        "colab": {
          "base_uri": "https://localhost:8080/"
        },
        "outputId": "bb02f34a-740a-4a27-82d7-530ab7a61e6f"
      },
      "execution_count": null,
      "outputs": [
        {
          "output_type": "stream",
          "name": "stdout",
          "text": [
            "Logistic Regression best parameters:  {'C': 1, 'fit_intercept': True, 'penalty': 'l1'}\n",
            "Logistic Regression Training best scores:  0.859895641499892\n"
          ]
        }
      ]
    },
    {
      "cell_type": "code",
      "source": [
        "#Linear Support Vector Machine:\n",
        "\n",
        "from sklearn.svm import SVC\n",
        "\n",
        "svc_param_grid = {'C': [0.001, 0.004, 0.01, 0.1, 1],\n",
        "                  'kernel' : ['linear', 'rbf', 'poly'],\n",
        "                  'gamma' : [0.001, 0.004, 0.01, 0.1, 1]\n",
        "                 }\n",
        "\n",
        "svc_grid = GridSearchCV(SVC(), \n",
        "                    svc_param_grid, scoring='roc_auc', cv=5, return_train_score=True)\n",
        "\n",
        "svc_grid.fit(X_train, y_train)\n",
        "print(\"SVC best parameters: \",svc_grid.best_params_)\n",
        "svc_model = svc_grid.best_estimator_\n",
        "print(\"SVC Training best scores: \",svc_grid.best_score_)\n"
      ],
      "metadata": {
        "id": "n02A1kZ9XkcV",
        "colab": {
          "base_uri": "https://localhost:8080/"
        },
        "outputId": "7b927309-1b9e-43f0-c62d-f1ff4d717512"
      },
      "execution_count": null,
      "outputs": [
        {
          "output_type": "stream",
          "name": "stdout",
          "text": [
            "SVC best parameters:  {'C': 0.1, 'gamma': 0.1, 'kernel': 'poly'}\n",
            "SVC Training best scores:  0.8642450665702208\n"
          ]
        }
      ]
    },
    {
      "cell_type": "code",
      "source": [
        "#decision tree\n",
        "\n",
        "# Define param grid\n",
        "dt_param_grid = {'max_depth': np.arange(1,10)}\n",
        "\n",
        "dt_grid = GridSearchCV(DecisionTreeClassifier(random_state=1), \n",
        "                    dt_param_grid, scoring='roc_auc', cv=5, return_train_score=True)\n",
        "\n",
        "# Fit the data to gridsearchCV\n",
        "dt_grid.fit(X_train, y_train)\n",
        "\n",
        "# Show best parameters\n",
        "print(\"Decision Tree best parameters: \",dt_grid.best_params_)\n",
        "\n",
        "# Define Decision Tree with best estimator\n",
        "dt_model = dt_grid.best_estimator_\n",
        "print(\"Decision Tree Training best scores: \",dt_grid.best_score_)\n"
      ],
      "metadata": {
        "id": "Yv6Rv7jbYUDp",
        "colab": {
          "base_uri": "https://localhost:8080/"
        },
        "outputId": "0b9c84ab-6652-4656-d355-69a5d6624682"
      },
      "execution_count": null,
      "outputs": [
        {
          "output_type": "stream",
          "name": "stdout",
          "text": [
            "Decision Tree best parameters:  {'max_depth': 3}\n",
            "Decision Tree Training best scores:  0.850957006483056\n"
          ]
        }
      ]
    },
    {
      "cell_type": "code",
      "source": [
        "#KNN\n",
        "\n",
        "# KNN Classifier\n",
        "\n",
        "#define param grid\n",
        "knn_param_grid = {'n_neighbors': np.arange(1, 10),\n",
        "              'p': [1,2],\n",
        "              'weights': ['uniform','distance']}\n",
        "\n",
        "knn_grid = GridSearchCV(KNeighborsClassifier(), \n",
        "                    knn_param_grid, scoring='roc_auc', cv=5, return_train_score=True)\n",
        "\n",
        "#fit the data to gridsearchCV\n",
        "knn_grid.fit(X_train, y_train)\n",
        "\n",
        "#Show best parameters\n",
        "print(\"KNN Best Parameters\", knn_grid.best_params_)\n",
        "\n",
        "#Define KNN with best estimator\n",
        "knn_model = knn_grid.best_estimator_\n",
        "print(\"K-Nearest Neighbour Training best scores: \",knn_grid.best_score_)\n"
      ],
      "metadata": {
        "id": "T2cTQLogXeQM",
        "colab": {
          "base_uri": "https://localhost:8080/"
        },
        "outputId": "3fa627a8-c0be-48a3-e712-226052a19300"
      },
      "execution_count": null,
      "outputs": [
        {
          "output_type": "stream",
          "name": "stdout",
          "text": [
            "KNN Best Parameters {'n_neighbors': 9, 'p': 2, 'weights': 'uniform'}\n",
            "K-Nearest Neighbour Training best scores:  0.8481032229569418\n"
          ]
        }
      ]
    },
    {
      "cell_type": "code",
      "source": [
        "#polynomial logistic regression\n",
        "\n",
        "from sklearn.pipeline import make_pipeline\n",
        "from sklearn.preprocessing import PolynomialFeatures\n",
        "\n",
        "poly_pipeline = make_pipeline(PolynomialFeatures(degree=2, include_bias=False),\n",
        "                             MinMaxScaler(),\n",
        "                             LogisticRegression())\n",
        "poly_pipeline\n",
        "\n",
        "pip_param_grid = {'polynomialfeatures__degree':[1,2,3],\n",
        "                 'logisticregression__C':[0.001, 0.004, 0.01, 0.1, 0.4, 1, 10, 50, 100],\n",
        "                 'logisticregression__penalty':['l1','l2'],\n",
        "                 'logisticregression__solver':['liblinear'],\n",
        "                 'logisticregression__fit_intercept':[True,False]}\n",
        "\n",
        "pip_grid = GridSearchCV(poly_pipeline, pip_param_grid, cv=5, scoring='roc_auc', \n",
        "                        return_train_score=True)\n",
        "pip_grid.fit(X_train, y_train)\n",
        "print(\"Logistic Regression Polynomial best parameters: \",pip_grid.best_params_)\n",
        "pip_model = pip_grid.best_estimator_\n",
        "print(\"Logistic Regression Polynomial best scores: \",pip_grid.best_score_)"
      ],
      "metadata": {
        "colab": {
          "base_uri": "https://localhost:8080/"
        },
        "id": "b-QIR5fA83s_",
        "outputId": "3f5958a7-a2bc-4f12-96ae-32ccced5ad77"
      },
      "execution_count": null,
      "outputs": [
        {
          "output_type": "stream",
          "name": "stdout",
          "text": [
            "Logistic Regression Polynomial best parameters:  {'logisticregression__C': 0.4, 'logisticregression__fit_intercept': False, 'logisticregression__penalty': 'l1', 'logisticregression__solver': 'liblinear', 'polynomialfeatures__degree': 3}\n",
            "Logistic Regression Polynomial best scores:  0.8727189854218775\n"
          ]
        }
      ]
    },
    {
      "cell_type": "markdown",
      "source": [
        "#**S8 : Evaluation**"
      ],
      "metadata": {
        "id": "-WVnKdhcC7T4"
      }
    },
    {
      "cell_type": "code",
      "source": [
        "from sklearn.metrics import confusion_matrix\n",
        "from sklearn.metrics import accuracy_score, precision_score, recall_score, f1_score, classification_report"
      ],
      "metadata": {
        "id": "2G8YTScd9-mm"
      },
      "execution_count": null,
      "outputs": []
    },
    {
      "cell_type": "code",
      "source": [
        "knn_pred = knn_model.predict(X_test)\n",
        "print(\"Knn Best model confusion matrix on test data \\n\", confusion_matrix(y_test, knn_pred))\n",
        "print(\"*****************************************\")\n",
        "print(\"Knn Best model Precision score on test data = {:.5f}\".format(precision_score(y_test, knn_pred)))\n",
        "print(\"Knn Best model Recall score on test data = {:.5f}\".format(recall_score(y_test, knn_pred)))\n",
        "print(\"Knn Best model F1 score on test data = {:.5f}\".format(f1_score(y_test, knn_pred)))\n",
        "print(\"Knn Best model Accuracy score on test data = {:.5f}\".format(accuracy_score(y_test, knn_pred)))\n",
        "print(\"*****************************************\")\n",
        "print(classification_report(y_test, knn_pred))"
      ],
      "metadata": {
        "colab": {
          "base_uri": "https://localhost:8080/"
        },
        "id": "C0QhQrKnCtl9",
        "outputId": "7e6733fe-1848-425b-e3a2-622a0d6d04c3"
      },
      "execution_count": null,
      "outputs": [
        {
          "output_type": "stream",
          "name": "stdout",
          "text": [
            "Knn Best model confusion matrix on test data \n",
            " [[122  15]\n",
            " [ 31  55]]\n",
            "*****************************************\n",
            "Knn Best model Precision score on test data = 0.78571\n",
            "Knn Best model Recall score on test data = 0.63953\n",
            "Knn Best model F1 score on test data = 0.70513\n",
            "Knn Best model Accuracy score on test data = 0.79372\n",
            "*****************************************\n",
            "              precision    recall  f1-score   support\n",
            "\n",
            "           0       0.80      0.89      0.84       137\n",
            "           1       0.79      0.64      0.71        86\n",
            "\n",
            "    accuracy                           0.79       223\n",
            "   macro avg       0.79      0.77      0.77       223\n",
            "weighted avg       0.79      0.79      0.79       223\n",
            "\n"
          ]
        }
      ]
    },
    {
      "cell_type": "code",
      "source": [
        "dt_pred = dt_model.predict(X_test)\n",
        "print(\"DT Best model confusion matrix on test data \\n\", confusion_matrix(y_test, dt_pred))\n",
        "print(\"*****************************************\")\n",
        "print(\"DT Best model Precision score on test data = {:.5f}\".format(precision_score(y_test, dt_pred)))\n",
        "print(\"DT Best model Recall score on test data = {:.5f}\".format(recall_score(y_test, dt_pred)))\n",
        "print(\"DT Best model F1 score on test data = {:.5f}\".format(f1_score(y_test, dt_pred)))\n",
        "print(\"Dt Best model Accuracy score on test data = {:.5f}\".format(accuracy_score(y_test, dt_pred)))\n",
        "print(\"*****************************************\")\n",
        "print(classification_report(y_test, dt_pred))"
      ],
      "metadata": {
        "id": "z-pnjPpdD8yf",
        "colab": {
          "base_uri": "https://localhost:8080/"
        },
        "outputId": "dd1313b2-92bb-42f6-c10d-cfe574359ebd"
      },
      "execution_count": null,
      "outputs": [
        {
          "output_type": "stream",
          "name": "stdout",
          "text": [
            "DT Best model confusion matrix on test data \n",
            " [[118  19]\n",
            " [ 24  62]]\n",
            "*****************************************\n",
            "DT Best model Precision score on test data = 0.76543\n",
            "DT Best model Recall score on test data = 0.72093\n",
            "DT Best model F1 score on test data = 0.74251\n",
            "Dt Best model Accuracy score on test data = 0.80717\n",
            "*****************************************\n",
            "              precision    recall  f1-score   support\n",
            "\n",
            "           0       0.83      0.86      0.85       137\n",
            "           1       0.77      0.72      0.74        86\n",
            "\n",
            "    accuracy                           0.81       223\n",
            "   macro avg       0.80      0.79      0.79       223\n",
            "weighted avg       0.81      0.81      0.81       223\n",
            "\n"
          ]
        }
      ]
    },
    {
      "cell_type": "code",
      "source": [
        "logr_pred = logr_model.predict(X_test)\n",
        "print(\"LR Best model confusion matrix on test data \\n\", confusion_matrix(y_test, logr_pred))\n",
        "print(\"*****************************************\")\n",
        "print(\"LR Best model Precision score on test data = {:.5f}\".format(precision_score(y_test, logr_pred)))\n",
        "print(\"LR Best model Recall score on test data = {:.5f}\".format(recall_score(y_test, logr_pred)))\n",
        "print(\"LR Best model F1 score on test data = {:.5f}\".format(f1_score(y_test, logr_pred)))\n",
        "print(\"LR Best model Accuracy score on test data = {:.5f}\".format(accuracy_score(y_test, logr_pred)))\n",
        "print(\"*****************************************\")\n",
        "print(classification_report(y_test, logr_pred))"
      ],
      "metadata": {
        "colab": {
          "base_uri": "https://localhost:8080/"
        },
        "id": "GXIalW3q-GGC",
        "outputId": "af976a00-c7dd-499b-9f25-91fb477f00ae"
      },
      "execution_count": null,
      "outputs": [
        {
          "output_type": "stream",
          "name": "stdout",
          "text": [
            "LR Best model confusion matrix on test data \n",
            " [[116  21]\n",
            " [ 24  62]]\n",
            "*****************************************\n",
            "LR Best model Precision score on test data = 0.74699\n",
            "LR Best model Recall score on test data = 0.72093\n",
            "LR Best model F1 score on test data = 0.73373\n",
            "LR Best model Accuracy score on test data = 0.79821\n",
            "*****************************************\n",
            "              precision    recall  f1-score   support\n",
            "\n",
            "           0       0.83      0.85      0.84       137\n",
            "           1       0.75      0.72      0.73        86\n",
            "\n",
            "    accuracy                           0.80       223\n",
            "   macro avg       0.79      0.78      0.79       223\n",
            "weighted avg       0.80      0.80      0.80       223\n",
            "\n"
          ]
        }
      ]
    },
    {
      "cell_type": "code",
      "source": [
        "svc_pred = svc_model.predict(X_test)\n",
        "print(\"SVC Best model confusion matrix on test data \\n\", confusion_matrix(y_test, svc_pred))\n",
        "print(\"*****************************************\")\n",
        "print(\"SVC Best model Precision score on test data = {:.5f}\".format(precision_score(y_test, svc_pred)))\n",
        "print(\"SVC Best model Recall score on test data = {:.5f}\".format(recall_score(y_test, svc_pred)))\n",
        "print(\"SVC Best model F1 score on test data = {:.5f}\".format(f1_score(y_test, svc_pred)))\n",
        "print(\"SVC Best model Accuracy score on test data = {:.5f}\".format(accuracy_score(y_test, svc_pred)))\n",
        "print(classification_report(y_test, svc_pred))"
      ],
      "metadata": {
        "colab": {
          "base_uri": "https://localhost:8080/"
        },
        "id": "DlLMrl5S-J3o",
        "outputId": "f3bea08c-ccb6-41d5-ded4-114644822232"
      },
      "execution_count": null,
      "outputs": [
        {
          "output_type": "stream",
          "name": "stdout",
          "text": [
            "SVC Best model confusion matrix on test data \n",
            " [[118  19]\n",
            " [ 24  62]]\n",
            "*****************************************\n",
            "SVC Best model Precision score on test data = 0.76543\n",
            "SVC Best model Recall score on test data = 0.72093\n",
            "SVC Best model F1 score on test data = 0.74251\n",
            "SVC Best model Accuracy score on test data = 0.80717\n",
            "              precision    recall  f1-score   support\n",
            "\n",
            "           0       0.83      0.86      0.85       137\n",
            "           1       0.77      0.72      0.74        86\n",
            "\n",
            "    accuracy                           0.81       223\n",
            "   macro avg       0.80      0.79      0.79       223\n",
            "weighted avg       0.81      0.81      0.81       223\n",
            "\n"
          ]
        }
      ]
    },
    {
      "cell_type": "code",
      "source": [
        "pip_pred = pip_model.predict(X_test)\n",
        "print(\"PIP Best model confusion matrix on test data \\n\", confusion_matrix(y_test, pip_pred))\n",
        "print(\"*****************************************\")\n",
        "print(\"PIP Best model Precision score on test data = {:.5f}\".format(precision_score(y_test, pip_pred)))\n",
        "print(\"PIP Best model Recall score on test data = {:.5f}\".format(recall_score(y_test, pip_pred)))\n",
        "print(\"PIP Best model F1 score on test data = {:.5f}\".format(f1_score(y_test, pip_pred)))\n",
        "print(\"PIP Best model Accuracy score on test data = {:.5f}\".format(accuracy_score(y_test, pip_pred)))\n",
        "print(classification_report(y_test, pip_pred))"
      ],
      "metadata": {
        "colab": {
          "base_uri": "https://localhost:8080/"
        },
        "id": "TPUN3Lfm-MGO",
        "outputId": "9de60f7b-3f8c-4700-96f8-27b01141a7df"
      },
      "execution_count": null,
      "outputs": [
        {
          "output_type": "stream",
          "name": "stdout",
          "text": [
            "PIP Best model confusion matrix on test data \n",
            " [[119  18]\n",
            " [ 27  59]]\n",
            "*****************************************\n",
            "PIP Best model Precision score on test data = 0.76623\n",
            "PIP Best model Recall score on test data = 0.68605\n",
            "PIP Best model F1 score on test data = 0.72393\n",
            "PIP Best model Accuracy score on test data = 0.79821\n",
            "              precision    recall  f1-score   support\n",
            "\n",
            "           0       0.82      0.87      0.84       137\n",
            "           1       0.77      0.69      0.72        86\n",
            "\n",
            "    accuracy                           0.80       223\n",
            "   macro avg       0.79      0.78      0.78       223\n",
            "weighted avg       0.80      0.80      0.80       223\n",
            "\n"
          ]
        }
      ]
    },
    {
      "cell_type": "code",
      "source": [
        "from sklearn.metrics import roc_curve\n",
        "\n",
        "\n",
        "y_scores_logr = logr_grid.fit(X_train, y_train).decision_function(X_test)\n",
        "\n",
        "\n",
        "y_proba_knn = knn_grid.fit(X_train, y_train).predict_proba(X_test)\n",
        "\n",
        "\n",
        "y_scores_svc = svc_grid.fit(X_train, y_train).decision_function(X_test)\n",
        "\n",
        "\n",
        "y_scores_pip = pip_grid.fit(X_train, y_train).decision_function(X_test)\n",
        "\n",
        "y_proba_dt = dt_grid.fit(X_train, y_train).predict_proba(X_test)\n",
        "\n",
        "\n",
        "fpr_logr, tpr_logr, _ = roc_curve(y_test, y_scores_logr)\n",
        "fpr_knn, tpr_knn, _ = roc_curve(y_test, y_proba_knn[:,1])\n",
        "fpr_svc, tpr_svc, _ = roc_curve(y_test, y_scores_svc)\n",
        "fpr_dt, tpr_dt, _ = roc_curve(y_test, y_proba_dt[:,1])\n",
        "fpr_pip, tpr_pip, _ = roc_curve(y_test, y_scores_pip)\n",
        "\n",
        "\n",
        "plt.figure(figsize=(7,7))\n",
        "plt.xlim([-0.01, 1.00])\n",
        "plt.ylim([-0.01, 1.01])\n",
        "\n",
        "plt.plot(fpr_logr, tpr_logr, lw=1, label='LogRegr: ROC curve', color='red')\n",
        "plt.plot(fpr_knn, tpr_knn, lw=1, label='KNeighbors: ROC curve', color='blue')\n",
        "plt.plot(fpr_svc, tpr_svc, lw=1, label='SVM: ROC curve', color='green')\n",
        "plt.plot(fpr_dt, tpr_dt, lw=1, label='DT: ROC curve', color='pink')\n",
        "plt.plot(fpr_pip, tpr_pip, lw=1, label='PolyReg: ROC curve', color='orange')\n",
        "\n",
        "plt.xlabel('False Positive Rate', fontsize=16)\n",
        "plt.ylabel('True Positive Rate', fontsize=16)\n",
        "plt.title('ROC curve (1-of-10 digits classifier)', fontsize=16)\n",
        "plt.legend(loc='lower right', fontsize=13)\n",
        "plt.show()"
      ],
      "metadata": {
        "colab": {
          "base_uri": "https://localhost:8080/",
          "height": 465
        },
        "id": "_DrPxtP4-OSk",
        "outputId": "b7c61ca5-1979-4c26-9878-99e628853428"
      },
      "execution_count": null,
      "outputs": [
        {
          "output_type": "display_data",
          "data": {
            "text/plain": [
              "<Figure size 504x504 with 1 Axes>"
            ],
            "image/png": "[encoded data removed]"
          },
          "metadata": {
            "needs_background": "light"
          }
        }
      ]
    },
    {
      "cell_type": "code",
      "source": [
        "from sklearn.metrics import roc_auc_score\n",
        "\n",
        "print(\"svc_roc =\", roc_auc_score(y_test, y_scores_svc) )\n",
        "print(\"dt_roc =\", roc_auc_score(y_test,  y_proba_dt[:,1]) )\n",
        "print(\"logr_roc =\", roc_auc_score(y_test, y_scores_logr) )\n",
        "print(\"pip_roc =\", roc_auc_score(y_test, y_scores_pip) )\n",
        "print(\"knn_roc =\", roc_auc_score(y_test, y_proba_knn[:,1]) )"
      ],
      "metadata": {
        "colab": {
          "base_uri": "https://localhost:8080/"
        },
        "id": "POlD1ayZOlxv",
        "outputId": "b6521184-b8b4-4c3f-8b5c-75979b4f402b"
      },
      "execution_count": null,
      "outputs": [
        {
          "output_type": "stream",
          "name": "stdout",
          "text": [
            "svc_roc = 0.8668307587845866\n",
            "dt_roc = 0.8509166525207944\n",
            "logr_roc = 0.8512985910711254\n",
            "pip_roc = 0.8578764216601596\n",
            "knn_roc = 0.8290612799185199\n"
          ]
        }
      ]
    },
    {
      "cell_type": "code",
      "source": [
        "from sklearn.metrics import precision_recall_curve\n",
        "\n",
        "lr_precision, lr_recall, lr_thresholds = precision_recall_curve(y_test, y_scores_logr)\n",
        "knn_precision, knn_recall, knn_thresholds = precision_recall_curve(y_test, y_proba_knn[:,1])\n",
        "lsvm_precision, lsvm_recall, lsvm_thresholds = precision_recall_curve(y_test, y_scores_svc)\n",
        "dt_precision, dt_recall, dt_thresholds = precision_recall_curve(y_test, y_proba_dt[:,1])\n",
        "pip_precision, pip_recall, pip_thresholds = precision_recall_curve(y_test, y_scores_pip)\n",
        "\n",
        "plt.figure()\n",
        "plt.xlim([0.0, 1.01])\n",
        "plt.ylim([0.0, 1.01])\n",
        "plt.plot(lr_recall , lr_precision, lw=1,  label='LogReg: Precision-Recall Curve', color='red')\n",
        "plt.plot(knn_recall, knn_precision, lw=1, label='KNeighbors: Precision-Recall Curve', color='blue')\n",
        "plt.plot(lsvm_recall, lsvm_precision, lw=1, label='SVM: Precision-Recall Curve', color='green')\n",
        "plt.plot(dt_recall, dt_precision, lw=1, label='DT: Precision-Recall Curve', color='pink')\n",
        "plt.plot(pip_recall, pip_precision, lw=1, label='PolyReg: Precision-Recall Curve', color='orange')\n",
        "plt.xlabel('Recall', fontsize=16)\n",
        "plt.ylabel('Precision', fontsize=16)\n",
        "plt.legend(loc='lower left', fontsize=10)\n",
        "# plt.axes().set_aspect('equal')\n",
        "plt.show()"
      ],
      "metadata": {
        "colab": {
          "base_uri": "https://localhost:8080/",
          "height": 286
        },
        "id": "uWfB34n3Ro-i",
        "outputId": "cf211a1a-5047-4b18-e291-8acc2e5b3a8c"
      },
      "execution_count": null,
      "outputs": [
        {
          "output_type": "display_data",
          "data": {
            "text/plain": [
              "<Figure size 432x288 with 1 Axes>"
            ],
            "image/png": "[encoded data removed]"
          },
          "metadata": {
            "needs_background": "light"
          }
        }
      ]
    },
    {
      "cell_type": "markdown",
      "source": [
        "SVC and DT has the highest precision, recall, f1-score and accuracy.\n",
        "\n",
        "SVC has the highest ROC value.\n",
        "\n",
        "Hence, SVC model is choose from the other train models."
      ],
      "metadata": {
        "id": "mjjeGTG-ZcFc"
      }
    }
  ]
}